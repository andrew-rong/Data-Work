{
 "cells": [
  {
   "cell_type": "code",
   "execution_count": 83,
   "metadata": {},
   "outputs": [],
   "source": [
    "import numpy as np\n",
    "import pandas as pd\n",
    "import matplotlib.pyplot as plt\n",
    "from scipy.stats import norm\n",
    "np.set_printoptions(precision=2)\n",
    "pd.set_option(\"display.precision\", 2)\n",
    "%matplotlib inline"
   ]
  },
  {
   "cell_type": "markdown",
   "metadata": {},
   "source": [
    "# 1a\n",
    "## GBM function that takes the following parameters:\n",
    "### n := number of paths to be simulated\n",
    "### m := number of discritization points per path\n",
    "### S0 := initial starting point\n",
    "$$ \\frac{dS}{S} = \\mu dt + \\sigma dW $$"
   ]
  },
  {
   "cell_type": "code",
   "execution_count": 85,
   "metadata": {},
   "outputs": [],
   "source": [
    "def GBM(n,m,S0,mu,sigma,dt):\n",
    "    np.random.seed(999)\n",
    "    arr = np.zeros((n , m))\n",
    "    for i in range(n):\n",
    "        for j in range(m):\n",
    "            arr[i,j] = S0 * np.exp( (mu - (sigma ** 2)/2) * dt + sigma * np.sqrt(dt) * np.random.normal(0, 1))\n",
    "    return arr"
   ]
  },
  {
   "cell_type": "markdown",
   "metadata": {},
   "source": [
    "# 1b\n",
    "## Calculate Call option using Black-Scholes Formula"
   ]
  },
  {
   "cell_type": "code",
   "execution_count": 86,
   "metadata": {},
   "outputs": [
    {
     "name": "stdout",
     "output_type": "stream",
     "text": [
      " d1 =  0.2239 | N(d1) = 0.5886 | d2 = 0.0118 | N(d2) = 0.5047 | C = 4.8174\n"
     ]
    }
   ],
   "source": [
    "####### do not change these values #########\n",
    "S0 = 50\n",
    "K = 50\n",
    "r = 0.05\n",
    "sigma = 0.3\n",
    "T = 0.5\n",
    "######################################\n",
    "\n",
    "d1 = (np.log(S0/K) + (r + (sigma**2)/2) * T) / (np.sqrt(T) * sigma)\n",
    "d2 = (np.log(S0/K) + (r - (sigma**2)/2) * T) / (np.sqrt(T) * sigma)\n",
    "C = S0 * norm.cdf(d1) - K * np.exp(-r * T) * norm.cdf(d2)\n",
    "print(f\" d1 =  {round(d1,4)} | N(d1) = {round(norm.cdf(d1), 4)} | d2 = {round(d2, 4)} | N(d2) = {round(norm.cdf(d2), 4)} | C = {round(C, 4)}\")"
   ]
  },
  {
   "cell_type": "markdown",
   "metadata": {},
   "source": [
    "# 1c\n",
    "## compute call option price using monte carlo simulation\n",
    "## using $$ S_T = S_0 e^{(r-\\frac{\\sigma^2}{2})T+\\sigma\\epsilon\\sqrt{T}}$$\n",
    "## by using the GBM function in part (a1) for n=1000"
   ]
  },
  {
   "cell_type": "code",
   "execution_count": 87,
   "metadata": {},
   "outputs": [
    {
     "name": "stdout",
     "output_type": "stream",
     "text": [
      " C = [4.95] | CIL = [4.47] | CIU = [5.43] \n"
     ]
    }
   ],
   "source": [
    "S0 = 50\n",
    "K = 50\n",
    "r = 0.05\n",
    "sigma = 0.3\n",
    "T = 0.5\n",
    "\n",
    "######################################\n",
    "x = GBM(1000, 1, S0, r , sigma, T)\n",
    "S_T = x[-1]\n",
    "y = []\n",
    "for i in x:\n",
    "    if i - K > 0:\n",
    "        y.append(i-K)\n",
    "    else:\n",
    "        y.append(0)\n",
    "\n",
    "sd  = np.std(y) \n",
    "\n",
    "C = np.mean(y)\n",
    "print(f\" C = {C} | CIL = {C - norm.ppf(0.975) * sd / np.sqrt(1000)} | CIU = {C + norm.ppf(0.975) * sd / np.sqrt(1000)} \")"
   ]
  },
  {
   "cell_type": "markdown",
   "metadata": {},
   "source": [
    "## We will see how the average of MC simulations will get closer and closer to the expectation of the ABM as we increase the number of simulations, the solution for ABM is:\n",
    "$$S = S0 + \\mu * t + \\sigma W_t$$\n",
    "$$E[S] = S0 + \\mu * t$$"
   ]
  },
  {
   "cell_type": "markdown",
   "metadata": {},
   "source": [
    "# 2a Create ABM function"
   ]
  },
  {
   "cell_type": "code",
   "execution_count": 88,
   "metadata": {},
   "outputs": [],
   "source": [
    "def ABM(n,m,S0,mu,sigma,dt):\n",
    "    np.random.seed(999)\n",
    "    arr = np.zeros((n , m))\n",
    "    arr[:, 0] = S0\n",
    "    for i in range(n):\n",
    "        for j in range(m-1):\n",
    "            arr[i,j+1] = float(arr[i,j])  + mu * dt + sigma * np.sqrt(dt) * np.random.normal(0, 1)\n",
    "    return arr"
   ]
  },
  {
   "cell_type": "markdown",
   "metadata": {},
   "source": [
    "# 2b\n",
    "## plot the mean path of all ABM generated for ABM(n=100,m=20,S0=10,mu=0,sigma=1,dt=1)\n",
    "## i.e get the mean across all paths for each time step "
   ]
  },
  {
   "cell_type": "code",
   "execution_count": 89,
   "metadata": {},
   "outputs": [
    {
     "data": {
      "text/plain": [
       "[<matplotlib.lines.Line2D at 0x13c8bef8>]"
      ]
     },
     "execution_count": 89,
     "metadata": {},
     "output_type": "execute_result"
    },
    {
     "data": {
      "image/png": "[encoded data removed]",
      "text/plain": [
       "<Figure size 432x288 with 1 Axes>"
      ]
     },
     "metadata": {
      "needs_background": "light"
     },
     "output_type": "display_data"
    }
   ],
   "source": [
    "x = ABM(100, 20, 10, 0, 1, 1)\n",
    "\n",
    "y = []\n",
    "for i in range(20):\n",
    "    y.append(x[:, i].mean())\n",
    "\n",
    "plt.ylabel(\"Mean Value\")\n",
    "plt.xlabel(\"Time Step\")\n",
    "plt.plot(range(20), y)"
   ]
  },
  {
   "cell_type": "markdown",
   "metadata": {},
   "source": [
    "# 2c\n",
    "## plot the mean path of all ABM generated for ABM(n=1000,m=20,S0=10,mu=0,sigma=1,dt=1)\n",
    "## i.e get the mean across all paths for each time step "
   ]
  },
  {
   "cell_type": "code",
   "execution_count": 90,
   "metadata": {},
   "outputs": [
    {
     "data": {
      "text/plain": [
       "[<matplotlib.lines.Line2D at 0x15469e50>]"
      ]
     },
     "execution_count": 90,
     "metadata": {},
     "output_type": "execute_result"
    },
    {
     "data": {
      "image/png": "[encoded data removed]",
      "text/plain": [
       "<Figure size 432x288 with 1 Axes>"
      ]
     },
     "metadata": {
      "needs_background": "light"
     },
     "output_type": "display_data"
    }
   ],
   "source": [
    "x = ABM(1000, 20, 10, 0, 1, 1)\n",
    "\n",
    "y = []\n",
    "for i in range(20):\n",
    "    y.append(x[:, i].mean())\n",
    "\n",
    "plt.ylabel(\"Mean Value\")\n",
    "plt.xlabel(\"Time Step\")\n",
    "plt.plot(range(20), y)"
   ]
  },
  {
   "cell_type": "markdown",
   "metadata": {},
   "source": [
    "# 2d\n",
    "## plot the mean path of all ABM generated for ABM(n=100000,m=20,S0=10,mu=0,sigma=1,dt=1)\n",
    "## .e get the mean across all paths for each time step "
   ]
  },
  {
   "cell_type": "code",
   "execution_count": 91,
   "metadata": {},
   "outputs": [
    {
     "data": {
      "text/plain": [
       "[<matplotlib.lines.Line2D at 0x1549de20>]"
      ]
     },
     "execution_count": 91,
     "metadata": {},
     "output_type": "execute_result"
    },
    {
     "data": {
      "image/png": "[encoded data removed]",
      "text/plain": [
       "<Figure size 432x288 with 1 Axes>"
      ]
     },
     "metadata": {
      "needs_background": "light"
     },
     "output_type": "display_data"
    }
   ],
   "source": [
    "x = ABM(100000, 20, 10, 0, 1, 1)\n",
    "\n",
    "y = []\n",
    "for i in range(20):\n",
    "    y.append(x[:, i].mean())\n",
    "\n",
    "plt.ylabel(\"Mean Value\")\n",
    "plt.xlabel(\"Time Step\")\n",
    "plt.plot(range(20), y)"
   ]
  },
  {
   "cell_type": "markdown",
   "metadata": {},
   "source": [
    "## As we increase \"n\""
   ]
  },
  {
   "cell_type": "markdown",
   "metadata": {},
   "source": [
    "As the number of paths to be simulated (n) increases, the values depicted for the mean stay much closer to the mean of 10. Most noticable at the y axis where we see a significant reduciton in the amount of spread of [10.2, 9.6] at 100 paths to [10.005, 9.985] at 100000 simulations."
   ]
  },
  {
   "cell_type": "markdown",
   "metadata": {},
   "source": [
    "# repeat Q2 with ABM(n=?,m=20,S0=10,mu=0.03,sigma=1,dt=1)"
   ]
  },
  {
   "cell_type": "code",
   "execution_count": 92,
   "metadata": {},
   "outputs": [
    {
     "data": {
      "text/plain": [
       "[<matplotlib.lines.Line2D at 0x154d94d8>]"
      ]
     },
     "execution_count": 92,
     "metadata": {},
     "output_type": "execute_result"
    },
    {
     "data": {
      "image/png": "[encoded data removed]",
      "text/plain": [
       "<Figure size 432x288 with 1 Axes>"
      ]
     },
     "metadata": {
      "needs_background": "light"
     },
     "output_type": "display_data"
    }
   ],
   "source": [
    "x = ABM(100, 20, 10, 0.03, 1, 1)\n",
    "\n",
    "y = []\n",
    "for i in range(20):\n",
    "    y.append(x[:, i].mean())\n",
    "\n",
    "plt.ylabel(\"Mean Value\")\n",
    "plt.xlabel(\"Time Step\")\n",
    "plt.plot(range(20), y)"
   ]
  },
  {
   "cell_type": "code",
   "execution_count": 93,
   "metadata": {},
   "outputs": [
    {
     "data": {
      "text/plain": [
       "[<matplotlib.lines.Line2D at 0x15508f58>]"
      ]
     },
     "execution_count": 93,
     "metadata": {},
     "output_type": "execute_result"
    },
    {
     "data": {
      "image/png": "[encoded data removed]",
      "text/plain": [
       "<Figure size 432x288 with 1 Axes>"
      ]
     },
     "metadata": {
      "needs_background": "light"
     },
     "output_type": "display_data"
    }
   ],
   "source": [
    "x = ABM(10000, 20, 10, 0.03, 1, 1)\n",
    "\n",
    "y = []\n",
    "for i in range(20):\n",
    "    y.append(x[:, i].mean())\n",
    "\n",
    "plt.ylabel(\"Mean Value\")\n",
    "plt.xlabel(\"Time Step\")\n",
    "plt.plot(range(20), y)"
   ]
  },
  {
   "cell_type": "code",
   "execution_count": 94,
   "metadata": {},
   "outputs": [
    {
     "data": {
      "text/plain": [
       "[<matplotlib.lines.Line2D at 0x155437a8>]"
      ]
     },
     "execution_count": 94,
     "metadata": {},
     "output_type": "execute_result"
    },
    {
     "data": {
      "image/png": "[encoded data removed]",
      "text/plain": [
       "<Figure size 432x288 with 1 Axes>"
      ]
     },
     "metadata": {
      "needs_background": "light"
     },
     "output_type": "display_data"
    }
   ],
   "source": [
    "x = ABM(100000, 20, 10, 0.03, 1, 1)\n",
    "\n",
    "y = []\n",
    "for i in range(20):\n",
    "    y.append(x[:, i].mean())\n",
    "\n",
    "plt.ylabel(\"Mean Value\")\n",
    "plt.xlabel(\"Time Step\")\n",
    "plt.plot(range(20), y)"
   ]
  },
  {
   "cell_type": "markdown",
   "metadata": {},
   "source": [
    "# As we increase \"n\""
   ]
  },
  {
   "cell_type": "markdown",
   "metadata": {},
   "source": [
    "As the value n increases, with the addition of a steady increase (mu), we can see that the graphs also show a steady growth in its value. "
   ]
  },
  {
   "cell_type": "markdown",
   "metadata": {},
   "source": [
    "# 3\n",
    "## Using more Currency Data to find the Value at Risk (VaR) and Expected Shortfall"
   ]
  },
  {
   "cell_type": "code",
   "execution_count": 1,
   "metadata": {},
   "outputs": [
    {
     "ename": "NameError",
     "evalue": "name 'pd' is not defined",
     "output_type": "error",
     "traceback": [
      "\u001b[1;31m---------------------------------------------------------------------------\u001b[0m",
      "\u001b[1;31mNameError\u001b[0m                                 Traceback (most recent call last)",
      "\u001b[1;32m<ipython-input-1-24cb1ad175ee>\u001b[0m in \u001b[0;36m<module>\u001b[1;34m\u001b[0m\n\u001b[0;32m      1\u001b[0m \u001b[1;31m#create a dataframe by importing the csv file through \"pd\" or \"pandas\" library\u001b[0m\u001b[1;33m\u001b[0m\u001b[1;33m\u001b[0m\u001b[1;33m\u001b[0m\u001b[0m\n\u001b[1;32m----> 2\u001b[1;33m \u001b[0mdf\u001b[0m \u001b[1;33m=\u001b[0m \u001b[0mpd\u001b[0m\u001b[1;33m.\u001b[0m\u001b[0mread_csv\u001b[0m\u001b[1;33m(\u001b[0m\u001b[1;34m\"Index Data.csv\"\u001b[0m\u001b[1;33m)\u001b[0m\u001b[1;33m\u001b[0m\u001b[1;33m\u001b[0m\u001b[0m\n\u001b[0m\u001b[0;32m      3\u001b[0m \u001b[1;33m\u001b[0m\u001b[0m\n\u001b[0;32m      4\u001b[0m \u001b[1;33m\u001b[0m\u001b[0m\n\u001b[0;32m      5\u001b[0m \u001b[0mprint\u001b[0m\u001b[1;33m(\u001b[0m\u001b[0mdf\u001b[0m\u001b[1;33m.\u001b[0m\u001b[0mhead\u001b[0m\u001b[1;33m(\u001b[0m\u001b[1;33m)\u001b[0m\u001b[1;33m)\u001b[0m\u001b[1;33m\u001b[0m\u001b[1;33m\u001b[0m\u001b[0m\n",
      "\u001b[1;31mNameError\u001b[0m: name 'pd' is not defined"
     ]
    }
   ],
   "source": [
    "#create a dataframe by importing the csv file through \"pd\" or \"pandas\" library\n",
    "df = pd.read_csv(\"Index Data.csv\")\n",
    "\n",
    "\n",
    "print(df.head())\n",
    "### notice the columns names in the dataframe"
   ]
  },
  {
   "cell_type": "code",
   "execution_count": 96,
   "metadata": {},
   "outputs": [
    {
     "name": "stdout",
     "output_type": "stream",
     "text": [
      "  Unnamed: 0 Unnamed: 1  Unnamed: 2 Unnamed: 3  Unnamed: 4 Unnamed: 5  \\\n",
      "0        NaN        NaN         NaN       DJIA         NaN   FTSE-100   \n",
      "1        Day        NaN         NaN        NaN         NaN        NaN   \n",
      "2          0  07-Aug-06         NaN   11219.38         NaN     5828.8   \n",
      "3          1  08-Aug-06         NaN   11173.59         NaN     5818.1   \n",
      "4          2  09-Aug-06         NaN   11076.18         NaN     5860.5   \n",
      "\n",
      "  Exch Rate  Adjusted  Unnamed: 8 Unnamed: 9 Exch Rate.1 Adjusted.1  \\\n",
      "0   USD/GBP  FTSE-500         NaN     CAC-40     EUR/USD     CAC-40   \n",
      "1       NaN       NaN         NaN        NaN         NaN        NaN   \n",
      "2    1.9098       NaN         NaN    4956.34      0.7776        NaN   \n",
      "3    1.9072       NaN         NaN    4967.95      0.7789        NaN   \n",
      "4    1.9086       NaN         NaN    5025.15      0.7762        NaN   \n",
      "\n",
      "   Unnamed: 12 Unnamed: 13 Exch Rate.2 Adjusted.2      DJIA      FTSE  \\\n",
      "0          NaN      Nikkei     YEN/USD     Nikkei       NaN       NaN   \n",
      "1          NaN         NaN         NaN        NaN       NaN       NaN   \n",
      "2          NaN    15154.06         115        NaN  11219.38  11131.84   \n",
      "3          NaN    15464.66      115.08        NaN  11173.59  11096.28   \n",
      "4          NaN    15656.59      115.17        NaN  11076.18  11185.35   \n",
      "\n",
      "     CAC40  Nikkei  \n",
      "0      NaN     NaN  \n",
      "1      NaN     NaN  \n",
      "2  6373.89  131.77  \n",
      "3  6378.16  134.38  \n",
      "4  6474.04  135.94  \n",
      "    Unnamed: 0 Unnamed: 1  Unnamed: 2 Unnamed: 3  Unnamed: 4 Unnamed: 5  \\\n",
      "498        496  18-Sep-08         NaN   11019.69         NaN       4880   \n",
      "499        497  19-Sep-08         NaN   11388.44         NaN     5311.3   \n",
      "500        498  22-Sep-08         NaN   11015.69         NaN     5236.3   \n",
      "501        499  24-Sep-08         NaN   10825.17         NaN     5095.6   \n",
      "502        500  25-Sep-08         NaN   11022.06         NaN       5197   \n",
      "\n",
      "    Exch Rate Adjusted  Unnamed: 8 Unnamed: 9 Exch Rate.1 Adjusted.1  \\\n",
      "498    1.8193      NaN         NaN    3957.86      0.6956        NaN   \n",
      "499    1.8327      NaN         NaN    4324.87      0.6942        NaN   \n",
      "500    1.8441      NaN         NaN    4223.51      0.6832        NaN   \n",
      "501    1.8523      NaN         NaN    4114.54      0.6819        NaN   \n",
      "502    1.8472      NaN         NaN    4226.81      0.6817        NaN   \n",
      "\n",
      "     Unnamed: 12 Unnamed: 13 Exch Rate.2 Adjusted.2      DJIA     FTSE  \\\n",
      "498          NaN     11489.3      104.88        NaN  11019.69  8878.18   \n",
      "499          NaN    11920.86       106.8        NaN  11388.44  9734.02   \n",
      "500          NaN    12090.59      106.78        NaN  11015.69  9656.26   \n",
      "501          NaN    12115.03      106.03        NaN  10825.17  9438.58   \n",
      "502          NaN    12006.53      106.42        NaN  11022.06  9599.90   \n",
      "\n",
      "       CAC40  Nikkei  \n",
      "498  5689.85  109.55  \n",
      "499  6230.01  111.62  \n",
      "500  6181.95  113.23  \n",
      "501  6033.93  114.26  \n",
      "502  6200.40  112.82  \n"
     ]
    }
   ],
   "source": [
    "#use currency columns and change the required indeces into the requided currency dominations\n",
    "df[\"DJIA\"] = df.iloc[2:, 3]\n",
    "df['FTSE'] = pd.to_numeric(df.iloc[2 :, 5], downcast=\"float\") * pd.to_numeric(df.iloc[2 :, 6], downcast='float')\n",
    "df['CAC40'] = pd.to_numeric(df.iloc[2 :, 9], downcast=\"float\") / pd.to_numeric(df.iloc[2 :, 10], downcast='float')\n",
    "df['Nikkei'] = pd.to_numeric(df.iloc[2 :, 13], downcast=\"float\") / pd.to_numeric(df.iloc[2 :, 14], downcast='float')\n",
    "\n",
    "print(df.head())\n",
    "print(df.tail())"
   ]
  },
  {
   "cell_type": "code",
   "execution_count": 97,
   "metadata": {},
   "outputs": [
    {
     "name": "stdout",
     "output_type": "stream",
     "text": [
      "       DJIA      FTSE    CAC40  Nikkei\n",
      "0  11219.38  11131.84  6373.89  131.77\n",
      "1  11173.59  11096.28  6378.16  134.38\n",
      "2  11076.18  11185.35  6474.04  135.94\n",
      "3  11124.37  11016.71  6357.49  135.44\n",
      "4  11088.02  11040.73  6364.76  134.10\n",
      "         DJIA     FTSE    CAC40  Nikkei\n",
      "496  11019.69  8878.18  5689.85  109.55\n",
      "497  11388.44  9734.02  6230.01  111.62\n",
      "498  11015.69  9656.26  6181.95  113.23\n",
      "499  10825.17  9438.58  6033.93  114.26\n",
      "500  11022.06  9599.90  6200.40  112.82\n"
     ]
    }
   ],
   "source": [
    "#drop currency columns \"USDGBP\", \"EURUSD\", \"YENUSD\"\n",
    "df = df.iloc[2 :, [16, 17,18,19]]\n",
    "df = df.rename(index = lambda x: x - 2 )\n",
    "print(df.head())\n",
    "print(df.tail())"
   ]
  },
  {
   "cell_type": "code",
   "execution_count": 98,
   "metadata": {},
   "outputs": [
    {
     "name": "stdout",
     "output_type": "stream",
     "text": [
      "       DJIA     FTSE    CAC40  Nikkei        PV   Loss\n",
      "0  10977.08  9569.23  6204.55  115.05  10014.33 -14.33\n",
      "1  10925.97  9676.96  6293.60  114.13  10027.48 -27.48\n",
      "2  11070.01  9455.16  6088.77  112.40   9946.74  53.26\n",
      "3  10986.04  9620.83  6207.49  111.71   9974.86  25.14\n",
      "4  11031.85  9659.70  6265.57  114.56  10063.64 -63.64\n",
      "         DJIA      FTSE    CAC40  Nikkei        PV    Loss\n",
      "495  11448.03   9662.99  6214.28  110.18  10129.78 -129.78\n",
      "496  11390.89  10525.30  6789.02  114.96  10555.80 -555.80\n",
      "497  10661.30   9523.21  6152.57  114.45   9866.26  133.74\n",
      "498  10831.43   9383.49  6051.94  113.85   9857.46  142.54\n",
      "499  11222.53   9763.97  6371.45  111.40  10126.44 -126.44\n"
     ]
    }
   ],
   "source": [
    "# create new empty dataframe for scenarios\n",
    "df1 = pd.DataFrame(columns = [\"DJIA\", \"FTSE\", \"CAC40\", \"Nikkei\"])\n",
    "# add a column for each index with the generated scenarios \n",
    "# 4 columns are needed\n",
    "\n",
    "for i in df.columns:\n",
    "    x = []\n",
    "    for j in range(500):\n",
    "        x.append( float(df.loc[j + 1, i]) / float(df.loc[j, i]) * float(df.loc[500, i]))\n",
    "    df1[i] = x\n",
    "\n",
    "# create portfolio value column call it PV, we have portfolio investment variables.\n",
    "# use the variables and do not change them\n",
    "DJIA      = 4000\n",
    "FTSE      = 3000\n",
    "CAC40     = 1000\n",
    "Nikkei225 = 2000\n",
    "\n",
    "a = []\n",
    "for i in range(500):\n",
    "     a.append(float(df1.loc[i, \"DJIA\"]) * DJIA / float(df.loc[500, \"DJIA\"]) + float(df1.loc[i, \"FTSE\"]) * FTSE / float(df.loc[500, \"FTSE\"]) + float(df1.loc[i, \"CAC40\"]) * CAC40 / float(df.loc[500, \"CAC40\"]) + float(df1.loc[i, \"Nikkei\"]) * Nikkei225 / float(df.loc[500, \"Nikkei\"]))\n",
    "\n",
    "df1[\"PV\"] = a\n",
    "df1['Loss'] = 10000 - df1[\"PV\"] \n",
    "\n",
    "print(df1.head())\n",
    "print(df1.tail())"
   ]
  },
  {
   "cell_type": "code",
   "execution_count": 99,
   "metadata": {},
   "outputs": [
    {
     "name": "stdout",
     "output_type": "stream",
     "text": [
      "493    477.84\n",
      "338    345.43\n",
      "348    282.20\n",
      "328    277.04\n",
      "486    253.38\n",
      "226    217.97\n",
      "130    202.26\n",
      "237    201.39\n",
      "472    191.27\n",
      "305    191.05\n",
      "Name: Loss, dtype: float64\n"
     ]
    }
   ],
   "source": [
    "# sort Losses in descending order and save them into new variable\n",
    "sorted_losses = df1.sort_values(by=['Loss'],ascending=False)[\"Loss\"]\n",
    "\n",
    "\n",
    "print(sorted_losses.head(10))\n"
   ]
  },
  {
   "cell_type": "code",
   "execution_count": 100,
   "metadata": {},
   "outputs": [
    {
     "name": "stdout",
     "output_type": "stream",
     "text": [
      "VAR1 = 253.38\n",
      "ES1  = 327.18\n"
     ]
    }
   ],
   "source": [
    "# return the 99% VAR\n",
    "#VAR is located at what index in the sorted_losses array \n",
    "# remember sorted_losses are sorted in descending order!\n",
    "var_index = 486\n",
    "VAR1 = sorted_losses[var_index]\n",
    "ES1  = np.mean(sorted_losses[:5])\n",
    "print('VAR1 = %.2f' % VAR1)\n",
    "print('ES1  = %.2f' % ES1)\n",
    "\n",
    "##### do not modifiy below\n",
    "##### modified tail\n",
    "sorted_losses_new = sorted_losses.copy()\n",
    "sorted_losses_new[:4] = sorted_losses[:4] + 15"
   ]
  },
  {
   "cell_type": "code",
   "execution_count": 101,
   "metadata": {},
   "outputs": [
    {
     "name": "stdout",
     "output_type": "stream",
     "text": [
      "VAR2 = 253.38\n",
      "ES2  = 339.18\n"
     ]
    }
   ],
   "source": [
    "# calculate the new VAR and ES associated with \"sorted_losses_new\" case\n",
    "VAR2 = sorted_losses_new[var_index]\n",
    "ES2  = np.mean(sorted_losses_new[:5])\n",
    "print('VAR2 = %.2f' % VAR2)\n",
    "print('ES2  = %.2f' % ES2)"
   ]
  },
  {
   "cell_type": "markdown",
   "metadata": {},
   "source": [
    "## Compare VAR1 and VAR2, ES1 and ES2\n",
    "## Does VAR alone give good estimate of risk ?\n",
    "## Why is ES2 different from ES1 ?\n",
    "## What is the interpetation of ES?"
   ]
  },
  {
   "cell_type": "markdown",
   "metadata": {},
   "source": [
    "VAR alone is an efficient way of approximating the risk of market variables a financial institution is exposed to. By taking into account the various variables we can give an approximation for \"how bad things can get?\" with a certain confidence level. It doesn't however extend that quesiton further to \"If things to do go bad, how bad will they be?\" therefore in conjunction with the ES we can give an even better estimate of risk by accounting for larger losses."
   ]
  },
  {
   "cell_type": "markdown",
   "metadata": {},
   "source": [
    "ES2 is different from ES1 because of the addition of 15 in the top 4 sorted losses. As we take the average of the top 1% of the 500 losses, ES2 is greater."
   ]
  },
  {
   "cell_type": "markdown",
   "metadata": {},
   "source": [
    "ES gives us a representation of \"If things do get bad, how much can the company expect to lose?\" The ES takes the VaR, and adds into account that potential losses can be larger then depicted in the VaR."
   ]
  },
  {
   "cell_type": "code",
   "execution_count": null,
   "metadata": {},
   "outputs": [],
   "source": []
  }
 ],
 "metadata": {
  "kernelspec": {
   "display_name": "Python 3",
   "language": "python",
   "name": "python3"
  },
  "language_info": {
   "codemirror_mode": {
    "name": "ipython",
    "version": 3
   },
   "file_extension": ".py",
   "mimetype": "text/x-python",
   "name": "python",
   "nbconvert_exporter": "python",
   "pygments_lexer": "ipython3",
   "version": "3.8.2"
  }
 },
 "nbformat": 4,
 "nbformat_minor": 4
}
