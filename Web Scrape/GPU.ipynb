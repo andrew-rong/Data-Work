{
 "cells": [
  {
   "cell_type": "code",
   "execution_count": 10,
   "id": "educated-shower",
   "metadata": {},
   "outputs": [],
   "source": [
    "import time\n",
    "import requests\n",
    "from bs4 import BeautifulSoup"
   ]
  },
  {
   "cell_type": "code",
   "execution_count": null,
   "id": "described-creativity",
   "metadata": {},
   "outputs": [],
   "source": [
    "url = https://www.techpowerup.com/gpu-specs/"
   ]
  },
  {
   "cell_type": "code",
   "execution_count": null,
   "id": "described-mapping",
   "metadata": {},
   "outputs": [],
   "source": [
    "page = requests.get(url)\n",
    "soup = BeautifulSoup(page.content, 'html.parser')\n",
    "\n",
    "results = soup.find(id=\"super-product-table\")\n",
    "# print(results.prettify())\n",
    "\n",
    "prod_elems = results.find_all('div', class_='grouped-item')\n",
    "\n",
    "for elem in prod_elems:\n",
    "    name_elem = elem.find('div', class_='item-name')\n",
    "    price_elem = elem.find('span', class_='price')\n",
    "    # availability is none if there is no out of stock button for the packages, in the function .text\n",
    "    # Problem here,\n",
    "    # if the plates are out of stock individually, then site doesn't say out of stock\n",
    "    # instead it states a new block saying notify me\n",
    "    if elem.find('div', class_='bin-out-of-stock-message bin-out-of-stock-default') is None:\n",
    "        if elem.find('button', class_='v-btn'):\n",
    "            availability = \"Out of stock\"\n",
    "        else:\n",
    "            availability = \"In Stock\"\n",
    "    else:\n",
    "        availability = elem.find('div', class_='bin-out-of-stock-message bin-out-of-stock-default').text\n",
    "\n",
    "    print(name_elem.text, price_elem.text, availability)\n",
    "    # the values are tags by themselves with .text it becomes strings so this can be used\n",
    "\n",
    "# Next, notify someone through email when something is in stock"
   ]
  }
 ],
 "metadata": {
  "kernelspec": {
   "display_name": "Python 3",
   "language": "python",
   "name": "python3"
  },
  "language_info": {
   "codemirror_mode": {
    "name": "ipython",
    "version": 3
   },
   "file_extension": ".py",
   "mimetype": "text/x-python",
   "name": "python",
   "nbconvert_exporter": "python",
   "pygments_lexer": "ipython3",
   "version": "3.8.2"
  }
 },
 "nbformat": 4,
 "nbformat_minor": 5
}
