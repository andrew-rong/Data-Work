{
 "cells": [
  {
   "cell_type": "code",
   "execution_count": 44,
   "id": "educated-shower",
   "metadata": {},
   "outputs": [],
   "source": [
    "import datetime\n",
    "import requests\n",
    "from bs4 import BeautifulSoup\n",
    "import pandas as pd\n",
    "import numpy as np\n",
    "import matplotlib.pyplot as plt\n",
    "import plotly.express as px\n",
    "import seaborn as sns\n",
    "from sklearn.linear_model import LogisticRegression\n",
    "from sklearn.metrics import classification_report, confusion_matrix"
   ]
  },
  {
   "cell_type": "code",
   "execution_count": 2,
   "id": "described-creativity",
   "metadata": {},
   "outputs": [],
   "source": [
    "url = \"https://www.techpowerup.com/gpu-specs/\""
   ]
  },
  {
   "cell_type": "code",
   "execution_count": 3,
   "id": "described-mapping",
   "metadata": {},
   "outputs": [],
   "source": [
    "page = requests.get(url)\n",
    "soup = BeautifulSoup(page.content, 'html.parser')\n",
    "# Taking all HTML content stored on site"
   ]
  },
  {
   "cell_type": "code",
   "execution_count": 4,
   "id": "painted-consciousness",
   "metadata": {
    "scrolled": true
   },
   "outputs": [
    {
     "data": {
      "text/plain": [
       "[<table class=\"processors\">\n",
       " <thead>\n",
       " <tr>\n",
       " <th class=\"mfgr\" colspan=\"8\" id=\"Popular\">Popular</th>\n",
       " </tr>\n",
       " </thead>\n",
       " <thead class=\"colheader\">\n",
       " <tr>\n",
       " <th>Product Name</th>\n",
       " <th>GPU Chip</th>\n",
       " <th>Released</th>\n",
       " <th>Bus</th>\n",
       " <th>Memory</th>\n",
       " <th>GPU clock</th>\n",
       " <th>Memory clock</th>\n",
       " <th>Shaders / TMUs / ROPs</th>\n",
       " </tr>\n",
       " </thead>\n",
       " <tr>\n",
       " <td class=\"vendor-NVIDIA\">\n",
       " <a href=\"/gpu-specs/geforce-rtx-3060.c3682\">GeForce RTX 3060</a>\n",
       " </td>\n",
       " <td>\n",
       " <a href=\"/gpu-specs/nvidia-ga106.g966\">GA106</a>\n",
       " </td>\n",
       " <td>Jan 12th, 2021</td>\n",
       " <td>PCIe 4.0 x16</td>\n",
       " <td>12 GB, GDDR6, 192 bit</td>\n",
       " <td>1320 MHz</td>\n",
       " <td>1875 MHz</td>\n",
       " <td>3584 / 112 / 48</td>\n",
       " </tr>\n",
       " <tr>\n",
       " <td class=\"vendor-NVIDIA\">\n",
       " <a href=\"/gpu-specs/geforce-rtx-3090.c3622\">GeForce RTX 3090</a>\n",
       " </td>\n",
       " <td>\n",
       " <a href=\"/gpu-specs/nvidia-ga102.g930\">GA102</a>\n",
       " </td>\n",
       " <td>Sep 1st, 2020</td>\n",
       " <td>PCIe 4.0 x16</td>\n",
       " <td>24 GB, GDDR6X, 384 bit</td>\n",
       " <td>1395 MHz</td>\n",
       " <td>1219 MHz</td>\n",
       " <td>10496 / 328 / 112</td>\n",
       " </tr>\n",
       " <tr>\n",
       " <td class=\"vendor-NVIDIA\">\n",
       " <a href=\"/gpu-specs/geforce-rtx-3060-ti.c3681\">GeForce RTX 3060 Ti</a>\n",
       " </td>\n",
       " <td>\n",
       " <a href=\"/gpu-specs/nvidia-ga104.g964\">GA104</a>\n",
       " </td>\n",
       " <td>Dec 1st, 2020</td>\n",
       " <td>PCIe 4.0 x16</td>\n",
       " <td>8 GB, GDDR6, 256 bit</td>\n",
       " <td>1410 MHz</td>\n",
       " <td>1750 MHz</td>\n",
       " <td>4864 / 152 / 80</td>\n",
       " </tr>\n",
       " <tr>\n",
       " <td class=\"vendor-NVIDIA\">\n",
       " <a href=\"/gpu-specs/geforce-rtx-3080.c3621\">GeForce RTX 3080</a>\n",
       " </td>\n",
       " <td>\n",
       " <a href=\"/gpu-specs/nvidia-ga102.g930\">GA102</a>\n",
       " </td>\n",
       " <td>Sep 1st, 2020</td>\n",
       " <td>PCIe 4.0 x16</td>\n",
       " <td>10 GB, GDDR6X, 320 bit</td>\n",
       " <td>1440 MHz</td>\n",
       " <td>1188 MHz</td>\n",
       " <td>8704 / 272 / 96</td>\n",
       " </tr>\n",
       " <tr>\n",
       " <td class=\"vendor-NVIDIA\">\n",
       " <a href=\"/gpu-specs/geforce-gtx-1050-ti.c2885\">GeForce GTX 1050 Ti</a>\n",
       " </td>\n",
       " <td>\n",
       " <a href=\"/gpu-specs/nvidia-gp107.g801\">GP107</a>\n",
       " </td>\n",
       " <td>Oct 25th, 2016</td>\n",
       " <td>PCIe 3.0 x16</td>\n",
       " <td>4 GB, GDDR5, 128 bit</td>\n",
       " <td>1291 MHz</td>\n",
       " <td>1752 MHz</td>\n",
       " <td>768 / 48 / 32</td>\n",
       " </tr>\n",
       " <tr>\n",
       " <td class=\"vendor-NVIDIA\">\n",
       " <a href=\"/gpu-specs/geforce-rtx-3070.c3674\">GeForce RTX 3070</a>\n",
       " </td>\n",
       " <td>\n",
       " <a href=\"/gpu-specs/nvidia-ga104.g964\">GA104</a>\n",
       " </td>\n",
       " <td>Sep 1st, 2020</td>\n",
       " <td>PCIe 4.0 x16</td>\n",
       " <td>8 GB, GDDR6, 256 bit</td>\n",
       " <td>1500 MHz</td>\n",
       " <td>1750 MHz</td>\n",
       " <td>5888 / 184 / 96</td>\n",
       " </tr>\n",
       " <tr>\n",
       " <td class=\"vendor-AMD\">\n",
       " <a href=\"/gpu-specs/radeon-rx-6600-xt.c3774\">Radeon RX 6600 XT</a>\n",
       " </td>\n",
       " <td>\n",
       " <a href=\"/gpu-specs/amd-navi-23.g926\">Navi 23</a>\n",
       " </td>\n",
       " <td>Jul 30th, 2021</td>\n",
       " <td>PCIe 4.0 x8</td>\n",
       " <td>8 GB, GDDR6, 128 bit</td>\n",
       " <td>1968 MHz</td>\n",
       " <td>2000 MHz</td>\n",
       " <td>2048 / 128 / 64</td>\n",
       " </tr>\n",
       " <tr>\n",
       " <td class=\"vendor-NVIDIA\">\n",
       " <a href=\"/gpu-specs/geforce-gtx-970.c2620\">GeForce GTX 970</a>\n",
       " </td>\n",
       " <td>\n",
       " <a href=\"/gpu-specs/nvidia-gm204.g767\">GM204</a>\n",
       " </td>\n",
       " <td>Sep 19th, 2014</td>\n",
       " <td>PCIe 3.0 x16</td>\n",
       " <td>4 GB, GDDR5, 256 bit</td>\n",
       " <td>1050 MHz</td>\n",
       " <td>1753 MHz</td>\n",
       " <td>1664 / 104 / 56</td>\n",
       " </tr>\n",
       " <tr>\n",
       " <td class=\"vendor-NVIDIA\">\n",
       " <a href=\"/gpu-specs/geforce-rtx-3080-ti.c3735\">GeForce RTX 3080 Ti</a>\n",
       " </td>\n",
       " <td>\n",
       " <a href=\"/gpu-specs/nvidia-ga102.g930\">GA102</a>\n",
       " </td>\n",
       " <td>May 31st, 2021</td>\n",
       " <td>PCIe 4.0 x16</td>\n",
       " <td>12 GB, GDDR6X, 384 bit</td>\n",
       " <td>1365 MHz</td>\n",
       " <td>1188 MHz</td>\n",
       " <td>10240 / 320 / 112</td>\n",
       " </tr>\n",
       " <tr>\n",
       " <td class=\"vendor-NVIDIA\">\n",
       " <a href=\"/gpu-specs/geforce-gtx-960.c2637\">GeForce GTX 960</a>\n",
       " </td>\n",
       " <td>\n",
       " <a href=\"/gpu-specs/nvidia-gm206.g775\">GM206</a>\n",
       " </td>\n",
       " <td>Jan 22nd, 2015</td>\n",
       " <td>PCIe 3.0 x16</td>\n",
       " <td>2 GB, GDDR5, 128 bit</td>\n",
       " <td>1127 MHz</td>\n",
       " <td>1753 MHz</td>\n",
       " <td>1024 / 64 / 32</td>\n",
       " </tr>\n",
       " <tr>\n",
       " <td class=\"vendor-NVIDIA\">\n",
       " <a href=\"/gpu-specs/geforce-rtx-2060.c3310\">GeForce RTX 2060</a>\n",
       " </td>\n",
       " <td>\n",
       " <a href=\"/gpu-specs/nvidia-tu106.g875\">TU106</a>\n",
       " </td>\n",
       " <td>Jan 7th, 2019</td>\n",
       " <td>PCIe 3.0 x16</td>\n",
       " <td>6 GB, GDDR6, 192 bit</td>\n",
       " <td>1365 MHz</td>\n",
       " <td>1750 MHz</td>\n",
       " <td>1920 / 120 / 48</td>\n",
       " </tr>\n",
       " <tr>\n",
       " <td class=\"vendor-NVIDIA\">\n",
       " <a href=\"/gpu-specs/geforce-gtx-1650.c3366\">GeForce GTX 1650</a>\n",
       " </td>\n",
       " <td>\n",
       " <a href=\"/gpu-specs/nvidia-tu117.g881\">TU117</a>\n",
       " </td>\n",
       " <td>Apr 23rd, 2019</td>\n",
       " <td>PCIe 3.0 x16</td>\n",
       " <td>4 GB, GDDR5, 128 bit</td>\n",
       " <td>1485 MHz</td>\n",
       " <td>2001 MHz</td>\n",
       " <td>896 / 56 / 32</td>\n",
       " </tr>\n",
       " <tr>\n",
       " <td class=\"vendor-NVIDIA\">\n",
       " <a href=\"/gpu-specs/geforce-gtx-750-ti.c2548\">GeForce GTX 750 Ti</a>\n",
       " </td>\n",
       " <td>\n",
       " <a href=\"/gpu-specs/nvidia-gm107.g762\">GM107</a>\n",
       " </td>\n",
       " <td>Feb 18th, 2014</td>\n",
       " <td>PCIe 3.0 x16</td>\n",
       " <td>2 GB, GDDR5, 128 bit</td>\n",
       " <td>1020 MHz</td>\n",
       " <td>1350 MHz</td>\n",
       " <td>640 / 40 / 16</td>\n",
       " </tr>\n",
       " <tr>\n",
       " <td class=\"vendor-NVIDIA\">\n",
       " <a href=\"/gpu-specs/geforce-gtx-1070.c2840\">GeForce GTX 1070</a>\n",
       " </td>\n",
       " <td>\n",
       " <a href=\"/gpu-specs/nvidia-gp104.g793\">GP104</a>\n",
       " </td>\n",
       " <td>Jun 10th, 2016</td>\n",
       " <td>PCIe 3.0 x16</td>\n",
       " <td>8 GB, GDDR5, 256 bit</td>\n",
       " <td>1506 MHz</td>\n",
       " <td>2002 MHz</td>\n",
       " <td>1920 / 120 / 64</td>\n",
       " </tr>\n",
       " <tr>\n",
       " <td class=\"vendor-NVIDIA\">\n",
       " <a href=\"/gpu-specs/geforce-gtx-1060-6-gb.c2862\">GeForce GTX 1060 6 GB</a>\n",
       " </td>\n",
       " <td>\n",
       " <a href=\"/gpu-specs/nvidia-gp106.g797\">GP106</a>\n",
       " </td>\n",
       " <td>Jul 19th, 2016</td>\n",
       " <td>PCIe 3.0 x16</td>\n",
       " <td>6 GB, GDDR5, 192 bit</td>\n",
       " <td>1506 MHz</td>\n",
       " <td>2002 MHz</td>\n",
       " <td>1280 / 80 / 48</td>\n",
       " </tr>\n",
       " <tr>\n",
       " <td class=\"vendor-AMD\">\n",
       " <a href=\"/gpu-specs/radeon-rx-6600.c3696\">Radeon RX 6600</a>\n",
       " </td>\n",
       " <td>\n",
       " <a href=\"/gpu-specs/amd-navi-23.g926\">Navi 23</a>\n",
       " </td>\n",
       " <td>Oct 13th, 2021</td>\n",
       " <td>PCIe 4.0 x8</td>\n",
       " <td>8 GB, GDDR6, 128 bit</td>\n",
       " <td>1626 MHz</td>\n",
       " <td>1750 MHz</td>\n",
       " <td>1792 / 112 / 64</td>\n",
       " </tr>\n",
       " <tr>\n",
       " <td class=\"vendor-NVIDIA\">\n",
       " <a href=\"/gpu-specs/geforce-gt-1030.c2954\">GeForce GT 1030</a>\n",
       " </td>\n",
       " <td>\n",
       " <a href=\"/gpu-specs/nvidia-gp108.g808\">GP108</a>\n",
       " </td>\n",
       " <td>May 17th, 2017</td>\n",
       " <td>PCIe 3.0 x4</td>\n",
       " <td>2 GB, GDDR5, 64 bit</td>\n",
       " <td>1228 MHz</td>\n",
       " <td>1502 MHz</td>\n",
       " <td>384 / 24 / 16</td>\n",
       " </tr>\n",
       " <tr>\n",
       " <td class=\"vendor-NVIDIA\">\n",
       " <a href=\"/gpu-specs/geforce-rtx-3070-ti.c3675\">GeForce RTX 3070 Ti</a>\n",
       " </td>\n",
       " <td>\n",
       " <a href=\"/gpu-specs/nvidia-ga104.g964\">GA104</a>\n",
       " </td>\n",
       " <td>May 31st, 2021</td>\n",
       " <td>PCIe 4.0 x16</td>\n",
       " <td>8 GB, GDDR6X, 256 bit</td>\n",
       " <td>1575 MHz</td>\n",
       " <td>1188 MHz</td>\n",
       " <td>6144 / 192 / 96</td>\n",
       " </tr>\n",
       " <tr>\n",
       " <td class=\"vendor-AMD\">\n",
       " <a href=\"/gpu-specs/radeon-rx-580.c2938\">Radeon RX 580</a>\n",
       " </td>\n",
       " <td>\n",
       " <a href=\"/gpu-specs/amd-polaris-20.g807\">Polaris 20</a>\n",
       " </td>\n",
       " <td>Apr 18th, 2017</td>\n",
       " <td>PCIe 3.0 x16</td>\n",
       " <td>8 GB, GDDR5, 256 bit</td>\n",
       " <td>1257 MHz</td>\n",
       " <td>2000 MHz</td>\n",
       " <td>2304 / 144 / 32</td>\n",
       " </tr>\n",
       " <tr>\n",
       " <td class=\"vendor-NVIDIA\">\n",
       " <a href=\"/gpu-specs/geforce-gtx-1080-ti.c2877\">GeForce GTX 1080 Ti</a>\n",
       " </td>\n",
       " <td>\n",
       " <a href=\"/gpu-specs/nvidia-gp102.g798\">GP102</a>\n",
       " </td>\n",
       " <td>Mar 10th, 2017</td>\n",
       " <td>PCIe 3.0 x16</td>\n",
       " <td>11 GB, GDDR5X, 352 bit</td>\n",
       " <td>1481 MHz</td>\n",
       " <td>1376 MHz</td>\n",
       " <td>3584 / 224 / 88</td>\n",
       " </tr>\n",
       " <tr>\n",
       " <td class=\"vendor-AMD\">\n",
       " <a href=\"/gpu-specs/radeon-rx-6900-xt.c3481\">Radeon RX 6900 XT</a>\n",
       " </td>\n",
       " <td>\n",
       " <a href=\"/gpu-specs/amd-navi-21.g923\">Navi 21</a>\n",
       " </td>\n",
       " <td>Oct 28th, 2020</td>\n",
       " <td>PCIe 4.0 x16</td>\n",
       " <td>16 GB, GDDR6, 256 bit</td>\n",
       " <td>1825 MHz</td>\n",
       " <td>2000 MHz</td>\n",
       " <td>5120 / 320 / 128</td>\n",
       " </tr>\n",
       " <tr>\n",
       " <td class=\"vendor-AMD\">\n",
       " <a href=\"/gpu-specs/radeon-rx-570.c2939\">Radeon RX 570</a>\n",
       " </td>\n",
       " <td>\n",
       " <a href=\"/gpu-specs/amd-polaris-20.g807\">Polaris 20</a>\n",
       " </td>\n",
       " <td>Apr 18th, 2017</td>\n",
       " <td>PCIe 3.0 x16</td>\n",
       " <td>4 GB, GDDR5, 256 bit</td>\n",
       " <td>1168 MHz</td>\n",
       " <td>1750 MHz</td>\n",
       " <td>2048 / 128 / 32</td>\n",
       " </tr>\n",
       " <tr>\n",
       " <td class=\"vendor-AMD\">\n",
       " <a href=\"/gpu-specs/radeon-rx-6700-xt.c3695\">Radeon RX 6700 XT</a>\n",
       " </td>\n",
       " <td>\n",
       " <a href=\"/gpu-specs/amd-navi-22.g951\">Navi 22</a>\n",
       " </td>\n",
       " <td>Mar 3rd, 2021</td>\n",
       " <td>PCIe 4.0 x16</td>\n",
       " <td>12 GB, GDDR6, 192 bit</td>\n",
       " <td>2321 MHz</td>\n",
       " <td>2000 MHz</td>\n",
       " <td>2560 / 160 / 64</td>\n",
       " </tr>\n",
       " <tr>\n",
       " <td class=\"vendor-NVIDIA\">\n",
       " <a href=\"/gpu-specs/geforce-gtx-1660-super.c3458\">GeForce GTX 1660 SUPER</a>\n",
       " </td>\n",
       " <td>\n",
       " <a href=\"/gpu-specs/nvidia-tu116.g902\">TU116</a>\n",
       " </td>\n",
       " <td>Oct 29th, 2019</td>\n",
       " <td>PCIe 3.0 x16</td>\n",
       " <td>6 GB, GDDR6, 192 bit</td>\n",
       " <td>1530 MHz</td>\n",
       " <td>1750 MHz</td>\n",
       " <td>1408 / 88 / 48</td>\n",
       " </tr>\n",
       " <tr>\n",
       " <td class=\"vendor-NVIDIA\">\n",
       " <a href=\"/gpu-specs/geforce-gtx-1080.c2839\">GeForce GTX 1080</a>\n",
       " </td>\n",
       " <td>\n",
       " <a href=\"/gpu-specs/nvidia-gp104.g793\">GP104</a>\n",
       " </td>\n",
       " <td>May 27th, 2016</td>\n",
       " <td>PCIe 3.0 x16</td>\n",
       " <td>8 GB, GDDR5X, 256 bit</td>\n",
       " <td>1607 MHz</td>\n",
       " <td>1251 MHz</td>\n",
       " <td>2560 / 160 / 64</td>\n",
       " </tr>\n",
       " <tr>\n",
       " <td class=\"vendor-NVIDIA\">\n",
       " <a href=\"/gpu-specs/geforce-gtx-550-ti.c274\">GeForce GTX 550 Ti</a>\n",
       " </td>\n",
       " <td>\n",
       " <a href=\"/gpu-specs/nvidia-gf116.g88\">GF116</a>\n",
       " </td>\n",
       " <td>Mar 15th, 2011</td>\n",
       " <td>PCIe 2.0 x16</td>\n",
       " <td>1024 MB, GDDR5, 192 bit</td>\n",
       " <td>900 MHz</td>\n",
       " <td>1026 MHz</td>\n",
       " <td>192 / 32 / 24</td>\n",
       " </tr>\n",
       " <tr>\n",
       " <td class=\"vendor-NVIDIA\">\n",
       " <a href=\"/gpu-specs/geforce-210.c2020\">GeForce 210</a>\n",
       " </td>\n",
       " <td>\n",
       " <a href=\"/gpu-specs/nvidia-gt218.g140\">GT218</a>\n",
       " </td>\n",
       " <td>Oct 12th, 2009</td>\n",
       " <td>PCIe 2.0 x16</td>\n",
       " <td>512 MB, DDR3, 64 bit</td>\n",
       " <td>520 MHz</td>\n",
       " <td>400 MHz</td>\n",
       " <td>16 / 8 / 4</td>\n",
       " </tr>\n",
       " <tr>\n",
       " <td class=\"vendor-NVIDIA\">\n",
       " <a href=\"/gpu-specs/geforce-gtx-1660-ti.c3364\">GeForce GTX 1660 Ti</a>\n",
       " </td>\n",
       " <td>\n",
       " <a href=\"/gpu-specs/nvidia-tu116.g902\">TU116</a>\n",
       " </td>\n",
       " <td>Feb 22nd, 2019</td>\n",
       " <td>PCIe 3.0 x16</td>\n",
       " <td>6 GB, GDDR6, 192 bit</td>\n",
       " <td>1500 MHz</td>\n",
       " <td>1500 MHz</td>\n",
       " <td>1536 / 96 / 48</td>\n",
       " </tr>\n",
       " <tr>\n",
       " <td class=\"vendor-NVIDIA\">\n",
       " <a href=\"/gpu-specs/geforce-gtx-1050.c2875\">GeForce GTX 1050</a>\n",
       " </td>\n",
       " <td>\n",
       " <a href=\"/gpu-specs/nvidia-gp107.g801\">GP107</a>\n",
       " </td>\n",
       " <td>Oct 25th, 2016</td>\n",
       " <td>PCIe 3.0 x16</td>\n",
       " <td>2 GB, GDDR5, 128 bit</td>\n",
       " <td>1354 MHz</td>\n",
       " <td>1752 MHz</td>\n",
       " <td>640 / 40 / 32</td>\n",
       " </tr>\n",
       " <tr>\n",
       " <td class=\"vendor-NVIDIA\">\n",
       " <a href=\"/gpu-specs/geforce-rtx-2080-ti.c3305\">GeForce RTX 2080 Ti</a>\n",
       " </td>\n",
       " <td>\n",
       " <a href=\"/gpu-specs/nvidia-tu102.g813\">TU102</a>\n",
       " </td>\n",
       " <td>Sep 20th, 2018</td>\n",
       " <td>PCIe 3.0 x16</td>\n",
       " <td>11 GB, GDDR6, 352 bit</td>\n",
       " <td>1350 MHz</td>\n",
       " <td>1750 MHz</td>\n",
       " <td>4352 / 272 / 88</td>\n",
       " </tr>\n",
       " <tr>\n",
       " <td class=\"vendor-NVIDIA\">\n",
       " <a href=\"/gpu-specs/geforce-rtx-3050.c3744\">GeForce RTX 3050</a>\n",
       " </td>\n",
       " <td>\n",
       " <a href=\"/gpu-specs/nvidia-ga107.g988\">GA107</a>\n",
       " </td>\n",
       " <td>2022</td>\n",
       " <td>PCIe 4.0 x16</td>\n",
       " <td>4 GB, GDDR6, 128 bit</td>\n",
       " <td>1545 MHz</td>\n",
       " <td>1750 MHz</td>\n",
       " <td>2304 / 72 / 40</td>\n",
       " </tr>\n",
       " <tr>\n",
       " <td class=\"vendor-NVIDIA\">\n",
       " <a href=\"/gpu-specs/geforce-gt-730.c1988\">GeForce GT 730</a>\n",
       " </td>\n",
       " <td>\n",
       " <a href=\"/gpu-specs/nvidia-gk208b.g815\">GK208B</a>\n",
       " </td>\n",
       " <td>Jun 18th, 2014</td>\n",
       " <td>PCIe 2.0 x8</td>\n",
       " <td>1024 MB, GDDR5, 64 bit</td>\n",
       " <td>902 MHz</td>\n",
       " <td>1253 MHz</td>\n",
       " <td>384 / 32 / 8</td>\n",
       " </tr>\n",
       " <tr>\n",
       " <td class=\"vendor-NVIDIA\">\n",
       " <a href=\"/gpu-specs/geforce-gtx-760.c1857\">GeForce GTX 760</a>\n",
       " </td>\n",
       " <td>\n",
       " <a href=\"/gpu-specs/nvidia-gk104.g108\">GK104</a>\n",
       " </td>\n",
       " <td>Jun 25th, 2013</td>\n",
       " <td>PCIe 3.0 x16</td>\n",
       " <td>2 GB, GDDR5, 256 bit</td>\n",
       " <td>980 MHz</td>\n",
       " <td>1502 MHz</td>\n",
       " <td>1152 / 96 / 32</td>\n",
       " </tr>\n",
       " <tr>\n",
       " <td class=\"vendor-NVIDIA\">\n",
       " <a href=\"/gpu-specs/geforce-gtx-1650-super.c3411\">GeForce GTX 1650 SUPER</a>\n",
       " </td>\n",
       " <td>\n",
       " <a href=\"/gpu-specs/nvidia-tu116.g902\">TU116</a>\n",
       " </td>\n",
       " <td>Nov 22nd, 2019</td>\n",
       " <td>PCIe 3.0 x16</td>\n",
       " <td>4 GB, GDDR6, 128 bit</td>\n",
       " <td>1530 MHz</td>\n",
       " <td>1500 MHz</td>\n",
       " <td>1280 / 80 / 32</td>\n",
       " </tr>\n",
       " <tr>\n",
       " <td class=\"vendor-NVIDIA\">\n",
       " <a href=\"/gpu-specs/geforce-gtx-980-ti.c2724\">GeForce GTX 980 Ti</a>\n",
       " </td>\n",
       " <td>\n",
       " <a href=\"/gpu-specs/nvidia-gm200.g772\">GM200</a>\n",
       " </td>\n",
       " <td>Jun 2nd, 2015</td>\n",
       " <td>PCIe 3.0 x16</td>\n",
       " <td>6 GB, GDDR5, 384 bit</td>\n",
       " <td>1000 MHz</td>\n",
       " <td>1753 MHz</td>\n",
       " <td>2816 / 176 / 96</td>\n",
       " </tr>\n",
       " <tr>\n",
       " <td class=\"vendor-AMD\">\n",
       " <a href=\"/gpu-specs/radeon-rx-560.c2940\">Radeon RX 560</a>\n",
       " </td>\n",
       " <td>\n",
       " <a href=\"/gpu-specs/amd-polaris-21.g812\">Polaris 21</a>\n",
       " </td>\n",
       " <td>Apr 18th, 2017</td>\n",
       " <td>PCIe 3.0 x8</td>\n",
       " <td>4 GB, GDDR5, 128 bit</td>\n",
       " <td>1175 MHz</td>\n",
       " <td>1750 MHz</td>\n",
       " <td>1024 / 64 / 16</td>\n",
       " </tr>\n",
       " <tr>\n",
       " <td class=\"vendor-AMD\">\n",
       " <a href=\"/gpu-specs/radeon-rx-550.c2947\">Radeon RX 550</a>\n",
       " </td>\n",
       " <td>\n",
       " <a href=\"/gpu-specs/amd-lexa.g806\">Lexa</a>\n",
       " </td>\n",
       " <td>Apr 20th, 2017</td>\n",
       " <td>PCIe 3.0 x8</td>\n",
       " <td>2 GB, GDDR5, 128 bit</td>\n",
       " <td>1100 MHz</td>\n",
       " <td>1750 MHz</td>\n",
       " <td>512 / 32 / 16</td>\n",
       " </tr>\n",
       " <tr>\n",
       " <td class=\"vendor-NVIDIA\">\n",
       " <a href=\"/gpu-specs/geforce-rtx-3080-mobile.c3684\">GeForce RTX 3080 Mobile</a>\n",
       " </td>\n",
       " <td>\n",
       " <a href=\"/gpu-specs/nvidia-ga104.g964\">GA104</a>\n",
       " </td>\n",
       " <td>Jan 12th, 2021</td>\n",
       " <td>PCIe 4.0 x16</td>\n",
       " <td>8 GB, GDDR6, 256 bit</td>\n",
       " <td>1110 MHz</td>\n",
       " <td>1750 MHz</td>\n",
       " <td>6144 / 192 / 96</td>\n",
       " </tr>\n",
       " <tr>\n",
       " <td class=\"vendor-NVIDIA\">\n",
       " <a href=\"/gpu-specs/geforce-gtx-660.c895\">GeForce GTX 660</a>\n",
       " </td>\n",
       " <td>\n",
       " <a href=\"/gpu-specs/nvidia-gk106.g186\">GK106</a>\n",
       " </td>\n",
       " <td>Sep 6th, 2012</td>\n",
       " <td>PCIe 3.0 x16</td>\n",
       " <td>2 GB, GDDR5, 192 bit</td>\n",
       " <td>980 MHz</td>\n",
       " <td>1502 MHz</td>\n",
       " <td>960 / 80 / 24</td>\n",
       " </tr>\n",
       " <tr>\n",
       " <td class=\"vendor-NVIDIA\">\n",
       " <a href=\"/gpu-specs/geforce-rtx-2080.c3224\">GeForce RTX 2080</a>\n",
       " </td>\n",
       " <td>\n",
       " <a href=\"/gpu-specs/nvidia-tu104.g854\">TU104</a>\n",
       " </td>\n",
       " <td>Sep 20th, 2018</td>\n",
       " <td>PCIe 3.0 x16</td>\n",
       " <td>8 GB, GDDR6, 256 bit</td>\n",
       " <td>1515 MHz</td>\n",
       " <td>1750 MHz</td>\n",
       " <td>2944 / 184 / 64</td>\n",
       " </tr>\n",
       " <tr>\n",
       " <td class=\"vendor-NVIDIA\">\n",
       " <a href=\"/gpu-specs/geforce-gtx-1660.c3365\">GeForce GTX 1660</a>\n",
       " </td>\n",
       " <td>\n",
       " <a href=\"/gpu-specs/nvidia-tu116.g902\">TU116</a>\n",
       " </td>\n",
       " <td>Mar 14th, 2019</td>\n",
       " <td>PCIe 3.0 x16</td>\n",
       " <td>6 GB, GDDR5, 192 bit</td>\n",
       " <td>1530 MHz</td>\n",
       " <td>2001 MHz</td>\n",
       " <td>1408 / 88 / 48</td>\n",
       " </tr>\n",
       " <tr>\n",
       " <td class=\"vendor-NVIDIA\">\n",
       " <a href=\"/gpu-specs/geforce-gt-710.c1990\">GeForce GT 710</a>\n",
       " </td>\n",
       " <td>\n",
       " <a href=\"/gpu-specs/nvidia-gk208b.g815\">GK208B</a>\n",
       " </td>\n",
       " <td>Mar 27th, 2014</td>\n",
       " <td>PCIe 2.0 x8</td>\n",
       " <td>2 GB, DDR3, 64 bit</td>\n",
       " <td>954 MHz</td>\n",
       " <td>900 MHz</td>\n",
       " <td>192 / 16 / 8</td>\n",
       " </tr>\n",
       " <tr>\n",
       " <td class=\"vendor-NVIDIA\">\n",
       " <a href=\"/gpu-specs/geforce-rtx-2070-super.c3440\">GeForce RTX 2070 SUPER</a>\n",
       " </td>\n",
       " <td>\n",
       " <a href=\"/gpu-specs/nvidia-tu104.g854\">TU104</a>\n",
       " </td>\n",
       " <td>Jul 9th, 2019</td>\n",
       " <td>PCIe 3.0 x16</td>\n",
       " <td>8 GB, GDDR6, 256 bit</td>\n",
       " <td>1605 MHz</td>\n",
       " <td>1750 MHz</td>\n",
       " <td>2560 / 160 / 64</td>\n",
       " </tr>\n",
       " <tr>\n",
       " <td class=\"vendor-AMD\">\n",
       " <a href=\"/gpu-specs/radeon-rx-5700-xt.c3339\">Radeon RX 5700 XT</a>\n",
       " </td>\n",
       " <td>\n",
       " <a href=\"/gpu-specs/amd-navi-10.g861\">Navi 10</a>\n",
       " </td>\n",
       " <td>Jul 7th, 2019</td>\n",
       " <td>PCIe 4.0 x16</td>\n",
       " <td>8 GB, GDDR6, 256 bit</td>\n",
       " <td>1605 MHz</td>\n",
       " <td>1750 MHz</td>\n",
       " <td>2560 / 160 / 64</td>\n",
       " </tr>\n",
       " <tr>\n",
       " <td class=\"vendor-NVIDIA\">\n",
       " <a href=\"/gpu-specs/geforce-gtx-950.c2747\">GeForce GTX 950</a>\n",
       " </td>\n",
       " <td>\n",
       " <a href=\"/gpu-specs/nvidia-gm206.g775\">GM206</a>\n",
       " </td>\n",
       " <td>Aug 20th, 2015</td>\n",
       " <td>PCIe 3.0 x16</td>\n",
       " <td>2 GB, GDDR5, 128 bit</td>\n",
       " <td>1024 MHz</td>\n",
       " <td>1653 MHz</td>\n",
       " <td>768 / 48 / 32</td>\n",
       " </tr>\n",
       " <tr>\n",
       " <td class=\"vendor-AMD\">\n",
       " <a href=\"/gpu-specs/radeon-vega-8.c3042\">Radeon Vega 8</a>\n",
       " </td>\n",
       " <td>\n",
       " <a href=\"/gpu-specs/amd-raven.g816\">Raven</a>\n",
       " </td>\n",
       " <td>Feb 12th, 2018</td>\n",
       " <td>IGP</td>\n",
       " <td>System Shared</td>\n",
       " <td>300 MHz</td>\n",
       " <td>System Shared</td>\n",
       " <td>512 / 32 / 8</td>\n",
       " </tr>\n",
       " <tr>\n",
       " <td class=\"vendor-NVIDIA\">\n",
       " <a href=\"/gpu-specs/geforce-gts-450.c1778\">GeForce GTS 450</a>\n",
       " </td>\n",
       " <td>\n",
       " <a href=\"/gpu-specs/nvidia-gf106.g83\">GF106</a>\n",
       " </td>\n",
       " <td>Sep 13th, 2010</td>\n",
       " <td>PCIe 2.0 x16</td>\n",
       " <td>1024 MB, GDDR5, 128 bit</td>\n",
       " <td>783 MHz</td>\n",
       " <td>902 MHz</td>\n",
       " <td>192 / 32 / 16</td>\n",
       " </tr>\n",
       " <tr>\n",
       " <td class=\"vendor-NVIDIA\">\n",
       " <a href=\"/gpu-specs/geforce-rtx-2070.c3252\">GeForce RTX 2070</a>\n",
       " </td>\n",
       " <td>\n",
       " <a href=\"/gpu-specs/nvidia-tu106.g875\">TU106</a>\n",
       " </td>\n",
       " <td>Oct 17th, 2018</td>\n",
       " <td>PCIe 3.0 x16</td>\n",
       " <td>8 GB, GDDR6, 256 bit</td>\n",
       " <td>1410 MHz</td>\n",
       " <td>1750 MHz</td>\n",
       " <td>2304 / 144 / 64</td>\n",
       " </tr>\n",
       " <tr>\n",
       " <td class=\"vendor-NVIDIA\">\n",
       " <a href=\"/gpu-specs/geforce-gtx-650.c894\">GeForce GTX 650</a>\n",
       " </td>\n",
       " <td>\n",
       " <a href=\"/gpu-specs/nvidia-gk107.g109\">GK107</a>\n",
       " </td>\n",
       " <td>Sep 6th, 2012</td>\n",
       " <td>PCIe 3.0 x16</td>\n",
       " <td>1024 MB, GDDR5, 128 bit</td>\n",
       " <td>1058 MHz</td>\n",
       " <td>1250 MHz</td>\n",
       " <td>384 / 32 / 16</td>\n",
       " </tr>\n",
       " <tr>\n",
       " <td class=\"vendor-AMD\">\n",
       " <a href=\"/gpu-specs/radeon-rx-6800-xt.c3694\">Radeon RX 6800 XT</a>\n",
       " </td>\n",
       " <td>\n",
       " <a href=\"/gpu-specs/amd-navi-21.g923\">Navi 21</a>\n",
       " </td>\n",
       " <td>Oct 28th, 2020</td>\n",
       " <td>PCIe 4.0 x16</td>\n",
       " <td>16 GB, GDDR6, 256 bit</td>\n",
       " <td>1825 MHz</td>\n",
       " <td>2000 MHz</td>\n",
       " <td>4608 / 288 / 128</td>\n",
       " </tr>\n",
       " </table>]"
      ]
     },
     "execution_count": 4,
     "metadata": {},
     "output_type": "execute_result"
    }
   ],
   "source": [
    "#This finds too much, would like to narrow down the details\n",
    "soup.find_all(class_=\"processors\")\n",
    "\n",
    "#Therefore we can't look for things by class or id."
   ]
  },
  {
   "cell_type": "code",
   "execution_count": 5,
   "id": "endangered-blend",
   "metadata": {},
   "outputs": [
    {
     "data": {
      "text/plain": [
       "<tr>\n",
       "<th>Product Name</th>\n",
       "<th>GPU Chip</th>\n",
       "<th>Released</th>\n",
       "<th>Bus</th>\n",
       "<th>Memory</th>\n",
       "<th>GPU clock</th>\n",
       "<th>Memory clock</th>\n",
       "<th>Shaders / TMUs / ROPs</th>\n",
       "</tr>"
      ]
     },
     "execution_count": 5,
     "metadata": {},
     "output_type": "execute_result"
    }
   ],
   "source": [
    "table = soup.findChildren('table')[1]\n",
    "# Locates only the tables, where there are 2, I see the second one being the actual table needed for the data\n",
    "headers = table.findChildren(['tr'])[1]\n",
    "# Heading for each GPU, the name, type, date released, and in depth info.\n",
    "headers"
   ]
  },
  {
   "cell_type": "code",
   "execution_count": 6,
   "id": "excess-damage",
   "metadata": {},
   "outputs": [
    {
     "data": {
      "text/plain": [
       "['Product Name',\n",
       " 'GPU Chip',\n",
       " 'Released',\n",
       " 'Bus',\n",
       " 'Memory',\n",
       " 'GPU clock',\n",
       " 'Memory clock',\n",
       " 'Shaders / TMUs / ROPs']"
      ]
     },
     "execution_count": 6,
     "metadata": {},
     "output_type": "execute_result"
    }
   ],
   "source": [
    "x = []\n",
    "for i in table.find_all(['th'])[1:]:\n",
    "    x.append(i.text.replace('\\n', ' ').strip())\n",
    "x"
   ]
  },
  {
   "cell_type": "code",
   "execution_count": 7,
   "id": "smaller-canadian",
   "metadata": {},
   "outputs": [
    {
     "data": {
      "text/plain": [
       "['GeForce RTX 3060',\n",
       " 'GA106',\n",
       " 'Jan 12th, 2021',\n",
       " 'PCIe 4.0 x16',\n",
       " '12 GB, GDDR6, 192 bit',\n",
       " '1320 MHz',\n",
       " '1875 MHz',\n",
       " '3584 / 112 / 48',\n",
       " 'GeForce RTX 3090',\n",
       " 'GA102',\n",
       " 'Sep 1st, 2020',\n",
       " 'PCIe 4.0 x16',\n",
       " '24 GB, GDDR6X, 384 bit',\n",
       " '1395 MHz',\n",
       " '1219 MHz',\n",
       " '10496 / 328 / 112',\n",
       " 'GeForce RTX 3060 Ti',\n",
       " 'GA104',\n",
       " 'Dec 1st, 2020',\n",
       " 'PCIe 4.0 x16',\n",
       " '8 GB, GDDR6, 256 bit',\n",
       " '1410 MHz',\n",
       " '1750 MHz',\n",
       " '4864 / 152 / 80',\n",
       " 'GeForce RTX 3080',\n",
       " 'GA102',\n",
       " 'Sep 1st, 2020',\n",
       " 'PCIe 4.0 x16',\n",
       " '10 GB, GDDR6X, 320 bit',\n",
       " '1440 MHz',\n",
       " '1188 MHz',\n",
       " '8704 / 272 / 96',\n",
       " 'GeForce GTX 1050 Ti',\n",
       " 'GP107',\n",
       " 'Oct 25th, 2016',\n",
       " 'PCIe 3.0 x16',\n",
       " '4 GB, GDDR5, 128 bit',\n",
       " '1291 MHz',\n",
       " '1752 MHz',\n",
       " '768 / 48 / 32',\n",
       " 'GeForce RTX 3070',\n",
       " 'GA104',\n",
       " 'Sep 1st, 2020',\n",
       " 'PCIe 4.0 x16',\n",
       " '8 GB, GDDR6, 256 bit',\n",
       " '1500 MHz',\n",
       " '1750 MHz',\n",
       " '5888 / 184 / 96',\n",
       " 'Radeon RX 6600 XT',\n",
       " 'Navi 23',\n",
       " 'Jul 30th, 2021',\n",
       " 'PCIe 4.0 x8',\n",
       " '8 GB, GDDR6, 128 bit',\n",
       " '1968 MHz',\n",
       " '2000 MHz',\n",
       " '2048 / 128 / 64',\n",
       " 'GeForce GTX 970',\n",
       " 'GM204',\n",
       " 'Sep 19th, 2014',\n",
       " 'PCIe 3.0 x16',\n",
       " '4 GB, GDDR5, 256 bit',\n",
       " '1050 MHz',\n",
       " '1753 MHz',\n",
       " '1664 / 104 / 56',\n",
       " 'GeForce RTX 3080 Ti',\n",
       " 'GA102',\n",
       " 'May 31st, 2021',\n",
       " 'PCIe 4.0 x16',\n",
       " '12 GB, GDDR6X, 384 bit',\n",
       " '1365 MHz',\n",
       " '1188 MHz',\n",
       " '10240 / 320 / 112',\n",
       " 'GeForce GTX 960',\n",
       " 'GM206',\n",
       " 'Jan 22nd, 2015',\n",
       " 'PCIe 3.0 x16',\n",
       " '2 GB, GDDR5, 128 bit',\n",
       " '1127 MHz',\n",
       " '1753 MHz',\n",
       " '1024 / 64 / 32',\n",
       " 'GeForce RTX 2060',\n",
       " 'TU106',\n",
       " 'Jan 7th, 2019',\n",
       " 'PCIe 3.0 x16',\n",
       " '6 GB, GDDR6, 192 bit',\n",
       " '1365 MHz',\n",
       " '1750 MHz',\n",
       " '1920 / 120 / 48',\n",
       " 'GeForce GTX 1650',\n",
       " 'TU117',\n",
       " 'Apr 23rd, 2019',\n",
       " 'PCIe 3.0 x16',\n",
       " '4 GB, GDDR5, 128 bit',\n",
       " '1485 MHz',\n",
       " '2001 MHz',\n",
       " '896 / 56 / 32',\n",
       " 'GeForce GTX 750 Ti',\n",
       " 'GM107',\n",
       " 'Feb 18th, 2014',\n",
       " 'PCIe 3.0 x16',\n",
       " '2 GB, GDDR5, 128 bit',\n",
       " '1020 MHz',\n",
       " '1350 MHz',\n",
       " '640 / 40 / 16',\n",
       " 'GeForce GTX 1070',\n",
       " 'GP104',\n",
       " 'Jun 10th, 2016',\n",
       " 'PCIe 3.0 x16',\n",
       " '8 GB, GDDR5, 256 bit',\n",
       " '1506 MHz',\n",
       " '2002 MHz',\n",
       " '1920 / 120 / 64',\n",
       " 'GeForce GTX 1060 6 GB',\n",
       " 'GP106',\n",
       " 'Jul 19th, 2016',\n",
       " 'PCIe 3.0 x16',\n",
       " '6 GB, GDDR5, 192 bit',\n",
       " '1506 MHz',\n",
       " '2002 MHz',\n",
       " '1280 / 80 / 48',\n",
       " 'Radeon RX 6600',\n",
       " 'Navi 23',\n",
       " 'Oct 13th, 2021',\n",
       " 'PCIe 4.0 x8',\n",
       " '8 GB, GDDR6, 128 bit',\n",
       " '1626 MHz',\n",
       " '1750 MHz',\n",
       " '1792 / 112 / 64',\n",
       " 'GeForce GT 1030',\n",
       " 'GP108',\n",
       " 'May 17th, 2017',\n",
       " 'PCIe 3.0 x4',\n",
       " '2 GB, GDDR5, 64 bit',\n",
       " '1228 MHz',\n",
       " '1502 MHz',\n",
       " '384 / 24 / 16',\n",
       " 'GeForce RTX 3070 Ti',\n",
       " 'GA104',\n",
       " 'May 31st, 2021',\n",
       " 'PCIe 4.0 x16',\n",
       " '8 GB, GDDR6X, 256 bit',\n",
       " '1575 MHz',\n",
       " '1188 MHz',\n",
       " '6144 / 192 / 96',\n",
       " 'Radeon RX 580',\n",
       " 'Polaris 20',\n",
       " 'Apr 18th, 2017',\n",
       " 'PCIe 3.0 x16',\n",
       " '8 GB, GDDR5, 256 bit',\n",
       " '1257 MHz',\n",
       " '2000 MHz',\n",
       " '2304 / 144 / 32',\n",
       " 'GeForce GTX 1080 Ti',\n",
       " 'GP102',\n",
       " 'Mar 10th, 2017',\n",
       " 'PCIe 3.0 x16',\n",
       " '11 GB, GDDR5X, 352 bit',\n",
       " '1481 MHz',\n",
       " '1376 MHz',\n",
       " '3584 / 224 / 88',\n",
       " 'Radeon RX 6900 XT',\n",
       " 'Navi 21',\n",
       " 'Oct 28th, 2020',\n",
       " 'PCIe 4.0 x16',\n",
       " '16 GB, GDDR6, 256 bit',\n",
       " '1825 MHz',\n",
       " '2000 MHz',\n",
       " '5120 / 320 / 128',\n",
       " 'Radeon RX 570',\n",
       " 'Polaris 20',\n",
       " 'Apr 18th, 2017',\n",
       " 'PCIe 3.0 x16',\n",
       " '4 GB, GDDR5, 256 bit',\n",
       " '1168 MHz',\n",
       " '1750 MHz',\n",
       " '2048 / 128 / 32',\n",
       " 'Radeon RX 6700 XT',\n",
       " 'Navi 22',\n",
       " 'Mar 3rd, 2021',\n",
       " 'PCIe 4.0 x16',\n",
       " '12 GB, GDDR6, 192 bit',\n",
       " '2321 MHz',\n",
       " '2000 MHz',\n",
       " '2560 / 160 / 64',\n",
       " 'GeForce GTX 1660 SUPER',\n",
       " 'TU116',\n",
       " 'Oct 29th, 2019',\n",
       " 'PCIe 3.0 x16',\n",
       " '6 GB, GDDR6, 192 bit',\n",
       " '1530 MHz',\n",
       " '1750 MHz',\n",
       " '1408 / 88 / 48',\n",
       " 'GeForce GTX 1080',\n",
       " 'GP104',\n",
       " 'May 27th, 2016',\n",
       " 'PCIe 3.0 x16',\n",
       " '8 GB, GDDR5X, 256 bit',\n",
       " '1607 MHz',\n",
       " '1251 MHz',\n",
       " '2560 / 160 / 64',\n",
       " 'GeForce GTX 550 Ti',\n",
       " 'GF116',\n",
       " 'Mar 15th, 2011',\n",
       " 'PCIe 2.0 x16',\n",
       " '1024 MB, GDDR5, 192 bit',\n",
       " '900 MHz',\n",
       " '1026 MHz',\n",
       " '192 / 32 / 24',\n",
       " 'GeForce 210',\n",
       " 'GT218',\n",
       " 'Oct 12th, 2009',\n",
       " 'PCIe 2.0 x16',\n",
       " '512 MB, DDR3, 64 bit',\n",
       " '520 MHz',\n",
       " '400 MHz',\n",
       " '16 / 8 / 4',\n",
       " 'GeForce GTX 1660 Ti',\n",
       " 'TU116',\n",
       " 'Feb 22nd, 2019',\n",
       " 'PCIe 3.0 x16',\n",
       " '6 GB, GDDR6, 192 bit',\n",
       " '1500 MHz',\n",
       " '1500 MHz',\n",
       " '1536 / 96 / 48',\n",
       " 'GeForce GTX 1050',\n",
       " 'GP107',\n",
       " 'Oct 25th, 2016',\n",
       " 'PCIe 3.0 x16',\n",
       " '2 GB, GDDR5, 128 bit',\n",
       " '1354 MHz',\n",
       " '1752 MHz',\n",
       " '640 / 40 / 32',\n",
       " 'GeForce RTX 2080 Ti',\n",
       " 'TU102',\n",
       " 'Sep 20th, 2018',\n",
       " 'PCIe 3.0 x16',\n",
       " '11 GB, GDDR6, 352 bit',\n",
       " '1350 MHz',\n",
       " '1750 MHz',\n",
       " '4352 / 272 / 88',\n",
       " 'GeForce RTX 3050',\n",
       " 'GA107',\n",
       " '2022',\n",
       " 'PCIe 4.0 x16',\n",
       " '4 GB, GDDR6, 128 bit',\n",
       " '1545 MHz',\n",
       " '1750 MHz',\n",
       " '2304 / 72 / 40',\n",
       " 'GeForce GT 730',\n",
       " 'GK208B',\n",
       " 'Jun 18th, 2014',\n",
       " 'PCIe 2.0 x8',\n",
       " '1024 MB, GDDR5, 64 bit',\n",
       " '902 MHz',\n",
       " '1253 MHz',\n",
       " '384 / 32 / 8',\n",
       " 'GeForce GTX 760',\n",
       " 'GK104',\n",
       " 'Jun 25th, 2013',\n",
       " 'PCIe 3.0 x16',\n",
       " '2 GB, GDDR5, 256 bit',\n",
       " '980 MHz',\n",
       " '1502 MHz',\n",
       " '1152 / 96 / 32',\n",
       " 'GeForce GTX 1650 SUPER',\n",
       " 'TU116',\n",
       " 'Nov 22nd, 2019',\n",
       " 'PCIe 3.0 x16',\n",
       " '4 GB, GDDR6, 128 bit',\n",
       " '1530 MHz',\n",
       " '1500 MHz',\n",
       " '1280 / 80 / 32',\n",
       " 'GeForce GTX 980 Ti',\n",
       " 'GM200',\n",
       " 'Jun 2nd, 2015',\n",
       " 'PCIe 3.0 x16',\n",
       " '6 GB, GDDR5, 384 bit',\n",
       " '1000 MHz',\n",
       " '1753 MHz',\n",
       " '2816 / 176 / 96',\n",
       " 'Radeon RX 560',\n",
       " 'Polaris 21',\n",
       " 'Apr 18th, 2017',\n",
       " 'PCIe 3.0 x8',\n",
       " '4 GB, GDDR5, 128 bit',\n",
       " '1175 MHz',\n",
       " '1750 MHz',\n",
       " '1024 / 64 / 16',\n",
       " 'Radeon RX 550',\n",
       " 'Lexa',\n",
       " 'Apr 20th, 2017',\n",
       " 'PCIe 3.0 x8',\n",
       " '2 GB, GDDR5, 128 bit',\n",
       " '1100 MHz',\n",
       " '1750 MHz',\n",
       " '512 / 32 / 16',\n",
       " 'GeForce RTX 3080 Mobile',\n",
       " 'GA104',\n",
       " 'Jan 12th, 2021',\n",
       " 'PCIe 4.0 x16',\n",
       " '8 GB, GDDR6, 256 bit',\n",
       " '1110 MHz',\n",
       " '1750 MHz',\n",
       " '6144 / 192 / 96',\n",
       " 'GeForce GTX 660',\n",
       " 'GK106',\n",
       " 'Sep 6th, 2012',\n",
       " 'PCIe 3.0 x16',\n",
       " '2 GB, GDDR5, 192 bit',\n",
       " '980 MHz',\n",
       " '1502 MHz',\n",
       " '960 / 80 / 24',\n",
       " 'GeForce RTX 2080',\n",
       " 'TU104',\n",
       " 'Sep 20th, 2018',\n",
       " 'PCIe 3.0 x16',\n",
       " '8 GB, GDDR6, 256 bit',\n",
       " '1515 MHz',\n",
       " '1750 MHz',\n",
       " '2944 / 184 / 64',\n",
       " 'GeForce GTX 1660',\n",
       " 'TU116',\n",
       " 'Mar 14th, 2019',\n",
       " 'PCIe 3.0 x16',\n",
       " '6 GB, GDDR5, 192 bit',\n",
       " '1530 MHz',\n",
       " '2001 MHz',\n",
       " '1408 / 88 / 48',\n",
       " 'GeForce GT 710',\n",
       " 'GK208B',\n",
       " 'Mar 27th, 2014',\n",
       " 'PCIe 2.0 x8',\n",
       " '2 GB, DDR3, 64 bit',\n",
       " '954 MHz',\n",
       " '900 MHz',\n",
       " '192 / 16 / 8',\n",
       " 'GeForce RTX 2070 SUPER',\n",
       " 'TU104',\n",
       " 'Jul 9th, 2019',\n",
       " 'PCIe 3.0 x16',\n",
       " '8 GB, GDDR6, 256 bit',\n",
       " '1605 MHz',\n",
       " '1750 MHz',\n",
       " '2560 / 160 / 64',\n",
       " 'Radeon RX 5700 XT',\n",
       " 'Navi 10',\n",
       " 'Jul 7th, 2019',\n",
       " 'PCIe 4.0 x16',\n",
       " '8 GB, GDDR6, 256 bit',\n",
       " '1605 MHz',\n",
       " '1750 MHz',\n",
       " '2560 / 160 / 64',\n",
       " 'GeForce GTX 950',\n",
       " 'GM206',\n",
       " 'Aug 20th, 2015',\n",
       " 'PCIe 3.0 x16',\n",
       " '2 GB, GDDR5, 128 bit',\n",
       " '1024 MHz',\n",
       " '1653 MHz',\n",
       " '768 / 48 / 32',\n",
       " 'Radeon Vega 8',\n",
       " 'Raven',\n",
       " 'Feb 12th, 2018',\n",
       " 'IGP',\n",
       " 'System Shared',\n",
       " '300 MHz',\n",
       " 'System Shared',\n",
       " '512 / 32 / 8',\n",
       " 'GeForce GTS 450',\n",
       " 'GF106',\n",
       " 'Sep 13th, 2010',\n",
       " 'PCIe 2.0 x16',\n",
       " '1024 MB, GDDR5, 128 bit',\n",
       " '783 MHz',\n",
       " '902 MHz',\n",
       " '192 / 32 / 16',\n",
       " 'GeForce RTX 2070',\n",
       " 'TU106',\n",
       " 'Oct 17th, 2018',\n",
       " 'PCIe 3.0 x16',\n",
       " '8 GB, GDDR6, 256 bit',\n",
       " '1410 MHz',\n",
       " '1750 MHz',\n",
       " '2304 / 144 / 64',\n",
       " 'GeForce GTX 650',\n",
       " 'GK107',\n",
       " 'Sep 6th, 2012',\n",
       " 'PCIe 3.0 x16',\n",
       " '1024 MB, GDDR5, 128 bit',\n",
       " '1058 MHz',\n",
       " '1250 MHz',\n",
       " '384 / 32 / 16',\n",
       " 'Radeon RX 6800 XT',\n",
       " 'Navi 21',\n",
       " 'Oct 28th, 2020',\n",
       " 'PCIe 4.0 x16',\n",
       " '16 GB, GDDR6, 256 bit',\n",
       " '1825 MHz',\n",
       " '2000 MHz',\n",
       " '4608 / 288 / 128']"
      ]
     },
     "execution_count": 7,
     "metadata": {},
     "output_type": "execute_result"
    }
   ],
   "source": [
    "y = []\n",
    "for i in table.find_all(\"td\"):\n",
    "    y.append(i.text.replace('\\n', ' ').strip())\n",
    "y"
   ]
  },
  {
   "cell_type": "code",
   "execution_count": 8,
   "id": "fitted-dylan",
   "metadata": {},
   "outputs": [
    {
     "data": {
      "text/plain": [
       "50"
      ]
     },
     "execution_count": 8,
     "metadata": {},
     "output_type": "execute_result"
    }
   ],
   "source": [
    "# Now with all the data split, need to create a new array to store as a df.\n",
    "# We know there are 8 different columns per GPU, have to find how many GPUs now\n",
    "# As we know that in the entire site, all the GPUs are split by tr, we have a title, then the column names afterwards \n",
    "# each tr encapsulates each row from the table.\n",
    "# So looking past those 2 we have the remainder.\n",
    "len(table.findChildren(['tr'])[2:])\n",
    "\n",
    "# Therefore we have 50 different GPUs"
   ]
  },
  {
   "cell_type": "code",
   "execution_count": 9,
   "id": "native-stuff",
   "metadata": {},
   "outputs": [],
   "source": [
    "stats = np.reshape(y, (50,8))"
   ]
  },
  {
   "cell_type": "code",
   "execution_count": 10,
   "id": "simplified-discretion",
   "metadata": {
    "scrolled": false
   },
   "outputs": [
    {
     "data": {
      "text/html": [
       "<div>\n",
       "<style scoped>\n",
       "    .dataframe tbody tr th:only-of-type {\n",
       "        vertical-align: middle;\n",
       "    }\n",
       "\n",
       "    .dataframe tbody tr th {\n",
       "        vertical-align: top;\n",
       "    }\n",
       "\n",
       "    .dataframe thead th {\n",
       "        text-align: right;\n",
       "    }\n",
       "</style>\n",
       "<table border=\"1\" class=\"dataframe\">\n",
       "  <thead>\n",
       "    <tr style=\"text-align: right;\">\n",
       "      <th></th>\n",
       "      <th>Product Name</th>\n",
       "      <th>GPU Chip</th>\n",
       "      <th>Released</th>\n",
       "      <th>Bus</th>\n",
       "      <th>Memory</th>\n",
       "      <th>GPU clock</th>\n",
       "      <th>Memory clock</th>\n",
       "      <th>Shaders / TMUs / ROPs</th>\n",
       "    </tr>\n",
       "  </thead>\n",
       "  <tbody>\n",
       "    <tr>\n",
       "      <th>0</th>\n",
       "      <td>GeForce RTX 3060</td>\n",
       "      <td>GA106</td>\n",
       "      <td>Jan 12th, 2021</td>\n",
       "      <td>PCIe 4.0 x16</td>\n",
       "      <td>12 GB, GDDR6, 192 bit</td>\n",
       "      <td>1320 MHz</td>\n",
       "      <td>1875 MHz</td>\n",
       "      <td>3584 / 112 / 48</td>\n",
       "    </tr>\n",
       "    <tr>\n",
       "      <th>1</th>\n",
       "      <td>GeForce RTX 3090</td>\n",
       "      <td>GA102</td>\n",
       "      <td>Sep 1st, 2020</td>\n",
       "      <td>PCIe 4.0 x16</td>\n",
       "      <td>24 GB, GDDR6X, 384 bit</td>\n",
       "      <td>1395 MHz</td>\n",
       "      <td>1219 MHz</td>\n",
       "      <td>10496 / 328 / 112</td>\n",
       "    </tr>\n",
       "    <tr>\n",
       "      <th>2</th>\n",
       "      <td>GeForce RTX 3060 Ti</td>\n",
       "      <td>GA104</td>\n",
       "      <td>Dec 1st, 2020</td>\n",
       "      <td>PCIe 4.0 x16</td>\n",
       "      <td>8 GB, GDDR6, 256 bit</td>\n",
       "      <td>1410 MHz</td>\n",
       "      <td>1750 MHz</td>\n",
       "      <td>4864 / 152 / 80</td>\n",
       "    </tr>\n",
       "    <tr>\n",
       "      <th>3</th>\n",
       "      <td>GeForce RTX 3080</td>\n",
       "      <td>GA102</td>\n",
       "      <td>Sep 1st, 2020</td>\n",
       "      <td>PCIe 4.0 x16</td>\n",
       "      <td>10 GB, GDDR6X, 320 bit</td>\n",
       "      <td>1440 MHz</td>\n",
       "      <td>1188 MHz</td>\n",
       "      <td>8704 / 272 / 96</td>\n",
       "    </tr>\n",
       "    <tr>\n",
       "      <th>4</th>\n",
       "      <td>GeForce GTX 1050 Ti</td>\n",
       "      <td>GP107</td>\n",
       "      <td>Oct 25th, 2016</td>\n",
       "      <td>PCIe 3.0 x16</td>\n",
       "      <td>4 GB, GDDR5, 128 bit</td>\n",
       "      <td>1291 MHz</td>\n",
       "      <td>1752 MHz</td>\n",
       "      <td>768 / 48 / 32</td>\n",
       "    </tr>\n",
       "  </tbody>\n",
       "</table>\n",
       "</div>"
      ],
      "text/plain": [
       "          Product Name GPU Chip        Released           Bus  \\\n",
       "0     GeForce RTX 3060    GA106  Jan 12th, 2021  PCIe 4.0 x16   \n",
       "1     GeForce RTX 3090    GA102   Sep 1st, 2020  PCIe 4.0 x16   \n",
       "2  GeForce RTX 3060 Ti    GA104   Dec 1st, 2020  PCIe 4.0 x16   \n",
       "3     GeForce RTX 3080    GA102   Sep 1st, 2020  PCIe 4.0 x16   \n",
       "4  GeForce GTX 1050 Ti    GP107  Oct 25th, 2016  PCIe 3.0 x16   \n",
       "\n",
       "                   Memory GPU clock Memory clock Shaders / TMUs / ROPs  \n",
       "0   12 GB, GDDR6, 192 bit  1320 MHz     1875 MHz       3584 / 112 / 48  \n",
       "1  24 GB, GDDR6X, 384 bit  1395 MHz     1219 MHz     10496 / 328 / 112  \n",
       "2    8 GB, GDDR6, 256 bit  1410 MHz     1750 MHz       4864 / 152 / 80  \n",
       "3  10 GB, GDDR6X, 320 bit  1440 MHz     1188 MHz       8704 / 272 / 96  \n",
       "4    4 GB, GDDR5, 128 bit  1291 MHz     1752 MHz         768 / 48 / 32  "
      ]
     },
     "execution_count": 10,
     "metadata": {},
     "output_type": "execute_result"
    }
   ],
   "source": [
    "df = pd.DataFrame(stats, columns=x)\n",
    "df.head()"
   ]
  },
  {
   "cell_type": "code",
   "execution_count": 38,
   "id": "sharing-celebrity",
   "metadata": {},
   "outputs": [
    {
     "data": {
      "text/html": [
       "<div>\n",
       "<style scoped>\n",
       "    .dataframe tbody tr th:only-of-type {\n",
       "        vertical-align: middle;\n",
       "    }\n",
       "\n",
       "    .dataframe tbody tr th {\n",
       "        vertical-align: top;\n",
       "    }\n",
       "\n",
       "    .dataframe thead th {\n",
       "        text-align: right;\n",
       "    }\n",
       "</style>\n",
       "<table border=\"1\" class=\"dataframe\">\n",
       "  <thead>\n",
       "    <tr style=\"text-align: right;\">\n",
       "      <th></th>\n",
       "      <th>Product Name</th>\n",
       "      <th>GPU Chip</th>\n",
       "      <th>Released</th>\n",
       "      <th>Bus</th>\n",
       "      <th>Memory</th>\n",
       "      <th>GPU clock</th>\n",
       "      <th>Memory clock</th>\n",
       "      <th>Shaders / TMUs / ROPs</th>\n",
       "      <th>Shaders</th>\n",
       "      <th>TMUs</th>\n",
       "      <th>ROPs</th>\n",
       "      <th>GPU clock(MHz)</th>\n",
       "      <th>Memory clock(MHz)</th>\n",
       "    </tr>\n",
       "  </thead>\n",
       "  <tbody>\n",
       "    <tr>\n",
       "      <th>0</th>\n",
       "      <td>GeForce RTX 3060</td>\n",
       "      <td>GA106</td>\n",
       "      <td>Jan 12th, 2021</td>\n",
       "      <td>PCIe 4.0 x16</td>\n",
       "      <td>12 GB, GDDR6, 192 bit</td>\n",
       "      <td>1320 MHz</td>\n",
       "      <td>1875 MHz</td>\n",
       "      <td>3584 / 112 / 48</td>\n",
       "      <td>3584.0</td>\n",
       "      <td>112.0</td>\n",
       "      <td>48.0</td>\n",
       "      <td>1320.0</td>\n",
       "      <td>1875.0</td>\n",
       "    </tr>\n",
       "    <tr>\n",
       "      <th>1</th>\n",
       "      <td>GeForce RTX 3090</td>\n",
       "      <td>GA102</td>\n",
       "      <td>Sep 1st, 2020</td>\n",
       "      <td>PCIe 4.0 x16</td>\n",
       "      <td>24 GB, GDDR6X, 384 bit</td>\n",
       "      <td>1395 MHz</td>\n",
       "      <td>1219 MHz</td>\n",
       "      <td>10496 / 328 / 112</td>\n",
       "      <td>10496.0</td>\n",
       "      <td>328.0</td>\n",
       "      <td>112.0</td>\n",
       "      <td>1395.0</td>\n",
       "      <td>1219.0</td>\n",
       "    </tr>\n",
       "    <tr>\n",
       "      <th>2</th>\n",
       "      <td>GeForce RTX 3060 Ti</td>\n",
       "      <td>GA104</td>\n",
       "      <td>Dec 1st, 2020</td>\n",
       "      <td>PCIe 4.0 x16</td>\n",
       "      <td>8 GB, GDDR6, 256 bit</td>\n",
       "      <td>1410 MHz</td>\n",
       "      <td>1750 MHz</td>\n",
       "      <td>4864 / 152 / 80</td>\n",
       "      <td>4864.0</td>\n",
       "      <td>152.0</td>\n",
       "      <td>80.0</td>\n",
       "      <td>1410.0</td>\n",
       "      <td>1750.0</td>\n",
       "    </tr>\n",
       "    <tr>\n",
       "      <th>3</th>\n",
       "      <td>GeForce RTX 3080</td>\n",
       "      <td>GA102</td>\n",
       "      <td>Sep 1st, 2020</td>\n",
       "      <td>PCIe 4.0 x16</td>\n",
       "      <td>10 GB, GDDR6X, 320 bit</td>\n",
       "      <td>1440 MHz</td>\n",
       "      <td>1188 MHz</td>\n",
       "      <td>8704 / 272 / 96</td>\n",
       "      <td>8704.0</td>\n",
       "      <td>272.0</td>\n",
       "      <td>96.0</td>\n",
       "      <td>1440.0</td>\n",
       "      <td>1188.0</td>\n",
       "    </tr>\n",
       "    <tr>\n",
       "      <th>4</th>\n",
       "      <td>GeForce GTX 1050 Ti</td>\n",
       "      <td>GP107</td>\n",
       "      <td>Oct 25th, 2016</td>\n",
       "      <td>PCIe 3.0 x16</td>\n",
       "      <td>4 GB, GDDR5, 128 bit</td>\n",
       "      <td>1291 MHz</td>\n",
       "      <td>1752 MHz</td>\n",
       "      <td>768 / 48 / 32</td>\n",
       "      <td>768.0</td>\n",
       "      <td>48.0</td>\n",
       "      <td>32.0</td>\n",
       "      <td>1291.0</td>\n",
       "      <td>1752.0</td>\n",
       "    </tr>\n",
       "  </tbody>\n",
       "</table>\n",
       "</div>"
      ],
      "text/plain": [
       "          Product Name GPU Chip        Released           Bus  \\\n",
       "0     GeForce RTX 3060    GA106  Jan 12th, 2021  PCIe 4.0 x16   \n",
       "1     GeForce RTX 3090    GA102   Sep 1st, 2020  PCIe 4.0 x16   \n",
       "2  GeForce RTX 3060 Ti    GA104   Dec 1st, 2020  PCIe 4.0 x16   \n",
       "3     GeForce RTX 3080    GA102   Sep 1st, 2020  PCIe 4.0 x16   \n",
       "4  GeForce GTX 1050 Ti    GP107  Oct 25th, 2016  PCIe 3.0 x16   \n",
       "\n",
       "                   Memory GPU clock Memory clock Shaders / TMUs / ROPs  \\\n",
       "0   12 GB, GDDR6, 192 bit  1320 MHz     1875 MHz       3584 / 112 / 48   \n",
       "1  24 GB, GDDR6X, 384 bit  1395 MHz     1219 MHz     10496 / 328 / 112   \n",
       "2    8 GB, GDDR6, 256 bit  1410 MHz     1750 MHz       4864 / 152 / 80   \n",
       "3  10 GB, GDDR6X, 320 bit  1440 MHz     1188 MHz       8704 / 272 / 96   \n",
       "4    4 GB, GDDR5, 128 bit  1291 MHz     1752 MHz         768 / 48 / 32   \n",
       "\n",
       "   Shaders   TMUs   ROPs  GPU clock(MHz)  Memory clock(MHz)  \n",
       "0   3584.0  112.0   48.0          1320.0             1875.0  \n",
       "1  10496.0  328.0  112.0          1395.0             1219.0  \n",
       "2   4864.0  152.0   80.0          1410.0             1750.0  \n",
       "3   8704.0  272.0   96.0          1440.0             1188.0  \n",
       "4    768.0   48.0   32.0          1291.0             1752.0  "
      ]
     },
     "execution_count": 38,
     "metadata": {},
     "output_type": "execute_result"
    }
   ],
   "source": [
    "# Trying to split the Shaders, TMUs, ROPs stats. \n",
    "# Quite finicky \n",
    "df[['Shaders', 'TMUs', 'ROPs']] = df[\"Shaders / TMUs / ROPs\"].str.split(' / ', expand=True).astype(float)\n",
    "df.head()"
   ]
  },
  {
   "cell_type": "code",
   "execution_count": 32,
   "id": "exempt-accounting",
   "metadata": {},
   "outputs": [
    {
     "data": {
      "text/html": [
       "<div>\n",
       "<style scoped>\n",
       "    .dataframe tbody tr th:only-of-type {\n",
       "        vertical-align: middle;\n",
       "    }\n",
       "\n",
       "    .dataframe tbody tr th {\n",
       "        vertical-align: top;\n",
       "    }\n",
       "\n",
       "    .dataframe thead th {\n",
       "        text-align: right;\n",
       "    }\n",
       "</style>\n",
       "<table border=\"1\" class=\"dataframe\">\n",
       "  <thead>\n",
       "    <tr style=\"text-align: right;\">\n",
       "      <th></th>\n",
       "      <th>Product Name</th>\n",
       "      <th>GPU Chip</th>\n",
       "      <th>Released</th>\n",
       "      <th>Bus</th>\n",
       "      <th>Memory</th>\n",
       "      <th>GPU clock</th>\n",
       "      <th>Memory clock</th>\n",
       "      <th>Shaders / TMUs / ROPs</th>\n",
       "      <th>Shaders</th>\n",
       "      <th>TMUs</th>\n",
       "      <th>ROPs</th>\n",
       "      <th>GPU clock(MHz)</th>\n",
       "      <th>Memory clock(MHz)</th>\n",
       "    </tr>\n",
       "  </thead>\n",
       "  <tbody>\n",
       "    <tr>\n",
       "      <th>0</th>\n",
       "      <td>GeForce RTX 3060</td>\n",
       "      <td>GA106</td>\n",
       "      <td>Jan 12th, 2021</td>\n",
       "      <td>PCIe 4.0 x16</td>\n",
       "      <td>12 GB, GDDR6, 192 bit</td>\n",
       "      <td>1320 MHz</td>\n",
       "      <td>1875 MHz</td>\n",
       "      <td>3584 / 112 / 48</td>\n",
       "      <td>3584</td>\n",
       "      <td>112</td>\n",
       "      <td>48</td>\n",
       "      <td>1320.0</td>\n",
       "      <td>1875.0</td>\n",
       "    </tr>\n",
       "    <tr>\n",
       "      <th>1</th>\n",
       "      <td>GeForce RTX 3090</td>\n",
       "      <td>GA102</td>\n",
       "      <td>Sep 1st, 2020</td>\n",
       "      <td>PCIe 4.0 x16</td>\n",
       "      <td>24 GB, GDDR6X, 384 bit</td>\n",
       "      <td>1395 MHz</td>\n",
       "      <td>1219 MHz</td>\n",
       "      <td>10496 / 328 / 112</td>\n",
       "      <td>10496</td>\n",
       "      <td>328</td>\n",
       "      <td>112</td>\n",
       "      <td>1395.0</td>\n",
       "      <td>1219.0</td>\n",
       "    </tr>\n",
       "    <tr>\n",
       "      <th>2</th>\n",
       "      <td>GeForce RTX 3060 Ti</td>\n",
       "      <td>GA104</td>\n",
       "      <td>Dec 1st, 2020</td>\n",
       "      <td>PCIe 4.0 x16</td>\n",
       "      <td>8 GB, GDDR6, 256 bit</td>\n",
       "      <td>1410 MHz</td>\n",
       "      <td>1750 MHz</td>\n",
       "      <td>4864 / 152 / 80</td>\n",
       "      <td>4864</td>\n",
       "      <td>152</td>\n",
       "      <td>80</td>\n",
       "      <td>1410.0</td>\n",
       "      <td>1750.0</td>\n",
       "    </tr>\n",
       "    <tr>\n",
       "      <th>3</th>\n",
       "      <td>GeForce RTX 3080</td>\n",
       "      <td>GA102</td>\n",
       "      <td>Sep 1st, 2020</td>\n",
       "      <td>PCIe 4.0 x16</td>\n",
       "      <td>10 GB, GDDR6X, 320 bit</td>\n",
       "      <td>1440 MHz</td>\n",
       "      <td>1188 MHz</td>\n",
       "      <td>8704 / 272 / 96</td>\n",
       "      <td>8704</td>\n",
       "      <td>272</td>\n",
       "      <td>96</td>\n",
       "      <td>1440.0</td>\n",
       "      <td>1188.0</td>\n",
       "    </tr>\n",
       "    <tr>\n",
       "      <th>4</th>\n",
       "      <td>GeForce GTX 1050 Ti</td>\n",
       "      <td>GP107</td>\n",
       "      <td>Oct 25th, 2016</td>\n",
       "      <td>PCIe 3.0 x16</td>\n",
       "      <td>4 GB, GDDR5, 128 bit</td>\n",
       "      <td>1291 MHz</td>\n",
       "      <td>1752 MHz</td>\n",
       "      <td>768 / 48 / 32</td>\n",
       "      <td>768</td>\n",
       "      <td>48</td>\n",
       "      <td>32</td>\n",
       "      <td>1291.0</td>\n",
       "      <td>1752.0</td>\n",
       "    </tr>\n",
       "    <tr>\n",
       "      <th>5</th>\n",
       "      <td>GeForce RTX 3070</td>\n",
       "      <td>GA104</td>\n",
       "      <td>Sep 1st, 2020</td>\n",
       "      <td>PCIe 4.0 x16</td>\n",
       "      <td>8 GB, GDDR6, 256 bit</td>\n",
       "      <td>1500 MHz</td>\n",
       "      <td>1750 MHz</td>\n",
       "      <td>5888 / 184 / 96</td>\n",
       "      <td>5888</td>\n",
       "      <td>184</td>\n",
       "      <td>96</td>\n",
       "      <td>1500.0</td>\n",
       "      <td>1750.0</td>\n",
       "    </tr>\n",
       "    <tr>\n",
       "      <th>6</th>\n",
       "      <td>Radeon RX 6600 XT</td>\n",
       "      <td>Navi 23</td>\n",
       "      <td>Jul 30th, 2021</td>\n",
       "      <td>PCIe 4.0 x8</td>\n",
       "      <td>8 GB, GDDR6, 128 bit</td>\n",
       "      <td>1968 MHz</td>\n",
       "      <td>2000 MHz</td>\n",
       "      <td>2048 / 128 / 64</td>\n",
       "      <td>2048</td>\n",
       "      <td>128</td>\n",
       "      <td>64</td>\n",
       "      <td>1968.0</td>\n",
       "      <td>2000.0</td>\n",
       "    </tr>\n",
       "    <tr>\n",
       "      <th>7</th>\n",
       "      <td>GeForce GTX 970</td>\n",
       "      <td>GM204</td>\n",
       "      <td>Sep 19th, 2014</td>\n",
       "      <td>PCIe 3.0 x16</td>\n",
       "      <td>4 GB, GDDR5, 256 bit</td>\n",
       "      <td>1050 MHz</td>\n",
       "      <td>1753 MHz</td>\n",
       "      <td>1664 / 104 / 56</td>\n",
       "      <td>1664</td>\n",
       "      <td>104</td>\n",
       "      <td>56</td>\n",
       "      <td>1050.0</td>\n",
       "      <td>1753.0</td>\n",
       "    </tr>\n",
       "    <tr>\n",
       "      <th>8</th>\n",
       "      <td>GeForce RTX 3080 Ti</td>\n",
       "      <td>GA102</td>\n",
       "      <td>May 31st, 2021</td>\n",
       "      <td>PCIe 4.0 x16</td>\n",
       "      <td>12 GB, GDDR6X, 384 bit</td>\n",
       "      <td>1365 MHz</td>\n",
       "      <td>1188 MHz</td>\n",
       "      <td>10240 / 320 / 112</td>\n",
       "      <td>10240</td>\n",
       "      <td>320</td>\n",
       "      <td>112</td>\n",
       "      <td>1365.0</td>\n",
       "      <td>1188.0</td>\n",
       "    </tr>\n",
       "    <tr>\n",
       "      <th>9</th>\n",
       "      <td>GeForce GTX 960</td>\n",
       "      <td>GM206</td>\n",
       "      <td>Jan 22nd, 2015</td>\n",
       "      <td>PCIe 3.0 x16</td>\n",
       "      <td>2 GB, GDDR5, 128 bit</td>\n",
       "      <td>1127 MHz</td>\n",
       "      <td>1753 MHz</td>\n",
       "      <td>1024 / 64 / 32</td>\n",
       "      <td>1024</td>\n",
       "      <td>64</td>\n",
       "      <td>32</td>\n",
       "      <td>1127.0</td>\n",
       "      <td>1753.0</td>\n",
       "    </tr>\n",
       "    <tr>\n",
       "      <th>10</th>\n",
       "      <td>GeForce RTX 2060</td>\n",
       "      <td>TU106</td>\n",
       "      <td>Jan 7th, 2019</td>\n",
       "      <td>PCIe 3.0 x16</td>\n",
       "      <td>6 GB, GDDR6, 192 bit</td>\n",
       "      <td>1365 MHz</td>\n",
       "      <td>1750 MHz</td>\n",
       "      <td>1920 / 120 / 48</td>\n",
       "      <td>1920</td>\n",
       "      <td>120</td>\n",
       "      <td>48</td>\n",
       "      <td>1365.0</td>\n",
       "      <td>1750.0</td>\n",
       "    </tr>\n",
       "    <tr>\n",
       "      <th>11</th>\n",
       "      <td>GeForce GTX 1650</td>\n",
       "      <td>TU117</td>\n",
       "      <td>Apr 23rd, 2019</td>\n",
       "      <td>PCIe 3.0 x16</td>\n",
       "      <td>4 GB, GDDR5, 128 bit</td>\n",
       "      <td>1485 MHz</td>\n",
       "      <td>2001 MHz</td>\n",
       "      <td>896 / 56 / 32</td>\n",
       "      <td>896</td>\n",
       "      <td>56</td>\n",
       "      <td>32</td>\n",
       "      <td>1485.0</td>\n",
       "      <td>2001.0</td>\n",
       "    </tr>\n",
       "    <tr>\n",
       "      <th>12</th>\n",
       "      <td>GeForce GTX 750 Ti</td>\n",
       "      <td>GM107</td>\n",
       "      <td>Feb 18th, 2014</td>\n",
       "      <td>PCIe 3.0 x16</td>\n",
       "      <td>2 GB, GDDR5, 128 bit</td>\n",
       "      <td>1020 MHz</td>\n",
       "      <td>1350 MHz</td>\n",
       "      <td>640 / 40 / 16</td>\n",
       "      <td>640</td>\n",
       "      <td>40</td>\n",
       "      <td>16</td>\n",
       "      <td>1020.0</td>\n",
       "      <td>1350.0</td>\n",
       "    </tr>\n",
       "    <tr>\n",
       "      <th>13</th>\n",
       "      <td>GeForce GTX 1070</td>\n",
       "      <td>GP104</td>\n",
       "      <td>Jun 10th, 2016</td>\n",
       "      <td>PCIe 3.0 x16</td>\n",
       "      <td>8 GB, GDDR5, 256 bit</td>\n",
       "      <td>1506 MHz</td>\n",
       "      <td>2002 MHz</td>\n",
       "      <td>1920 / 120 / 64</td>\n",
       "      <td>1920</td>\n",
       "      <td>120</td>\n",
       "      <td>64</td>\n",
       "      <td>1506.0</td>\n",
       "      <td>2002.0</td>\n",
       "    </tr>\n",
       "    <tr>\n",
       "      <th>14</th>\n",
       "      <td>GeForce GTX 1060 6 GB</td>\n",
       "      <td>GP106</td>\n",
       "      <td>Jul 19th, 2016</td>\n",
       "      <td>PCIe 3.0 x16</td>\n",
       "      <td>6 GB, GDDR5, 192 bit</td>\n",
       "      <td>1506 MHz</td>\n",
       "      <td>2002 MHz</td>\n",
       "      <td>1280 / 80 / 48</td>\n",
       "      <td>1280</td>\n",
       "      <td>80</td>\n",
       "      <td>48</td>\n",
       "      <td>1506.0</td>\n",
       "      <td>2002.0</td>\n",
       "    </tr>\n",
       "    <tr>\n",
       "      <th>15</th>\n",
       "      <td>Radeon RX 6600</td>\n",
       "      <td>Navi 23</td>\n",
       "      <td>Oct 13th, 2021</td>\n",
       "      <td>PCIe 4.0 x8</td>\n",
       "      <td>8 GB, GDDR6, 128 bit</td>\n",
       "      <td>1626 MHz</td>\n",
       "      <td>1750 MHz</td>\n",
       "      <td>1792 / 112 / 64</td>\n",
       "      <td>1792</td>\n",
       "      <td>112</td>\n",
       "      <td>64</td>\n",
       "      <td>1626.0</td>\n",
       "      <td>1750.0</td>\n",
       "    </tr>\n",
       "    <tr>\n",
       "      <th>16</th>\n",
       "      <td>GeForce GT 1030</td>\n",
       "      <td>GP108</td>\n",
       "      <td>May 17th, 2017</td>\n",
       "      <td>PCIe 3.0 x4</td>\n",
       "      <td>2 GB, GDDR5, 64 bit</td>\n",
       "      <td>1228 MHz</td>\n",
       "      <td>1502 MHz</td>\n",
       "      <td>384 / 24 / 16</td>\n",
       "      <td>384</td>\n",
       "      <td>24</td>\n",
       "      <td>16</td>\n",
       "      <td>1228.0</td>\n",
       "      <td>1502.0</td>\n",
       "    </tr>\n",
       "    <tr>\n",
       "      <th>17</th>\n",
       "      <td>GeForce RTX 3070 Ti</td>\n",
       "      <td>GA104</td>\n",
       "      <td>May 31st, 2021</td>\n",
       "      <td>PCIe 4.0 x16</td>\n",
       "      <td>8 GB, GDDR6X, 256 bit</td>\n",
       "      <td>1575 MHz</td>\n",
       "      <td>1188 MHz</td>\n",
       "      <td>6144 / 192 / 96</td>\n",
       "      <td>6144</td>\n",
       "      <td>192</td>\n",
       "      <td>96</td>\n",
       "      <td>1575.0</td>\n",
       "      <td>1188.0</td>\n",
       "    </tr>\n",
       "    <tr>\n",
       "      <th>18</th>\n",
       "      <td>Radeon RX 580</td>\n",
       "      <td>Polaris 20</td>\n",
       "      <td>Apr 18th, 2017</td>\n",
       "      <td>PCIe 3.0 x16</td>\n",
       "      <td>8 GB, GDDR5, 256 bit</td>\n",
       "      <td>1257 MHz</td>\n",
       "      <td>2000 MHz</td>\n",
       "      <td>2304 / 144 / 32</td>\n",
       "      <td>2304</td>\n",
       "      <td>144</td>\n",
       "      <td>32</td>\n",
       "      <td>1257.0</td>\n",
       "      <td>2000.0</td>\n",
       "    </tr>\n",
       "    <tr>\n",
       "      <th>19</th>\n",
       "      <td>GeForce GTX 1080 Ti</td>\n",
       "      <td>GP102</td>\n",
       "      <td>Mar 10th, 2017</td>\n",
       "      <td>PCIe 3.0 x16</td>\n",
       "      <td>11 GB, GDDR5X, 352 bit</td>\n",
       "      <td>1481 MHz</td>\n",
       "      <td>1376 MHz</td>\n",
       "      <td>3584 / 224 / 88</td>\n",
       "      <td>3584</td>\n",
       "      <td>224</td>\n",
       "      <td>88</td>\n",
       "      <td>1481.0</td>\n",
       "      <td>1376.0</td>\n",
       "    </tr>\n",
       "    <tr>\n",
       "      <th>20</th>\n",
       "      <td>Radeon RX 6900 XT</td>\n",
       "      <td>Navi 21</td>\n",
       "      <td>Oct 28th, 2020</td>\n",
       "      <td>PCIe 4.0 x16</td>\n",
       "      <td>16 GB, GDDR6, 256 bit</td>\n",
       "      <td>1825 MHz</td>\n",
       "      <td>2000 MHz</td>\n",
       "      <td>5120 / 320 / 128</td>\n",
       "      <td>5120</td>\n",
       "      <td>320</td>\n",
       "      <td>128</td>\n",
       "      <td>1825.0</td>\n",
       "      <td>2000.0</td>\n",
       "    </tr>\n",
       "    <tr>\n",
       "      <th>21</th>\n",
       "      <td>Radeon RX 570</td>\n",
       "      <td>Polaris 20</td>\n",
       "      <td>Apr 18th, 2017</td>\n",
       "      <td>PCIe 3.0 x16</td>\n",
       "      <td>4 GB, GDDR5, 256 bit</td>\n",
       "      <td>1168 MHz</td>\n",
       "      <td>1750 MHz</td>\n",
       "      <td>2048 / 128 / 32</td>\n",
       "      <td>2048</td>\n",
       "      <td>128</td>\n",
       "      <td>32</td>\n",
       "      <td>1168.0</td>\n",
       "      <td>1750.0</td>\n",
       "    </tr>\n",
       "    <tr>\n",
       "      <th>22</th>\n",
       "      <td>Radeon RX 6700 XT</td>\n",
       "      <td>Navi 22</td>\n",
       "      <td>Mar 3rd, 2021</td>\n",
       "      <td>PCIe 4.0 x16</td>\n",
       "      <td>12 GB, GDDR6, 192 bit</td>\n",
       "      <td>2321 MHz</td>\n",
       "      <td>2000 MHz</td>\n",
       "      <td>2560 / 160 / 64</td>\n",
       "      <td>2560</td>\n",
       "      <td>160</td>\n",
       "      <td>64</td>\n",
       "      <td>2321.0</td>\n",
       "      <td>2000.0</td>\n",
       "    </tr>\n",
       "    <tr>\n",
       "      <th>23</th>\n",
       "      <td>GeForce GTX 1660 SUPER</td>\n",
       "      <td>TU116</td>\n",
       "      <td>Oct 29th, 2019</td>\n",
       "      <td>PCIe 3.0 x16</td>\n",
       "      <td>6 GB, GDDR6, 192 bit</td>\n",
       "      <td>1530 MHz</td>\n",
       "      <td>1750 MHz</td>\n",
       "      <td>1408 / 88 / 48</td>\n",
       "      <td>1408</td>\n",
       "      <td>88</td>\n",
       "      <td>48</td>\n",
       "      <td>1530.0</td>\n",
       "      <td>1750.0</td>\n",
       "    </tr>\n",
       "    <tr>\n",
       "      <th>24</th>\n",
       "      <td>GeForce GTX 1080</td>\n",
       "      <td>GP104</td>\n",
       "      <td>May 27th, 2016</td>\n",
       "      <td>PCIe 3.0 x16</td>\n",
       "      <td>8 GB, GDDR5X, 256 bit</td>\n",
       "      <td>1607 MHz</td>\n",
       "      <td>1251 MHz</td>\n",
       "      <td>2560 / 160 / 64</td>\n",
       "      <td>2560</td>\n",
       "      <td>160</td>\n",
       "      <td>64</td>\n",
       "      <td>1607.0</td>\n",
       "      <td>1251.0</td>\n",
       "    </tr>\n",
       "    <tr>\n",
       "      <th>25</th>\n",
       "      <td>GeForce GTX 550 Ti</td>\n",
       "      <td>GF116</td>\n",
       "      <td>Mar 15th, 2011</td>\n",
       "      <td>PCIe 2.0 x16</td>\n",
       "      <td>1024 MB, GDDR5, 192 bit</td>\n",
       "      <td>900 MHz</td>\n",
       "      <td>1026 MHz</td>\n",
       "      <td>192 / 32 / 24</td>\n",
       "      <td>192</td>\n",
       "      <td>32</td>\n",
       "      <td>24</td>\n",
       "      <td>900.0</td>\n",
       "      <td>1026.0</td>\n",
       "    </tr>\n",
       "    <tr>\n",
       "      <th>26</th>\n",
       "      <td>GeForce 210</td>\n",
       "      <td>GT218</td>\n",
       "      <td>Oct 12th, 2009</td>\n",
       "      <td>PCIe 2.0 x16</td>\n",
       "      <td>512 MB, DDR3, 64 bit</td>\n",
       "      <td>520 MHz</td>\n",
       "      <td>400 MHz</td>\n",
       "      <td>16 / 8 / 4</td>\n",
       "      <td>16</td>\n",
       "      <td>8</td>\n",
       "      <td>4</td>\n",
       "      <td>520.0</td>\n",
       "      <td>400.0</td>\n",
       "    </tr>\n",
       "    <tr>\n",
       "      <th>27</th>\n",
       "      <td>GeForce GTX 1660 Ti</td>\n",
       "      <td>TU116</td>\n",
       "      <td>Feb 22nd, 2019</td>\n",
       "      <td>PCIe 3.0 x16</td>\n",
       "      <td>6 GB, GDDR6, 192 bit</td>\n",
       "      <td>1500 MHz</td>\n",
       "      <td>1500 MHz</td>\n",
       "      <td>1536 / 96 / 48</td>\n",
       "      <td>1536</td>\n",
       "      <td>96</td>\n",
       "      <td>48</td>\n",
       "      <td>1500.0</td>\n",
       "      <td>1500.0</td>\n",
       "    </tr>\n",
       "    <tr>\n",
       "      <th>28</th>\n",
       "      <td>GeForce GTX 1050</td>\n",
       "      <td>GP107</td>\n",
       "      <td>Oct 25th, 2016</td>\n",
       "      <td>PCIe 3.0 x16</td>\n",
       "      <td>2 GB, GDDR5, 128 bit</td>\n",
       "      <td>1354 MHz</td>\n",
       "      <td>1752 MHz</td>\n",
       "      <td>640 / 40 / 32</td>\n",
       "      <td>640</td>\n",
       "      <td>40</td>\n",
       "      <td>32</td>\n",
       "      <td>1354.0</td>\n",
       "      <td>1752.0</td>\n",
       "    </tr>\n",
       "    <tr>\n",
       "      <th>29</th>\n",
       "      <td>GeForce RTX 2080 Ti</td>\n",
       "      <td>TU102</td>\n",
       "      <td>Sep 20th, 2018</td>\n",
       "      <td>PCIe 3.0 x16</td>\n",
       "      <td>11 GB, GDDR6, 352 bit</td>\n",
       "      <td>1350 MHz</td>\n",
       "      <td>1750 MHz</td>\n",
       "      <td>4352 / 272 / 88</td>\n",
       "      <td>4352</td>\n",
       "      <td>272</td>\n",
       "      <td>88</td>\n",
       "      <td>1350.0</td>\n",
       "      <td>1750.0</td>\n",
       "    </tr>\n",
       "    <tr>\n",
       "      <th>30</th>\n",
       "      <td>GeForce RTX 3050</td>\n",
       "      <td>GA107</td>\n",
       "      <td>2022</td>\n",
       "      <td>PCIe 4.0 x16</td>\n",
       "      <td>4 GB, GDDR6, 128 bit</td>\n",
       "      <td>1545 MHz</td>\n",
       "      <td>1750 MHz</td>\n",
       "      <td>2304 / 72 / 40</td>\n",
       "      <td>2304</td>\n",
       "      <td>72</td>\n",
       "      <td>40</td>\n",
       "      <td>1545.0</td>\n",
       "      <td>1750.0</td>\n",
       "    </tr>\n",
       "    <tr>\n",
       "      <th>31</th>\n",
       "      <td>GeForce GT 730</td>\n",
       "      <td>GK208B</td>\n",
       "      <td>Jun 18th, 2014</td>\n",
       "      <td>PCIe 2.0 x8</td>\n",
       "      <td>1024 MB, GDDR5, 64 bit</td>\n",
       "      <td>902 MHz</td>\n",
       "      <td>1253 MHz</td>\n",
       "      <td>384 / 32 / 8</td>\n",
       "      <td>384</td>\n",
       "      <td>32</td>\n",
       "      <td>8</td>\n",
       "      <td>902.0</td>\n",
       "      <td>1253.0</td>\n",
       "    </tr>\n",
       "    <tr>\n",
       "      <th>32</th>\n",
       "      <td>GeForce GTX 760</td>\n",
       "      <td>GK104</td>\n",
       "      <td>Jun 25th, 2013</td>\n",
       "      <td>PCIe 3.0 x16</td>\n",
       "      <td>2 GB, GDDR5, 256 bit</td>\n",
       "      <td>980 MHz</td>\n",
       "      <td>1502 MHz</td>\n",
       "      <td>1152 / 96 / 32</td>\n",
       "      <td>1152</td>\n",
       "      <td>96</td>\n",
       "      <td>32</td>\n",
       "      <td>980.0</td>\n",
       "      <td>1502.0</td>\n",
       "    </tr>\n",
       "    <tr>\n",
       "      <th>33</th>\n",
       "      <td>GeForce GTX 1650 SUPER</td>\n",
       "      <td>TU116</td>\n",
       "      <td>Nov 22nd, 2019</td>\n",
       "      <td>PCIe 3.0 x16</td>\n",
       "      <td>4 GB, GDDR6, 128 bit</td>\n",
       "      <td>1530 MHz</td>\n",
       "      <td>1500 MHz</td>\n",
       "      <td>1280 / 80 / 32</td>\n",
       "      <td>1280</td>\n",
       "      <td>80</td>\n",
       "      <td>32</td>\n",
       "      <td>1530.0</td>\n",
       "      <td>1500.0</td>\n",
       "    </tr>\n",
       "    <tr>\n",
       "      <th>34</th>\n",
       "      <td>GeForce GTX 980 Ti</td>\n",
       "      <td>GM200</td>\n",
       "      <td>Jun 2nd, 2015</td>\n",
       "      <td>PCIe 3.0 x16</td>\n",
       "      <td>6 GB, GDDR5, 384 bit</td>\n",
       "      <td>1000 MHz</td>\n",
       "      <td>1753 MHz</td>\n",
       "      <td>2816 / 176 / 96</td>\n",
       "      <td>2816</td>\n",
       "      <td>176</td>\n",
       "      <td>96</td>\n",
       "      <td>1000.0</td>\n",
       "      <td>1753.0</td>\n",
       "    </tr>\n",
       "    <tr>\n",
       "      <th>35</th>\n",
       "      <td>Radeon RX 560</td>\n",
       "      <td>Polaris 21</td>\n",
       "      <td>Apr 18th, 2017</td>\n",
       "      <td>PCIe 3.0 x8</td>\n",
       "      <td>4 GB, GDDR5, 128 bit</td>\n",
       "      <td>1175 MHz</td>\n",
       "      <td>1750 MHz</td>\n",
       "      <td>1024 / 64 / 16</td>\n",
       "      <td>1024</td>\n",
       "      <td>64</td>\n",
       "      <td>16</td>\n",
       "      <td>1175.0</td>\n",
       "      <td>1750.0</td>\n",
       "    </tr>\n",
       "    <tr>\n",
       "      <th>36</th>\n",
       "      <td>Radeon RX 550</td>\n",
       "      <td>Lexa</td>\n",
       "      <td>Apr 20th, 2017</td>\n",
       "      <td>PCIe 3.0 x8</td>\n",
       "      <td>2 GB, GDDR5, 128 bit</td>\n",
       "      <td>1100 MHz</td>\n",
       "      <td>1750 MHz</td>\n",
       "      <td>512 / 32 / 16</td>\n",
       "      <td>512</td>\n",
       "      <td>32</td>\n",
       "      <td>16</td>\n",
       "      <td>1100.0</td>\n",
       "      <td>1750.0</td>\n",
       "    </tr>\n",
       "    <tr>\n",
       "      <th>37</th>\n",
       "      <td>GeForce RTX 3080 Mobile</td>\n",
       "      <td>GA104</td>\n",
       "      <td>Jan 12th, 2021</td>\n",
       "      <td>PCIe 4.0 x16</td>\n",
       "      <td>8 GB, GDDR6, 256 bit</td>\n",
       "      <td>1110 MHz</td>\n",
       "      <td>1750 MHz</td>\n",
       "      <td>6144 / 192 / 96</td>\n",
       "      <td>6144</td>\n",
       "      <td>192</td>\n",
       "      <td>96</td>\n",
       "      <td>1110.0</td>\n",
       "      <td>1750.0</td>\n",
       "    </tr>\n",
       "    <tr>\n",
       "      <th>38</th>\n",
       "      <td>GeForce GTX 660</td>\n",
       "      <td>GK106</td>\n",
       "      <td>Sep 6th, 2012</td>\n",
       "      <td>PCIe 3.0 x16</td>\n",
       "      <td>2 GB, GDDR5, 192 bit</td>\n",
       "      <td>980 MHz</td>\n",
       "      <td>1502 MHz</td>\n",
       "      <td>960 / 80 / 24</td>\n",
       "      <td>960</td>\n",
       "      <td>80</td>\n",
       "      <td>24</td>\n",
       "      <td>980.0</td>\n",
       "      <td>1502.0</td>\n",
       "    </tr>\n",
       "    <tr>\n",
       "      <th>39</th>\n",
       "      <td>GeForce RTX 2080</td>\n",
       "      <td>TU104</td>\n",
       "      <td>Sep 20th, 2018</td>\n",
       "      <td>PCIe 3.0 x16</td>\n",
       "      <td>8 GB, GDDR6, 256 bit</td>\n",
       "      <td>1515 MHz</td>\n",
       "      <td>1750 MHz</td>\n",
       "      <td>2944 / 184 / 64</td>\n",
       "      <td>2944</td>\n",
       "      <td>184</td>\n",
       "      <td>64</td>\n",
       "      <td>1515.0</td>\n",
       "      <td>1750.0</td>\n",
       "    </tr>\n",
       "    <tr>\n",
       "      <th>40</th>\n",
       "      <td>GeForce GTX 1660</td>\n",
       "      <td>TU116</td>\n",
       "      <td>Mar 14th, 2019</td>\n",
       "      <td>PCIe 3.0 x16</td>\n",
       "      <td>6 GB, GDDR5, 192 bit</td>\n",
       "      <td>1530 MHz</td>\n",
       "      <td>2001 MHz</td>\n",
       "      <td>1408 / 88 / 48</td>\n",
       "      <td>1408</td>\n",
       "      <td>88</td>\n",
       "      <td>48</td>\n",
       "      <td>1530.0</td>\n",
       "      <td>2001.0</td>\n",
       "    </tr>\n",
       "    <tr>\n",
       "      <th>41</th>\n",
       "      <td>GeForce GT 710</td>\n",
       "      <td>GK208B</td>\n",
       "      <td>Mar 27th, 2014</td>\n",
       "      <td>PCIe 2.0 x8</td>\n",
       "      <td>2 GB, DDR3, 64 bit</td>\n",
       "      <td>954 MHz</td>\n",
       "      <td>900 MHz</td>\n",
       "      <td>192 / 16 / 8</td>\n",
       "      <td>192</td>\n",
       "      <td>16</td>\n",
       "      <td>8</td>\n",
       "      <td>954.0</td>\n",
       "      <td>900.0</td>\n",
       "    </tr>\n",
       "    <tr>\n",
       "      <th>42</th>\n",
       "      <td>GeForce RTX 2070 SUPER</td>\n",
       "      <td>TU104</td>\n",
       "      <td>Jul 9th, 2019</td>\n",
       "      <td>PCIe 3.0 x16</td>\n",
       "      <td>8 GB, GDDR6, 256 bit</td>\n",
       "      <td>1605 MHz</td>\n",
       "      <td>1750 MHz</td>\n",
       "      <td>2560 / 160 / 64</td>\n",
       "      <td>2560</td>\n",
       "      <td>160</td>\n",
       "      <td>64</td>\n",
       "      <td>1605.0</td>\n",
       "      <td>1750.0</td>\n",
       "    </tr>\n",
       "    <tr>\n",
       "      <th>43</th>\n",
       "      <td>Radeon RX 5700 XT</td>\n",
       "      <td>Navi 10</td>\n",
       "      <td>Jul 7th, 2019</td>\n",
       "      <td>PCIe 4.0 x16</td>\n",
       "      <td>8 GB, GDDR6, 256 bit</td>\n",
       "      <td>1605 MHz</td>\n",
       "      <td>1750 MHz</td>\n",
       "      <td>2560 / 160 / 64</td>\n",
       "      <td>2560</td>\n",
       "      <td>160</td>\n",
       "      <td>64</td>\n",
       "      <td>1605.0</td>\n",
       "      <td>1750.0</td>\n",
       "    </tr>\n",
       "    <tr>\n",
       "      <th>44</th>\n",
       "      <td>GeForce GTX 950</td>\n",
       "      <td>GM206</td>\n",
       "      <td>Aug 20th, 2015</td>\n",
       "      <td>PCIe 3.0 x16</td>\n",
       "      <td>2 GB, GDDR5, 128 bit</td>\n",
       "      <td>1024 MHz</td>\n",
       "      <td>1653 MHz</td>\n",
       "      <td>768 / 48 / 32</td>\n",
       "      <td>768</td>\n",
       "      <td>48</td>\n",
       "      <td>32</td>\n",
       "      <td>1024.0</td>\n",
       "      <td>1653.0</td>\n",
       "    </tr>\n",
       "    <tr>\n",
       "      <th>46</th>\n",
       "      <td>GeForce GTS 450</td>\n",
       "      <td>GF106</td>\n",
       "      <td>Sep 13th, 2010</td>\n",
       "      <td>PCIe 2.0 x16</td>\n",
       "      <td>1024 MB, GDDR5, 128 bit</td>\n",
       "      <td>783 MHz</td>\n",
       "      <td>902 MHz</td>\n",
       "      <td>192 / 32 / 16</td>\n",
       "      <td>192</td>\n",
       "      <td>32</td>\n",
       "      <td>16</td>\n",
       "      <td>783.0</td>\n",
       "      <td>902.0</td>\n",
       "    </tr>\n",
       "    <tr>\n",
       "      <th>47</th>\n",
       "      <td>GeForce RTX 2070</td>\n",
       "      <td>TU106</td>\n",
       "      <td>Oct 17th, 2018</td>\n",
       "      <td>PCIe 3.0 x16</td>\n",
       "      <td>8 GB, GDDR6, 256 bit</td>\n",
       "      <td>1410 MHz</td>\n",
       "      <td>1750 MHz</td>\n",
       "      <td>2304 / 144 / 64</td>\n",
       "      <td>2304</td>\n",
       "      <td>144</td>\n",
       "      <td>64</td>\n",
       "      <td>1410.0</td>\n",
       "      <td>1750.0</td>\n",
       "    </tr>\n",
       "    <tr>\n",
       "      <th>48</th>\n",
       "      <td>GeForce GTX 650</td>\n",
       "      <td>GK107</td>\n",
       "      <td>Sep 6th, 2012</td>\n",
       "      <td>PCIe 3.0 x16</td>\n",
       "      <td>1024 MB, GDDR5, 128 bit</td>\n",
       "      <td>1058 MHz</td>\n",
       "      <td>1250 MHz</td>\n",
       "      <td>384 / 32 / 16</td>\n",
       "      <td>384</td>\n",
       "      <td>32</td>\n",
       "      <td>16</td>\n",
       "      <td>1058.0</td>\n",
       "      <td>1250.0</td>\n",
       "    </tr>\n",
       "    <tr>\n",
       "      <th>49</th>\n",
       "      <td>Radeon RX 6800 XT</td>\n",
       "      <td>Navi 21</td>\n",
       "      <td>Oct 28th, 2020</td>\n",
       "      <td>PCIe 4.0 x16</td>\n",
       "      <td>16 GB, GDDR6, 256 bit</td>\n",
       "      <td>1825 MHz</td>\n",
       "      <td>2000 MHz</td>\n",
       "      <td>4608 / 288 / 128</td>\n",
       "      <td>4608</td>\n",
       "      <td>288</td>\n",
       "      <td>128</td>\n",
       "      <td>1825.0</td>\n",
       "      <td>2000.0</td>\n",
       "    </tr>\n",
       "  </tbody>\n",
       "</table>\n",
       "</div>"
      ],
      "text/plain": [
       "               Product Name    GPU Chip        Released           Bus  \\\n",
       "0          GeForce RTX 3060       GA106  Jan 12th, 2021  PCIe 4.0 x16   \n",
       "1          GeForce RTX 3090       GA102   Sep 1st, 2020  PCIe 4.0 x16   \n",
       "2       GeForce RTX 3060 Ti       GA104   Dec 1st, 2020  PCIe 4.0 x16   \n",
       "3          GeForce RTX 3080       GA102   Sep 1st, 2020  PCIe 4.0 x16   \n",
       "4       GeForce GTX 1050 Ti       GP107  Oct 25th, 2016  PCIe 3.0 x16   \n",
       "5          GeForce RTX 3070       GA104   Sep 1st, 2020  PCIe 4.0 x16   \n",
       "6         Radeon RX 6600 XT     Navi 23  Jul 30th, 2021   PCIe 4.0 x8   \n",
       "7           GeForce GTX 970       GM204  Sep 19th, 2014  PCIe 3.0 x16   \n",
       "8       GeForce RTX 3080 Ti       GA102  May 31st, 2021  PCIe 4.0 x16   \n",
       "9           GeForce GTX 960       GM206  Jan 22nd, 2015  PCIe 3.0 x16   \n",
       "10         GeForce RTX 2060       TU106   Jan 7th, 2019  PCIe 3.0 x16   \n",
       "11         GeForce GTX 1650       TU117  Apr 23rd, 2019  PCIe 3.0 x16   \n",
       "12       GeForce GTX 750 Ti       GM107  Feb 18th, 2014  PCIe 3.0 x16   \n",
       "13         GeForce GTX 1070       GP104  Jun 10th, 2016  PCIe 3.0 x16   \n",
       "14    GeForce GTX 1060 6 GB       GP106  Jul 19th, 2016  PCIe 3.0 x16   \n",
       "15           Radeon RX 6600     Navi 23  Oct 13th, 2021   PCIe 4.0 x8   \n",
       "16          GeForce GT 1030       GP108  May 17th, 2017   PCIe 3.0 x4   \n",
       "17      GeForce RTX 3070 Ti       GA104  May 31st, 2021  PCIe 4.0 x16   \n",
       "18            Radeon RX 580  Polaris 20  Apr 18th, 2017  PCIe 3.0 x16   \n",
       "19      GeForce GTX 1080 Ti       GP102  Mar 10th, 2017  PCIe 3.0 x16   \n",
       "20        Radeon RX 6900 XT     Navi 21  Oct 28th, 2020  PCIe 4.0 x16   \n",
       "21            Radeon RX 570  Polaris 20  Apr 18th, 2017  PCIe 3.0 x16   \n",
       "22        Radeon RX 6700 XT     Navi 22   Mar 3rd, 2021  PCIe 4.0 x16   \n",
       "23   GeForce GTX 1660 SUPER       TU116  Oct 29th, 2019  PCIe 3.0 x16   \n",
       "24         GeForce GTX 1080       GP104  May 27th, 2016  PCIe 3.0 x16   \n",
       "25       GeForce GTX 550 Ti       GF116  Mar 15th, 2011  PCIe 2.0 x16   \n",
       "26              GeForce 210       GT218  Oct 12th, 2009  PCIe 2.0 x16   \n",
       "27      GeForce GTX 1660 Ti       TU116  Feb 22nd, 2019  PCIe 3.0 x16   \n",
       "28         GeForce GTX 1050       GP107  Oct 25th, 2016  PCIe 3.0 x16   \n",
       "29      GeForce RTX 2080 Ti       TU102  Sep 20th, 2018  PCIe 3.0 x16   \n",
       "30         GeForce RTX 3050       GA107            2022  PCIe 4.0 x16   \n",
       "31           GeForce GT 730      GK208B  Jun 18th, 2014   PCIe 2.0 x8   \n",
       "32          GeForce GTX 760       GK104  Jun 25th, 2013  PCIe 3.0 x16   \n",
       "33   GeForce GTX 1650 SUPER       TU116  Nov 22nd, 2019  PCIe 3.0 x16   \n",
       "34       GeForce GTX 980 Ti       GM200   Jun 2nd, 2015  PCIe 3.0 x16   \n",
       "35            Radeon RX 560  Polaris 21  Apr 18th, 2017   PCIe 3.0 x8   \n",
       "36            Radeon RX 550        Lexa  Apr 20th, 2017   PCIe 3.0 x8   \n",
       "37  GeForce RTX 3080 Mobile       GA104  Jan 12th, 2021  PCIe 4.0 x16   \n",
       "38          GeForce GTX 660       GK106   Sep 6th, 2012  PCIe 3.0 x16   \n",
       "39         GeForce RTX 2080       TU104  Sep 20th, 2018  PCIe 3.0 x16   \n",
       "40         GeForce GTX 1660       TU116  Mar 14th, 2019  PCIe 3.0 x16   \n",
       "41           GeForce GT 710      GK208B  Mar 27th, 2014   PCIe 2.0 x8   \n",
       "42   GeForce RTX 2070 SUPER       TU104   Jul 9th, 2019  PCIe 3.0 x16   \n",
       "43        Radeon RX 5700 XT     Navi 10   Jul 7th, 2019  PCIe 4.0 x16   \n",
       "44          GeForce GTX 950       GM206  Aug 20th, 2015  PCIe 3.0 x16   \n",
       "46          GeForce GTS 450       GF106  Sep 13th, 2010  PCIe 2.0 x16   \n",
       "47         GeForce RTX 2070       TU106  Oct 17th, 2018  PCIe 3.0 x16   \n",
       "48          GeForce GTX 650       GK107   Sep 6th, 2012  PCIe 3.0 x16   \n",
       "49        Radeon RX 6800 XT     Navi 21  Oct 28th, 2020  PCIe 4.0 x16   \n",
       "\n",
       "                     Memory GPU clock Memory clock Shaders / TMUs / ROPs  \\\n",
       "0     12 GB, GDDR6, 192 bit  1320 MHz     1875 MHz       3584 / 112 / 48   \n",
       "1    24 GB, GDDR6X, 384 bit  1395 MHz     1219 MHz     10496 / 328 / 112   \n",
       "2      8 GB, GDDR6, 256 bit  1410 MHz     1750 MHz       4864 / 152 / 80   \n",
       "3    10 GB, GDDR6X, 320 bit  1440 MHz     1188 MHz       8704 / 272 / 96   \n",
       "4      4 GB, GDDR5, 128 bit  1291 MHz     1752 MHz         768 / 48 / 32   \n",
       "5      8 GB, GDDR6, 256 bit  1500 MHz     1750 MHz       5888 / 184 / 96   \n",
       "6      8 GB, GDDR6, 128 bit  1968 MHz     2000 MHz       2048 / 128 / 64   \n",
       "7      4 GB, GDDR5, 256 bit  1050 MHz     1753 MHz       1664 / 104 / 56   \n",
       "8    12 GB, GDDR6X, 384 bit  1365 MHz     1188 MHz     10240 / 320 / 112   \n",
       "9      2 GB, GDDR5, 128 bit  1127 MHz     1753 MHz        1024 / 64 / 32   \n",
       "10     6 GB, GDDR6, 192 bit  1365 MHz     1750 MHz       1920 / 120 / 48   \n",
       "11     4 GB, GDDR5, 128 bit  1485 MHz     2001 MHz         896 / 56 / 32   \n",
       "12     2 GB, GDDR5, 128 bit  1020 MHz     1350 MHz         640 / 40 / 16   \n",
       "13     8 GB, GDDR5, 256 bit  1506 MHz     2002 MHz       1920 / 120 / 64   \n",
       "14     6 GB, GDDR5, 192 bit  1506 MHz     2002 MHz        1280 / 80 / 48   \n",
       "15     8 GB, GDDR6, 128 bit  1626 MHz     1750 MHz       1792 / 112 / 64   \n",
       "16      2 GB, GDDR5, 64 bit  1228 MHz     1502 MHz         384 / 24 / 16   \n",
       "17    8 GB, GDDR6X, 256 bit  1575 MHz     1188 MHz       6144 / 192 / 96   \n",
       "18     8 GB, GDDR5, 256 bit  1257 MHz     2000 MHz       2304 / 144 / 32   \n",
       "19   11 GB, GDDR5X, 352 bit  1481 MHz     1376 MHz       3584 / 224 / 88   \n",
       "20    16 GB, GDDR6, 256 bit  1825 MHz     2000 MHz      5120 / 320 / 128   \n",
       "21     4 GB, GDDR5, 256 bit  1168 MHz     1750 MHz       2048 / 128 / 32   \n",
       "22    12 GB, GDDR6, 192 bit  2321 MHz     2000 MHz       2560 / 160 / 64   \n",
       "23     6 GB, GDDR6, 192 bit  1530 MHz     1750 MHz        1408 / 88 / 48   \n",
       "24    8 GB, GDDR5X, 256 bit  1607 MHz     1251 MHz       2560 / 160 / 64   \n",
       "25  1024 MB, GDDR5, 192 bit   900 MHz     1026 MHz         192 / 32 / 24   \n",
       "26     512 MB, DDR3, 64 bit   520 MHz      400 MHz            16 / 8 / 4   \n",
       "27     6 GB, GDDR6, 192 bit  1500 MHz     1500 MHz        1536 / 96 / 48   \n",
       "28     2 GB, GDDR5, 128 bit  1354 MHz     1752 MHz         640 / 40 / 32   \n",
       "29    11 GB, GDDR6, 352 bit  1350 MHz     1750 MHz       4352 / 272 / 88   \n",
       "30     4 GB, GDDR6, 128 bit  1545 MHz     1750 MHz        2304 / 72 / 40   \n",
       "31   1024 MB, GDDR5, 64 bit   902 MHz     1253 MHz          384 / 32 / 8   \n",
       "32     2 GB, GDDR5, 256 bit   980 MHz     1502 MHz        1152 / 96 / 32   \n",
       "33     4 GB, GDDR6, 128 bit  1530 MHz     1500 MHz        1280 / 80 / 32   \n",
       "34     6 GB, GDDR5, 384 bit  1000 MHz     1753 MHz       2816 / 176 / 96   \n",
       "35     4 GB, GDDR5, 128 bit  1175 MHz     1750 MHz        1024 / 64 / 16   \n",
       "36     2 GB, GDDR5, 128 bit  1100 MHz     1750 MHz         512 / 32 / 16   \n",
       "37     8 GB, GDDR6, 256 bit  1110 MHz     1750 MHz       6144 / 192 / 96   \n",
       "38     2 GB, GDDR5, 192 bit   980 MHz     1502 MHz         960 / 80 / 24   \n",
       "39     8 GB, GDDR6, 256 bit  1515 MHz     1750 MHz       2944 / 184 / 64   \n",
       "40     6 GB, GDDR5, 192 bit  1530 MHz     2001 MHz        1408 / 88 / 48   \n",
       "41       2 GB, DDR3, 64 bit   954 MHz      900 MHz          192 / 16 / 8   \n",
       "42     8 GB, GDDR6, 256 bit  1605 MHz     1750 MHz       2560 / 160 / 64   \n",
       "43     8 GB, GDDR6, 256 bit  1605 MHz     1750 MHz       2560 / 160 / 64   \n",
       "44     2 GB, GDDR5, 128 bit  1024 MHz     1653 MHz         768 / 48 / 32   \n",
       "46  1024 MB, GDDR5, 128 bit   783 MHz      902 MHz         192 / 32 / 16   \n",
       "47     8 GB, GDDR6, 256 bit  1410 MHz     1750 MHz       2304 / 144 / 64   \n",
       "48  1024 MB, GDDR5, 128 bit  1058 MHz     1250 MHz         384 / 32 / 16   \n",
       "49    16 GB, GDDR6, 256 bit  1825 MHz     2000 MHz      4608 / 288 / 128   \n",
       "\n",
       "   Shaders TMUs ROPs  GPU clock(MHz)  Memory clock(MHz)  \n",
       "0     3584  112   48          1320.0             1875.0  \n",
       "1    10496  328  112          1395.0             1219.0  \n",
       "2     4864  152   80          1410.0             1750.0  \n",
       "3     8704  272   96          1440.0             1188.0  \n",
       "4      768   48   32          1291.0             1752.0  \n",
       "5     5888  184   96          1500.0             1750.0  \n",
       "6     2048  128   64          1968.0             2000.0  \n",
       "7     1664  104   56          1050.0             1753.0  \n",
       "8    10240  320  112          1365.0             1188.0  \n",
       "9     1024   64   32          1127.0             1753.0  \n",
       "10    1920  120   48          1365.0             1750.0  \n",
       "11     896   56   32          1485.0             2001.0  \n",
       "12     640   40   16          1020.0             1350.0  \n",
       "13    1920  120   64          1506.0             2002.0  \n",
       "14    1280   80   48          1506.0             2002.0  \n",
       "15    1792  112   64          1626.0             1750.0  \n",
       "16     384   24   16          1228.0             1502.0  \n",
       "17    6144  192   96          1575.0             1188.0  \n",
       "18    2304  144   32          1257.0             2000.0  \n",
       "19    3584  224   88          1481.0             1376.0  \n",
       "20    5120  320  128          1825.0             2000.0  \n",
       "21    2048  128   32          1168.0             1750.0  \n",
       "22    2560  160   64          2321.0             2000.0  \n",
       "23    1408   88   48          1530.0             1750.0  \n",
       "24    2560  160   64          1607.0             1251.0  \n",
       "25     192   32   24           900.0             1026.0  \n",
       "26      16    8    4           520.0              400.0  \n",
       "27    1536   96   48          1500.0             1500.0  \n",
       "28     640   40   32          1354.0             1752.0  \n",
       "29    4352  272   88          1350.0             1750.0  \n",
       "30    2304   72   40          1545.0             1750.0  \n",
       "31     384   32    8           902.0             1253.0  \n",
       "32    1152   96   32           980.0             1502.0  \n",
       "33    1280   80   32          1530.0             1500.0  \n",
       "34    2816  176   96          1000.0             1753.0  \n",
       "35    1024   64   16          1175.0             1750.0  \n",
       "36     512   32   16          1100.0             1750.0  \n",
       "37    6144  192   96          1110.0             1750.0  \n",
       "38     960   80   24           980.0             1502.0  \n",
       "39    2944  184   64          1515.0             1750.0  \n",
       "40    1408   88   48          1530.0             2001.0  \n",
       "41     192   16    8           954.0              900.0  \n",
       "42    2560  160   64          1605.0             1750.0  \n",
       "43    2560  160   64          1605.0             1750.0  \n",
       "44     768   48   32          1024.0             1653.0  \n",
       "46     192   32   16           783.0              902.0  \n",
       "47    2304  144   64          1410.0             1750.0  \n",
       "48     384   32   16          1058.0             1250.0  \n",
       "49    4608  288  128          1825.0             2000.0  "
      ]
     },
     "execution_count": 32,
     "metadata": {},
     "output_type": "execute_result"
    }
   ],
   "source": [
    "df['GPU clock(MHz)'] = [float(i.replace(\" MHz\", \"\")) for i in df['GPU clock']]\n",
    "df['Memory clock(MHz)'] = [float(i.replace(\" MHz\", \"\")) for i in df['Memory clock']]\n",
    "df"
   ]
  },
  {
   "cell_type": "code",
   "execution_count": 13,
   "id": "improving-result",
   "metadata": {},
   "outputs": [],
   "source": [
    "# Was going to add in columns, then iterate over the existing entries.\n",
    "#df.rename(columns={'GPU clock': 'GPU clock(MHz)', 'Memory clock': 'Memory clock(MHz)'})"
   ]
  },
  {
   "cell_type": "code",
   "execution_count": 14,
   "id": "sweet-advancement",
   "metadata": {
    "scrolled": false
   },
   "outputs": [],
   "source": [
    "\"\"\"plt.figure(figsize=(15, 8))\n",
    "plt.bar(df[\"Product Name\"], df[\"Memory clock(MHz)\"].astype(float))\n",
    "plt.xticks(rotation=90)\n",
    "plt.show()\"\"\"\n",
    "# Cant run this automatically, have to adjust since there is a system shared'\n",
    "# Located on Radeon vega 8 is an all in one GPU, have to remove it.\n",
    "def drop_gpu(name):\n",
    "    for i in range(len(df[\"Product Name\"])):\n",
    "        if df['Product Name'][i] == name:\n",
    "            df.drop(i, axis = 0, inplace=True)\n",
    "        else:\n",
    "            continue\n",
    "            \n",
    "drop_gpu(\"Radeon Vega 8\")"
   ]
  },
  {
   "cell_type": "code",
   "execution_count": 33,
   "id": "residential-elder",
   "metadata": {},
   "outputs": [
    {
     "data": {
      "image/png": "[encoded data removed]",
      "text/plain": [
       "<Figure size 1080x576 with 1 Axes>"
      ]
     },
     "metadata": {
      "needs_background": "light"
     },
     "output_type": "display_data"
    }
   ],
   "source": [
    "# Have to use astype(Float) since all my measurements are in string type.\n",
    "plt.figure(figsize=(15, 8))\n",
    "plt.bar(df[\"Product Name\"], df[\"Memory clock(MHz)\"].astype(float))\n",
    "plt.xticks(rotation=90)\n",
    "plt.show()"
   ]
  },
  {
   "cell_type": "code",
   "execution_count": 34,
   "id": "mediterranean-bailey",
   "metadata": {
    "scrolled": false
   },
   "outputs": [
    {
     "data": {
      "image/png": "[encoded data removed]",
      "text/plain": [
       "<Figure size 1080x576 with 1 Axes>"
      ]
     },
     "metadata": {
      "needs_background": "light"
     },
     "output_type": "display_data"
    }
   ],
   "source": [
    "plt.figure(figsize=(15, 8))\n",
    "plt.bar(df[\"Product Name\"], df[\"GPU clock(MHz)\"].astype(float))\n",
    "plt.xticks(rotation=90)\n",
    "plt.show()"
   ]
  },
  {
   "cell_type": "code",
   "execution_count": 35,
   "id": "third-china",
   "metadata": {},
   "outputs": [
    {
     "data": {
      "application/vnd.plotly.v1+json": {
       "config": {
        "plotlyServerURL": "https://plot.ly"
       },
       "data": [
        {
         "alignmentgroup": "True",
         "hovertemplate": "variable=%{x}<br>value=%{y}<extra></extra>",
         "legendgroup": "",
         "marker": {
          "color": "#636efa"
         },
         "name": "",
         "notched": false,
         "offsetgroup": "",
         "orientation": "v",
         "showlegend": false,
         "type": "box",
         "x": [
          "Memory clock(MHz)",
          "Memory clock(MHz)",
          "Memory clock(MHz)",
          "Memory clock(MHz)",
          "Memory clock(MHz)",
          "Memory clock(MHz)",
          "Memory clock(MHz)",
          "Memory clock(MHz)",
          "Memory clock(MHz)",
          "Memory clock(MHz)",
          "Memory clock(MHz)",
          "Memory clock(MHz)",
          "Memory clock(MHz)",
          "Memory clock(MHz)",
          "Memory clock(MHz)",
          "Memory clock(MHz)",
          "Memory clock(MHz)",
          "Memory clock(MHz)",
          "Memory clock(MHz)",
          "Memory clock(MHz)",
          "Memory clock(MHz)",
          "Memory clock(MHz)",
          "Memory clock(MHz)",
          "Memory clock(MHz)",
          "Memory clock(MHz)",
          "Memory clock(MHz)",
          "Memory clock(MHz)",
          "Memory clock(MHz)",
          "Memory clock(MHz)",
          "Memory clock(MHz)",
          "Memory clock(MHz)",
          "Memory clock(MHz)",
          "Memory clock(MHz)",
          "Memory clock(MHz)",
          "Memory clock(MHz)",
          "Memory clock(MHz)",
          "Memory clock(MHz)",
          "Memory clock(MHz)",
          "Memory clock(MHz)",
          "Memory clock(MHz)",
          "Memory clock(MHz)",
          "Memory clock(MHz)",
          "Memory clock(MHz)",
          "Memory clock(MHz)",
          "Memory clock(MHz)",
          "Memory clock(MHz)",
          "Memory clock(MHz)",
          "Memory clock(MHz)",
          "Memory clock(MHz)",
          "GPU clock(MHz)",
          "GPU clock(MHz)",
          "GPU clock(MHz)",
          "GPU clock(MHz)",
          "GPU clock(MHz)",
          "GPU clock(MHz)",
          "GPU clock(MHz)",
          "GPU clock(MHz)",
          "GPU clock(MHz)",
          "GPU clock(MHz)",
          "GPU clock(MHz)",
          "GPU clock(MHz)",
          "GPU clock(MHz)",
          "GPU clock(MHz)",
          "GPU clock(MHz)",
          "GPU clock(MHz)",
          "GPU clock(MHz)",
          "GPU clock(MHz)",
          "GPU clock(MHz)",
          "GPU clock(MHz)",
          "GPU clock(MHz)",
          "GPU clock(MHz)",
          "GPU clock(MHz)",
          "GPU clock(MHz)",
          "GPU clock(MHz)",
          "GPU clock(MHz)",
          "GPU clock(MHz)",
          "GPU clock(MHz)",
          "GPU clock(MHz)",
          "GPU clock(MHz)",
          "GPU clock(MHz)",
          "GPU clock(MHz)",
          "GPU clock(MHz)",
          "GPU clock(MHz)",
          "GPU clock(MHz)",
          "GPU clock(MHz)",
          "GPU clock(MHz)",
          "GPU clock(MHz)",
          "GPU clock(MHz)",
          "GPU clock(MHz)",
          "GPU clock(MHz)",
          "GPU clock(MHz)",
          "GPU clock(MHz)",
          "GPU clock(MHz)",
          "GPU clock(MHz)",
          "GPU clock(MHz)",
          "GPU clock(MHz)",
          "GPU clock(MHz)",
          "GPU clock(MHz)"
         ],
         "x0": " ",
         "xaxis": "x",
         "y": [
          1875,
          1219,
          1750,
          1188,
          1752,
          1750,
          2000,
          1753,
          1188,
          1753,
          1750,
          2001,
          1350,
          2002,
          2002,
          1750,
          1502,
          1188,
          2000,
          1376,
          2000,
          1750,
          2000,
          1750,
          1251,
          1026,
          400,
          1500,
          1752,
          1750,
          1750,
          1253,
          1502,
          1500,
          1753,
          1750,
          1750,
          1750,
          1502,
          1750,
          2001,
          900,
          1750,
          1750,
          1653,
          902,
          1750,
          1250,
          2000,
          1320,
          1395,
          1410,
          1440,
          1291,
          1500,
          1968,
          1050,
          1365,
          1127,
          1365,
          1485,
          1020,
          1506,
          1506,
          1626,
          1228,
          1575,
          1257,
          1481,
          1825,
          1168,
          2321,
          1530,
          1607,
          900,
          520,
          1500,
          1354,
          1350,
          1545,
          902,
          980,
          1530,
          1000,
          1175,
          1100,
          1110,
          980,
          1515,
          1530,
          954,
          1605,
          1605,
          1024,
          783,
          1410,
          1058,
          1825
         ],
         "y0": " ",
         "yaxis": "y"
        }
       ],
       "layout": {
        "boxmode": "group",
        "legend": {
         "tracegroupgap": 0
        },
        "margin": {
         "t": 60
        },
        "template": {
         "data": {
          "bar": [
           {
            "error_x": {
             "color": "#2a3f5f"
            },
            "error_y": {
             "color": "#2a3f5f"
            },
            "marker": {
             "line": {
              "color": "#E5ECF6",
              "width": 0.5
             },
             "pattern": {
              "fillmode": "overlay",
              "size": 10,
              "solidity": 0.2
             }
            },
            "type": "bar"
           }
          ],
          "barpolar": [
           {
            "marker": {
             "line": {
              "color": "#E5ECF6",
              "width": 0.5
             },
             "pattern": {
              "fillmode": "overlay",
              "size": 10,
              "solidity": 0.2
             }
            },
            "type": "barpolar"
           }
          ],
          "carpet": [
           {
            "aaxis": {
             "endlinecolor": "#2a3f5f",
             "gridcolor": "white",
             "linecolor": "white",
             "minorgridcolor": "white",
             "startlinecolor": "#2a3f5f"
            },
            "baxis": {
             "endlinecolor": "#2a3f5f",
             "gridcolor": "white",
             "linecolor": "white",
             "minorgridcolor": "white",
             "startlinecolor": "#2a3f5f"
            },
            "type": "carpet"
           }
          ],
          "choropleth": [
           {
            "colorbar": {
             "outlinewidth": 0,
             "ticks": ""
            },
            "type": "choropleth"
           }
          ],
          "contour": [
           {
            "colorbar": {
             "outlinewidth": 0,
             "ticks": ""
            },
            "colorscale": [
             [
              0,
              "#0d0887"
             ],
             [
              0.1111111111111111,
              "#46039f"
             ],
             [
              0.2222222222222222,
              "#7201a8"
             ],
             [
              0.3333333333333333,
              "#9c179e"
             ],
             [
              0.4444444444444444,
              "#bd3786"
             ],
             [
              0.5555555555555556,
              "#d8576b"
             ],
             [
              0.6666666666666666,
              "#ed7953"
             ],
             [
              0.7777777777777778,
              "#fb9f3a"
             ],
             [
              0.8888888888888888,
              "#fdca26"
             ],
             [
              1,
              "#f0f921"
             ]
            ],
            "type": "contour"
           }
          ],
          "contourcarpet": [
           {
            "colorbar": {
             "outlinewidth": 0,
             "ticks": ""
            },
            "type": "contourcarpet"
           }
          ],
          "heatmap": [
           {
            "colorbar": {
             "outlinewidth": 0,
             "ticks": ""
            },
            "colorscale": [
             [
              0,
              "#0d0887"
             ],
             [
              0.1111111111111111,
              "#46039f"
             ],
             [
              0.2222222222222222,
              "#7201a8"
             ],
             [
              0.3333333333333333,
              "#9c179e"
             ],
             [
              0.4444444444444444,
              "#bd3786"
             ],
             [
              0.5555555555555556,
              "#d8576b"
             ],
             [
              0.6666666666666666,
              "#ed7953"
             ],
             [
              0.7777777777777778,
              "#fb9f3a"
             ],
             [
              0.8888888888888888,
              "#fdca26"
             ],
             [
              1,
              "#f0f921"
             ]
            ],
            "type": "heatmap"
           }
          ],
          "heatmapgl": [
           {
            "colorbar": {
             "outlinewidth": 0,
             "ticks": ""
            },
            "colorscale": [
             [
              0,
              "#0d0887"
             ],
             [
              0.1111111111111111,
              "#46039f"
             ],
             [
              0.2222222222222222,
              "#7201a8"
             ],
             [
              0.3333333333333333,
              "#9c179e"
             ],
             [
              0.4444444444444444,
              "#bd3786"
             ],
             [
              0.5555555555555556,
              "#d8576b"
             ],
             [
              0.6666666666666666,
              "#ed7953"
             ],
             [
              0.7777777777777778,
              "#fb9f3a"
             ],
             [
              0.8888888888888888,
              "#fdca26"
             ],
             [
              1,
              "#f0f921"
             ]
            ],
            "type": "heatmapgl"
           }
          ],
          "histogram": [
           {
            "marker": {
             "pattern": {
              "fillmode": "overlay",
              "size": 10,
              "solidity": 0.2
             }
            },
            "type": "histogram"
           }
          ],
          "histogram2d": [
           {
            "colorbar": {
             "outlinewidth": 0,
             "ticks": ""
            },
            "colorscale": [
             [
              0,
              "#0d0887"
             ],
             [
              0.1111111111111111,
              "#46039f"
             ],
             [
              0.2222222222222222,
              "#7201a8"
             ],
             [
              0.3333333333333333,
              "#9c179e"
             ],
             [
              0.4444444444444444,
              "#bd3786"
             ],
             [
              0.5555555555555556,
              "#d8576b"
             ],
             [
              0.6666666666666666,
              "#ed7953"
             ],
             [
              0.7777777777777778,
              "#fb9f3a"
             ],
             [
              0.8888888888888888,
              "#fdca26"
             ],
             [
              1,
              "#f0f921"
             ]
            ],
            "type": "histogram2d"
           }
          ],
          "histogram2dcontour": [
           {
            "colorbar": {
             "outlinewidth": 0,
             "ticks": ""
            },
            "colorscale": [
             [
              0,
              "#0d0887"
             ],
             [
              0.1111111111111111,
              "#46039f"
             ],
             [
              0.2222222222222222,
              "#7201a8"
             ],
             [
              0.3333333333333333,
              "#9c179e"
             ],
             [
              0.4444444444444444,
              "#bd3786"
             ],
             [
              0.5555555555555556,
              "#d8576b"
             ],
             [
              0.6666666666666666,
              "#ed7953"
             ],
             [
              0.7777777777777778,
              "#fb9f3a"
             ],
             [
              0.8888888888888888,
              "#fdca26"
             ],
             [
              1,
              "#f0f921"
             ]
            ],
            "type": "histogram2dcontour"
           }
          ],
          "mesh3d": [
           {
            "colorbar": {
             "outlinewidth": 0,
             "ticks": ""
            },
            "type": "mesh3d"
           }
          ],
          "parcoords": [
           {
            "line": {
             "colorbar": {
              "outlinewidth": 0,
              "ticks": ""
             }
            },
            "type": "parcoords"
           }
          ],
          "pie": [
           {
            "automargin": true,
            "type": "pie"
           }
          ],
          "scatter": [
           {
            "marker": {
             "colorbar": {
              "outlinewidth": 0,
              "ticks": ""
             }
            },
            "type": "scatter"
           }
          ],
          "scatter3d": [
           {
            "line": {
             "colorbar": {
              "outlinewidth": 0,
              "ticks": ""
             }
            },
            "marker": {
             "colorbar": {
              "outlinewidth": 0,
              "ticks": ""
             }
            },
            "type": "scatter3d"
           }
          ],
          "scattercarpet": [
           {
            "marker": {
             "colorbar": {
              "outlinewidth": 0,
              "ticks": ""
             }
            },
            "type": "scattercarpet"
           }
          ],
          "scattergeo": [
           {
            "marker": {
             "colorbar": {
              "outlinewidth": 0,
              "ticks": ""
             }
            },
            "type": "scattergeo"
           }
          ],
          "scattergl": [
           {
            "marker": {
             "colorbar": {
              "outlinewidth": 0,
              "ticks": ""
             }
            },
            "type": "scattergl"
           }
          ],
          "scattermapbox": [
           {
            "marker": {
             "colorbar": {
              "outlinewidth": 0,
              "ticks": ""
             }
            },
            "type": "scattermapbox"
           }
          ],
          "scatterpolar": [
           {
            "marker": {
             "colorbar": {
              "outlinewidth": 0,
              "ticks": ""
             }
            },
            "type": "scatterpolar"
           }
          ],
          "scatterpolargl": [
           {
            "marker": {
             "colorbar": {
              "outlinewidth": 0,
              "ticks": ""
             }
            },
            "type": "scatterpolargl"
           }
          ],
          "scatterternary": [
           {
            "marker": {
             "colorbar": {
              "outlinewidth": 0,
              "ticks": ""
             }
            },
            "type": "scatterternary"
           }
          ],
          "surface": [
           {
            "colorbar": {
             "outlinewidth": 0,
             "ticks": ""
            },
            "colorscale": [
             [
              0,
              "#0d0887"
             ],
             [
              0.1111111111111111,
              "#46039f"
             ],
             [
              0.2222222222222222,
              "#7201a8"
             ],
             [
              0.3333333333333333,
              "#9c179e"
             ],
             [
              0.4444444444444444,
              "#bd3786"
             ],
             [
              0.5555555555555556,
              "#d8576b"
             ],
             [
              0.6666666666666666,
              "#ed7953"
             ],
             [
              0.7777777777777778,
              "#fb9f3a"
             ],
             [
              0.8888888888888888,
              "#fdca26"
             ],
             [
              1,
              "#f0f921"
             ]
            ],
            "type": "surface"
           }
          ],
          "table": [
           {
            "cells": {
             "fill": {
              "color": "#EBF0F8"
             },
             "line": {
              "color": "white"
             }
            },
            "header": {
             "fill": {
              "color": "#C8D4E3"
             },
             "line": {
              "color": "white"
             }
            },
            "type": "table"
           }
          ]
         },
         "layout": {
          "annotationdefaults": {
           "arrowcolor": "#2a3f5f",
           "arrowhead": 0,
           "arrowwidth": 1
          },
          "autotypenumbers": "strict",
          "coloraxis": {
           "colorbar": {
            "outlinewidth": 0,
            "ticks": ""
           }
          },
          "colorscale": {
           "diverging": [
            [
             0,
             "#8e0152"
            ],
            [
             0.1,
             "#c51b7d"
            ],
            [
             0.2,
             "#de77ae"
            ],
            [
             0.3,
             "#f1b6da"
            ],
            [
             0.4,
             "#fde0ef"
            ],
            [
             0.5,
             "#f7f7f7"
            ],
            [
             0.6,
             "#e6f5d0"
            ],
            [
             0.7,
             "#b8e186"
            ],
            [
             0.8,
             "#7fbc41"
            ],
            [
             0.9,
             "#4d9221"
            ],
            [
             1,
             "#276419"
            ]
           ],
           "sequential": [
            [
             0,
             "#0d0887"
            ],
            [
             0.1111111111111111,
             "#46039f"
            ],
            [
             0.2222222222222222,
             "#7201a8"
            ],
            [
             0.3333333333333333,
             "#9c179e"
            ],
            [
             0.4444444444444444,
             "#bd3786"
            ],
            [
             0.5555555555555556,
             "#d8576b"
            ],
            [
             0.6666666666666666,
             "#ed7953"
            ],
            [
             0.7777777777777778,
             "#fb9f3a"
            ],
            [
             0.8888888888888888,
             "#fdca26"
            ],
            [
             1,
             "#f0f921"
            ]
           ],
           "sequentialminus": [
            [
             0,
             "#0d0887"
            ],
            [
             0.1111111111111111,
             "#46039f"
            ],
            [
             0.2222222222222222,
             "#7201a8"
            ],
            [
             0.3333333333333333,
             "#9c179e"
            ],
            [
             0.4444444444444444,
             "#bd3786"
            ],
            [
             0.5555555555555556,
             "#d8576b"
            ],
            [
             0.6666666666666666,
             "#ed7953"
            ],
            [
             0.7777777777777778,
             "#fb9f3a"
            ],
            [
             0.8888888888888888,
             "#fdca26"
            ],
            [
             1,
             "#f0f921"
            ]
           ]
          },
          "colorway": [
           "#636efa",
           "#EF553B",
           "#00cc96",
           "#ab63fa",
           "#FFA15A",
           "#19d3f3",
           "#FF6692",
           "#B6E880",
           "#FF97FF",
           "#FECB52"
          ],
          "font": {
           "color": "#2a3f5f"
          },
          "geo": {
           "bgcolor": "white",
           "lakecolor": "white",
           "landcolor": "#E5ECF6",
           "showlakes": true,
           "showland": true,
           "subunitcolor": "white"
          },
          "hoverlabel": {
           "align": "left"
          },
          "hovermode": "closest",
          "mapbox": {
           "style": "light"
          },
          "paper_bgcolor": "white",
          "plot_bgcolor": "#E5ECF6",
          "polar": {
           "angularaxis": {
            "gridcolor": "white",
            "linecolor": "white",
            "ticks": ""
           },
           "bgcolor": "#E5ECF6",
           "radialaxis": {
            "gridcolor": "white",
            "linecolor": "white",
            "ticks": ""
           }
          },
          "scene": {
           "xaxis": {
            "backgroundcolor": "#E5ECF6",
            "gridcolor": "white",
            "gridwidth": 2,
            "linecolor": "white",
            "showbackground": true,
            "ticks": "",
            "zerolinecolor": "white"
           },
           "yaxis": {
            "backgroundcolor": "#E5ECF6",
            "gridcolor": "white",
            "gridwidth": 2,
            "linecolor": "white",
            "showbackground": true,
            "ticks": "",
            "zerolinecolor": "white"
           },
           "zaxis": {
            "backgroundcolor": "#E5ECF6",
            "gridcolor": "white",
            "gridwidth": 2,
            "linecolor": "white",
            "showbackground": true,
            "ticks": "",
            "zerolinecolor": "white"
           }
          },
          "shapedefaults": {
           "line": {
            "color": "#2a3f5f"
           }
          },
          "ternary": {
           "aaxis": {
            "gridcolor": "white",
            "linecolor": "white",
            "ticks": ""
           },
           "baxis": {
            "gridcolor": "white",
            "linecolor": "white",
            "ticks": ""
           },
           "bgcolor": "#E5ECF6",
           "caxis": {
            "gridcolor": "white",
            "linecolor": "white",
            "ticks": ""
           }
          },
          "title": {
           "x": 0.05
          },
          "xaxis": {
           "automargin": true,
           "gridcolor": "white",
           "linecolor": "white",
           "ticks": "",
           "title": {
            "standoff": 15
           },
           "zerolinecolor": "white",
           "zerolinewidth": 2
          },
          "yaxis": {
           "automargin": true,
           "gridcolor": "white",
           "linecolor": "white",
           "ticks": "",
           "title": {
            "standoff": 15
           },
           "zerolinecolor": "white",
           "zerolinewidth": 2
          }
         }
        },
        "xaxis": {
         "anchor": "y",
         "domain": [
          0,
          1
         ],
         "title": {
          "text": "variable"
         }
        },
        "yaxis": {
         "anchor": "x",
         "domain": [
          0,
          1
         ],
         "title": {
          "text": "value"
         }
        }
       }
      },
      "text/html": [
       "<div>                            <div id=\"9b6171df-9176-4885-9a25-cc240621b045\" class=\"plotly-graph-div\" style=\"height:525px; width:100%;\"></div>            <script type=\"text/javascript\">                require([\"plotly\"], function(Plotly) {                    window.PLOTLYENV=window.PLOTLYENV || {};                                    if (document.getElementById(\"9b6171df-9176-4885-9a25-cc240621b045\")) {                    Plotly.newPlot(                        \"9b6171df-9176-4885-9a25-cc240621b045\",                        [{\"alignmentgroup\":\"True\",\"hovertemplate\":\"variable=%{x}<br>value=%{y}<extra></extra>\",\"legendgroup\":\"\",\"marker\":{\"color\":\"#636efa\"},\"name\":\"\",\"notched\":false,\"offsetgroup\":\"\",\"orientation\":\"v\",\"showlegend\":false,\"type\":\"box\",\"x\":[\"Memory clock(MHz)\",\"Memory clock(MHz)\",\"Memory clock(MHz)\",\"Memory clock(MHz)\",\"Memory clock(MHz)\",\"Memory clock(MHz)\",\"Memory clock(MHz)\",\"Memory clock(MHz)\",\"Memory clock(MHz)\",\"Memory clock(MHz)\",\"Memory clock(MHz)\",\"Memory clock(MHz)\",\"Memory clock(MHz)\",\"Memory clock(MHz)\",\"Memory clock(MHz)\",\"Memory clock(MHz)\",\"Memory clock(MHz)\",\"Memory clock(MHz)\",\"Memory clock(MHz)\",\"Memory clock(MHz)\",\"Memory clock(MHz)\",\"Memory clock(MHz)\",\"Memory clock(MHz)\",\"Memory clock(MHz)\",\"Memory clock(MHz)\",\"Memory clock(MHz)\",\"Memory clock(MHz)\",\"Memory clock(MHz)\",\"Memory clock(MHz)\",\"Memory clock(MHz)\",\"Memory clock(MHz)\",\"Memory clock(MHz)\",\"Memory clock(MHz)\",\"Memory clock(MHz)\",\"Memory clock(MHz)\",\"Memory clock(MHz)\",\"Memory clock(MHz)\",\"Memory clock(MHz)\",\"Memory clock(MHz)\",\"Memory clock(MHz)\",\"Memory clock(MHz)\",\"Memory clock(MHz)\",\"Memory clock(MHz)\",\"Memory clock(MHz)\",\"Memory clock(MHz)\",\"Memory clock(MHz)\",\"Memory clock(MHz)\",\"Memory clock(MHz)\",\"Memory clock(MHz)\",\"GPU clock(MHz)\",\"GPU clock(MHz)\",\"GPU clock(MHz)\",\"GPU clock(MHz)\",\"GPU clock(MHz)\",\"GPU clock(MHz)\",\"GPU clock(MHz)\",\"GPU clock(MHz)\",\"GPU clock(MHz)\",\"GPU clock(MHz)\",\"GPU clock(MHz)\",\"GPU clock(MHz)\",\"GPU clock(MHz)\",\"GPU clock(MHz)\",\"GPU clock(MHz)\",\"GPU clock(MHz)\",\"GPU clock(MHz)\",\"GPU clock(MHz)\",\"GPU clock(MHz)\",\"GPU clock(MHz)\",\"GPU clock(MHz)\",\"GPU clock(MHz)\",\"GPU clock(MHz)\",\"GPU clock(MHz)\",\"GPU clock(MHz)\",\"GPU clock(MHz)\",\"GPU clock(MHz)\",\"GPU clock(MHz)\",\"GPU clock(MHz)\",\"GPU clock(MHz)\",\"GPU clock(MHz)\",\"GPU clock(MHz)\",\"GPU clock(MHz)\",\"GPU clock(MHz)\",\"GPU clock(MHz)\",\"GPU clock(MHz)\",\"GPU clock(MHz)\",\"GPU clock(MHz)\",\"GPU clock(MHz)\",\"GPU clock(MHz)\",\"GPU clock(MHz)\",\"GPU clock(MHz)\",\"GPU clock(MHz)\",\"GPU clock(MHz)\",\"GPU clock(MHz)\",\"GPU clock(MHz)\",\"GPU clock(MHz)\",\"GPU clock(MHz)\",\"GPU clock(MHz)\"],\"x0\":\" \",\"xaxis\":\"x\",\"y\":[1875.0,1219.0,1750.0,1188.0,1752.0,1750.0,2000.0,1753.0,1188.0,1753.0,1750.0,2001.0,1350.0,2002.0,2002.0,1750.0,1502.0,1188.0,2000.0,1376.0,2000.0,1750.0,2000.0,1750.0,1251.0,1026.0,400.0,1500.0,1752.0,1750.0,1750.0,1253.0,1502.0,1500.0,1753.0,1750.0,1750.0,1750.0,1502.0,1750.0,2001.0,900.0,1750.0,1750.0,1653.0,902.0,1750.0,1250.0,2000.0,1320.0,1395.0,1410.0,1440.0,1291.0,1500.0,1968.0,1050.0,1365.0,1127.0,1365.0,1485.0,1020.0,1506.0,1506.0,1626.0,1228.0,1575.0,1257.0,1481.0,1825.0,1168.0,2321.0,1530.0,1607.0,900.0,520.0,1500.0,1354.0,1350.0,1545.0,902.0,980.0,1530.0,1000.0,1175.0,1100.0,1110.0,980.0,1515.0,1530.0,954.0,1605.0,1605.0,1024.0,783.0,1410.0,1058.0,1825.0],\"y0\":\" \",\"yaxis\":\"y\"}],                        {\"boxmode\":\"group\",\"legend\":{\"tracegroupgap\":0},\"margin\":{\"t\":60},\"template\":{\"data\":{\"bar\":[{\"error_x\":{\"color\":\"#2a3f5f\"},\"error_y\":{\"color\":\"#2a3f5f\"},\"marker\":{\"line\":{\"color\":\"#E5ECF6\",\"width\":0.5},\"pattern\":{\"fillmode\":\"overlay\",\"size\":10,\"solidity\":0.2}},\"type\":\"bar\"}],\"barpolar\":[{\"marker\":{\"line\":{\"color\":\"#E5ECF6\",\"width\":0.5},\"pattern\":{\"fillmode\":\"overlay\",\"size\":10,\"solidity\":0.2}},\"type\":\"barpolar\"}],\"carpet\":[{\"aaxis\":{\"endlinecolor\":\"#2a3f5f\",\"gridcolor\":\"white\",\"linecolor\":\"white\",\"minorgridcolor\":\"white\",\"startlinecolor\":\"#2a3f5f\"},\"baxis\":{\"endlinecolor\":\"#2a3f5f\",\"gridcolor\":\"white\",\"linecolor\":\"white\",\"minorgridcolor\":\"white\",\"startlinecolor\":\"#2a3f5f\"},\"type\":\"carpet\"}],\"choropleth\":[{\"colorbar\":{\"outlinewidth\":0,\"ticks\":\"\"},\"type\":\"choropleth\"}],\"contour\":[{\"colorbar\":{\"outlinewidth\":0,\"ticks\":\"\"},\"colorscale\":[[0.0,\"#0d0887\"],[0.1111111111111111,\"#46039f\"],[0.2222222222222222,\"#7201a8\"],[0.3333333333333333,\"#9c179e\"],[0.4444444444444444,\"#bd3786\"],[0.5555555555555556,\"#d8576b\"],[0.6666666666666666,\"#ed7953\"],[0.7777777777777778,\"#fb9f3a\"],[0.8888888888888888,\"#fdca26\"],[1.0,\"#f0f921\"]],\"type\":\"contour\"}],\"contourcarpet\":[{\"colorbar\":{\"outlinewidth\":0,\"ticks\":\"\"},\"type\":\"contourcarpet\"}],\"heatmap\":[{\"colorbar\":{\"outlinewidth\":0,\"ticks\":\"\"},\"colorscale\":[[0.0,\"#0d0887\"],[0.1111111111111111,\"#46039f\"],[0.2222222222222222,\"#7201a8\"],[0.3333333333333333,\"#9c179e\"],[0.4444444444444444,\"#bd3786\"],[0.5555555555555556,\"#d8576b\"],[0.6666666666666666,\"#ed7953\"],[0.7777777777777778,\"#fb9f3a\"],[0.8888888888888888,\"#fdca26\"],[1.0,\"#f0f921\"]],\"type\":\"heatmap\"}],\"heatmapgl\":[{\"colorbar\":{\"outlinewidth\":0,\"ticks\":\"\"},\"colorscale\":[[0.0,\"#0d0887\"],[0.1111111111111111,\"#46039f\"],[0.2222222222222222,\"#7201a8\"],[0.3333333333333333,\"#9c179e\"],[0.4444444444444444,\"#bd3786\"],[0.5555555555555556,\"#d8576b\"],[0.6666666666666666,\"#ed7953\"],[0.7777777777777778,\"#fb9f3a\"],[0.8888888888888888,\"#fdca26\"],[1.0,\"#f0f921\"]],\"type\":\"heatmapgl\"}],\"histogram\":[{\"marker\":{\"pattern\":{\"fillmode\":\"overlay\",\"size\":10,\"solidity\":0.2}},\"type\":\"histogram\"}],\"histogram2d\":[{\"colorbar\":{\"outlinewidth\":0,\"ticks\":\"\"},\"colorscale\":[[0.0,\"#0d0887\"],[0.1111111111111111,\"#46039f\"],[0.2222222222222222,\"#7201a8\"],[0.3333333333333333,\"#9c179e\"],[0.4444444444444444,\"#bd3786\"],[0.5555555555555556,\"#d8576b\"],[0.6666666666666666,\"#ed7953\"],[0.7777777777777778,\"#fb9f3a\"],[0.8888888888888888,\"#fdca26\"],[1.0,\"#f0f921\"]],\"type\":\"histogram2d\"}],\"histogram2dcontour\":[{\"colorbar\":{\"outlinewidth\":0,\"ticks\":\"\"},\"colorscale\":[[0.0,\"#0d0887\"],[0.1111111111111111,\"#46039f\"],[0.2222222222222222,\"#7201a8\"],[0.3333333333333333,\"#9c179e\"],[0.4444444444444444,\"#bd3786\"],[0.5555555555555556,\"#d8576b\"],[0.6666666666666666,\"#ed7953\"],[0.7777777777777778,\"#fb9f3a\"],[0.8888888888888888,\"#fdca26\"],[1.0,\"#f0f921\"]],\"type\":\"histogram2dcontour\"}],\"mesh3d\":[{\"colorbar\":{\"outlinewidth\":0,\"ticks\":\"\"},\"type\":\"mesh3d\"}],\"parcoords\":[{\"line\":{\"colorbar\":{\"outlinewidth\":0,\"ticks\":\"\"}},\"type\":\"parcoords\"}],\"pie\":[{\"automargin\":true,\"type\":\"pie\"}],\"scatter\":[{\"marker\":{\"colorbar\":{\"outlinewidth\":0,\"ticks\":\"\"}},\"type\":\"scatter\"}],\"scatter3d\":[{\"line\":{\"colorbar\":{\"outlinewidth\":0,\"ticks\":\"\"}},\"marker\":{\"colorbar\":{\"outlinewidth\":0,\"ticks\":\"\"}},\"type\":\"scatter3d\"}],\"scattercarpet\":[{\"marker\":{\"colorbar\":{\"outlinewidth\":0,\"ticks\":\"\"}},\"type\":\"scattercarpet\"}],\"scattergeo\":[{\"marker\":{\"colorbar\":{\"outlinewidth\":0,\"ticks\":\"\"}},\"type\":\"scattergeo\"}],\"scattergl\":[{\"marker\":{\"colorbar\":{\"outlinewidth\":0,\"ticks\":\"\"}},\"type\":\"scattergl\"}],\"scattermapbox\":[{\"marker\":{\"colorbar\":{\"outlinewidth\":0,\"ticks\":\"\"}},\"type\":\"scattermapbox\"}],\"scatterpolar\":[{\"marker\":{\"colorbar\":{\"outlinewidth\":0,\"ticks\":\"\"}},\"type\":\"scatterpolar\"}],\"scatterpolargl\":[{\"marker\":{\"colorbar\":{\"outlinewidth\":0,\"ticks\":\"\"}},\"type\":\"scatterpolargl\"}],\"scatterternary\":[{\"marker\":{\"colorbar\":{\"outlinewidth\":0,\"ticks\":\"\"}},\"type\":\"scatterternary\"}],\"surface\":[{\"colorbar\":{\"outlinewidth\":0,\"ticks\":\"\"},\"colorscale\":[[0.0,\"#0d0887\"],[0.1111111111111111,\"#46039f\"],[0.2222222222222222,\"#7201a8\"],[0.3333333333333333,\"#9c179e\"],[0.4444444444444444,\"#bd3786\"],[0.5555555555555556,\"#d8576b\"],[0.6666666666666666,\"#ed7953\"],[0.7777777777777778,\"#fb9f3a\"],[0.8888888888888888,\"#fdca26\"],[1.0,\"#f0f921\"]],\"type\":\"surface\"}],\"table\":[{\"cells\":{\"fill\":{\"color\":\"#EBF0F8\"},\"line\":{\"color\":\"white\"}},\"header\":{\"fill\":{\"color\":\"#C8D4E3\"},\"line\":{\"color\":\"white\"}},\"type\":\"table\"}]},\"layout\":{\"annotationdefaults\":{\"arrowcolor\":\"#2a3f5f\",\"arrowhead\":0,\"arrowwidth\":1},\"autotypenumbers\":\"strict\",\"coloraxis\":{\"colorbar\":{\"outlinewidth\":0,\"ticks\":\"\"}},\"colorscale\":{\"diverging\":[[0,\"#8e0152\"],[0.1,\"#c51b7d\"],[0.2,\"#de77ae\"],[0.3,\"#f1b6da\"],[0.4,\"#fde0ef\"],[0.5,\"#f7f7f7\"],[0.6,\"#e6f5d0\"],[0.7,\"#b8e186\"],[0.8,\"#7fbc41\"],[0.9,\"#4d9221\"],[1,\"#276419\"]],\"sequential\":[[0.0,\"#0d0887\"],[0.1111111111111111,\"#46039f\"],[0.2222222222222222,\"#7201a8\"],[0.3333333333333333,\"#9c179e\"],[0.4444444444444444,\"#bd3786\"],[0.5555555555555556,\"#d8576b\"],[0.6666666666666666,\"#ed7953\"],[0.7777777777777778,\"#fb9f3a\"],[0.8888888888888888,\"#fdca26\"],[1.0,\"#f0f921\"]],\"sequentialminus\":[[0.0,\"#0d0887\"],[0.1111111111111111,\"#46039f\"],[0.2222222222222222,\"#7201a8\"],[0.3333333333333333,\"#9c179e\"],[0.4444444444444444,\"#bd3786\"],[0.5555555555555556,\"#d8576b\"],[0.6666666666666666,\"#ed7953\"],[0.7777777777777778,\"#fb9f3a\"],[0.8888888888888888,\"#fdca26\"],[1.0,\"#f0f921\"]]},\"colorway\":[\"#636efa\",\"#EF553B\",\"#00cc96\",\"#ab63fa\",\"#FFA15A\",\"#19d3f3\",\"#FF6692\",\"#B6E880\",\"#FF97FF\",\"#FECB52\"],\"font\":{\"color\":\"#2a3f5f\"},\"geo\":{\"bgcolor\":\"white\",\"lakecolor\":\"white\",\"landcolor\":\"#E5ECF6\",\"showlakes\":true,\"showland\":true,\"subunitcolor\":\"white\"},\"hoverlabel\":{\"align\":\"left\"},\"hovermode\":\"closest\",\"mapbox\":{\"style\":\"light\"},\"paper_bgcolor\":\"white\",\"plot_bgcolor\":\"#E5ECF6\",\"polar\":{\"angularaxis\":{\"gridcolor\":\"white\",\"linecolor\":\"white\",\"ticks\":\"\"},\"bgcolor\":\"#E5ECF6\",\"radialaxis\":{\"gridcolor\":\"white\",\"linecolor\":\"white\",\"ticks\":\"\"}},\"scene\":{\"xaxis\":{\"backgroundcolor\":\"#E5ECF6\",\"gridcolor\":\"white\",\"gridwidth\":2,\"linecolor\":\"white\",\"showbackground\":true,\"ticks\":\"\",\"zerolinecolor\":\"white\"},\"yaxis\":{\"backgroundcolor\":\"#E5ECF6\",\"gridcolor\":\"white\",\"gridwidth\":2,\"linecolor\":\"white\",\"showbackground\":true,\"ticks\":\"\",\"zerolinecolor\":\"white\"},\"zaxis\":{\"backgroundcolor\":\"#E5ECF6\",\"gridcolor\":\"white\",\"gridwidth\":2,\"linecolor\":\"white\",\"showbackground\":true,\"ticks\":\"\",\"zerolinecolor\":\"white\"}},\"shapedefaults\":{\"line\":{\"color\":\"#2a3f5f\"}},\"ternary\":{\"aaxis\":{\"gridcolor\":\"white\",\"linecolor\":\"white\",\"ticks\":\"\"},\"baxis\":{\"gridcolor\":\"white\",\"linecolor\":\"white\",\"ticks\":\"\"},\"bgcolor\":\"#E5ECF6\",\"caxis\":{\"gridcolor\":\"white\",\"linecolor\":\"white\",\"ticks\":\"\"}},\"title\":{\"x\":0.05},\"xaxis\":{\"automargin\":true,\"gridcolor\":\"white\",\"linecolor\":\"white\",\"ticks\":\"\",\"title\":{\"standoff\":15},\"zerolinecolor\":\"white\",\"zerolinewidth\":2},\"yaxis\":{\"automargin\":true,\"gridcolor\":\"white\",\"linecolor\":\"white\",\"ticks\":\"\",\"title\":{\"standoff\":15},\"zerolinecolor\":\"white\",\"zerolinewidth\":2}}},\"xaxis\":{\"anchor\":\"y\",\"domain\":[0.0,1.0],\"title\":{\"text\":\"variable\"}},\"yaxis\":{\"anchor\":\"x\",\"domain\":[0.0,1.0],\"title\":{\"text\":\"value\"}}},                        {\"responsive\": true}                    ).then(function(){\n",
       "                            \n",
       "var gd = document.getElementById('9b6171df-9176-4885-9a25-cc240621b045');\n",
       "var x = new MutationObserver(function (mutations, observer) {{\n",
       "        var display = window.getComputedStyle(gd).display;\n",
       "        if (!display || display === 'none') {{\n",
       "            console.log([gd, 'removed!']);\n",
       "            Plotly.purge(gd);\n",
       "            observer.disconnect();\n",
       "        }}\n",
       "}});\n",
       "\n",
       "// Listen for the removal of the full notebook cells\n",
       "var notebookContainer = gd.closest('#notebook-container');\n",
       "if (notebookContainer) {{\n",
       "    x.observe(notebookContainer, {childList: true});\n",
       "}}\n",
       "\n",
       "// Listen for the clearing of the current output cell\n",
       "var outputEl = gd.closest('.output');\n",
       "if (outputEl) {{\n",
       "    x.observe(outputEl, {childList: true});\n",
       "}}\n",
       "\n",
       "                        })                };                });            </script>        </div>"
      ]
     },
     "metadata": {},
     "output_type": "display_data"
    }
   ],
   "source": [
    "fig1 = px.box(df, y= [\"Memory clock(MHz)\", \"GPU clock(MHz)\"])\n",
    "fig1.show()"
   ]
  },
  {
   "cell_type": "code",
   "execution_count": 40,
   "id": "integrated-toolbox",
   "metadata": {},
   "outputs": [
    {
     "data": {
      "application/vnd.plotly.v1+json": {
       "config": {
        "plotlyServerURL": "https://plot.ly"
       },
       "data": [
        {
         "alignmentgroup": "True",
         "hovertemplate": "variable=%{x}<br>value=%{y}<extra></extra>",
         "legendgroup": "",
         "marker": {
          "color": "#636efa"
         },
         "name": "",
         "notched": false,
         "offsetgroup": "",
         "orientation": "v",
         "showlegend": false,
         "type": "box",
         "x": [
          "TMUs",
          "TMUs",
          "TMUs",
          "TMUs",
          "TMUs",
          "TMUs",
          "TMUs",
          "TMUs",
          "TMUs",
          "TMUs",
          "TMUs",
          "TMUs",
          "TMUs",
          "TMUs",
          "TMUs",
          "TMUs",
          "TMUs",
          "TMUs",
          "TMUs",
          "TMUs",
          "TMUs",
          "TMUs",
          "TMUs",
          "TMUs",
          "TMUs",
          "TMUs",
          "TMUs",
          "TMUs",
          "TMUs",
          "TMUs",
          "TMUs",
          "TMUs",
          "TMUs",
          "TMUs",
          "TMUs",
          "TMUs",
          "TMUs",
          "TMUs",
          "TMUs",
          "TMUs",
          "TMUs",
          "TMUs",
          "TMUs",
          "TMUs",
          "TMUs",
          "TMUs",
          "TMUs",
          "TMUs",
          "TMUs",
          "ROPs",
          "ROPs",
          "ROPs",
          "ROPs",
          "ROPs",
          "ROPs",
          "ROPs",
          "ROPs",
          "ROPs",
          "ROPs",
          "ROPs",
          "ROPs",
          "ROPs",
          "ROPs",
          "ROPs",
          "ROPs",
          "ROPs",
          "ROPs",
          "ROPs",
          "ROPs",
          "ROPs",
          "ROPs",
          "ROPs",
          "ROPs",
          "ROPs",
          "ROPs",
          "ROPs",
          "ROPs",
          "ROPs",
          "ROPs",
          "ROPs",
          "ROPs",
          "ROPs",
          "ROPs",
          "ROPs",
          "ROPs",
          "ROPs",
          "ROPs",
          "ROPs",
          "ROPs",
          "ROPs",
          "ROPs",
          "ROPs",
          "ROPs",
          "ROPs",
          "ROPs",
          "ROPs",
          "ROPs",
          "ROPs"
         ],
         "x0": " ",
         "xaxis": "x",
         "y": [
          112,
          328,
          152,
          272,
          48,
          184,
          128,
          104,
          320,
          64,
          120,
          56,
          40,
          120,
          80,
          112,
          24,
          192,
          144,
          224,
          320,
          128,
          160,
          88,
          160,
          32,
          8,
          96,
          40,
          272,
          72,
          32,
          96,
          80,
          176,
          64,
          32,
          192,
          80,
          184,
          88,
          16,
          160,
          160,
          48,
          32,
          144,
          32,
          288,
          48,
          112,
          80,
          96,
          32,
          96,
          64,
          56,
          112,
          32,
          48,
          32,
          16,
          64,
          48,
          64,
          16,
          96,
          32,
          88,
          128,
          32,
          64,
          48,
          64,
          24,
          4,
          48,
          32,
          88,
          40,
          8,
          32,
          32,
          96,
          16,
          16,
          96,
          24,
          64,
          48,
          8,
          64,
          64,
          32,
          16,
          64,
          16,
          128
         ],
         "y0": " ",
         "yaxis": "y"
        }
       ],
       "layout": {
        "boxmode": "group",
        "legend": {
         "tracegroupgap": 0
        },
        "margin": {
         "t": 60
        },
        "template": {
         "data": {
          "bar": [
           {
            "error_x": {
             "color": "#2a3f5f"
            },
            "error_y": {
             "color": "#2a3f5f"
            },
            "marker": {
             "line": {
              "color": "#E5ECF6",
              "width": 0.5
             },
             "pattern": {
              "fillmode": "overlay",
              "size": 10,
              "solidity": 0.2
             }
            },
            "type": "bar"
           }
          ],
          "barpolar": [
           {
            "marker": {
             "line": {
              "color": "#E5ECF6",
              "width": 0.5
             },
             "pattern": {
              "fillmode": "overlay",
              "size": 10,
              "solidity": 0.2
             }
            },
            "type": "barpolar"
           }
          ],
          "carpet": [
           {
            "aaxis": {
             "endlinecolor": "#2a3f5f",
             "gridcolor": "white",
             "linecolor": "white",
             "minorgridcolor": "white",
             "startlinecolor": "#2a3f5f"
            },
            "baxis": {
             "endlinecolor": "#2a3f5f",
             "gridcolor": "white",
             "linecolor": "white",
             "minorgridcolor": "white",
             "startlinecolor": "#2a3f5f"
            },
            "type": "carpet"
           }
          ],
          "choropleth": [
           {
            "colorbar": {
             "outlinewidth": 0,
             "ticks": ""
            },
            "type": "choropleth"
           }
          ],
          "contour": [
           {
            "colorbar": {
             "outlinewidth": 0,
             "ticks": ""
            },
            "colorscale": [
             [
              0,
              "#0d0887"
             ],
             [
              0.1111111111111111,
              "#46039f"
             ],
             [
              0.2222222222222222,
              "#7201a8"
             ],
             [
              0.3333333333333333,
              "#9c179e"
             ],
             [
              0.4444444444444444,
              "#bd3786"
             ],
             [
              0.5555555555555556,
              "#d8576b"
             ],
             [
              0.6666666666666666,
              "#ed7953"
             ],
             [
              0.7777777777777778,
              "#fb9f3a"
             ],
             [
              0.8888888888888888,
              "#fdca26"
             ],
             [
              1,
              "#f0f921"
             ]
            ],
            "type": "contour"
           }
          ],
          "contourcarpet": [
           {
            "colorbar": {
             "outlinewidth": 0,
             "ticks": ""
            },
            "type": "contourcarpet"
           }
          ],
          "heatmap": [
           {
            "colorbar": {
             "outlinewidth": 0,
             "ticks": ""
            },
            "colorscale": [
             [
              0,
              "#0d0887"
             ],
             [
              0.1111111111111111,
              "#46039f"
             ],
             [
              0.2222222222222222,
              "#7201a8"
             ],
             [
              0.3333333333333333,
              "#9c179e"
             ],
             [
              0.4444444444444444,
              "#bd3786"
             ],
             [
              0.5555555555555556,
              "#d8576b"
             ],
             [
              0.6666666666666666,
              "#ed7953"
             ],
             [
              0.7777777777777778,
              "#fb9f3a"
             ],
             [
              0.8888888888888888,
              "#fdca26"
             ],
             [
              1,
              "#f0f921"
             ]
            ],
            "type": "heatmap"
           }
          ],
          "heatmapgl": [
           {
            "colorbar": {
             "outlinewidth": 0,
             "ticks": ""
            },
            "colorscale": [
             [
              0,
              "#0d0887"
             ],
             [
              0.1111111111111111,
              "#46039f"
             ],
             [
              0.2222222222222222,
              "#7201a8"
             ],
             [
              0.3333333333333333,
              "#9c179e"
             ],
             [
              0.4444444444444444,
              "#bd3786"
             ],
             [
              0.5555555555555556,
              "#d8576b"
             ],
             [
              0.6666666666666666,
              "#ed7953"
             ],
             [
              0.7777777777777778,
              "#fb9f3a"
             ],
             [
              0.8888888888888888,
              "#fdca26"
             ],
             [
              1,
              "#f0f921"
             ]
            ],
            "type": "heatmapgl"
           }
          ],
          "histogram": [
           {
            "marker": {
             "pattern": {
              "fillmode": "overlay",
              "size": 10,
              "solidity": 0.2
             }
            },
            "type": "histogram"
           }
          ],
          "histogram2d": [
           {
            "colorbar": {
             "outlinewidth": 0,
             "ticks": ""
            },
            "colorscale": [
             [
              0,
              "#0d0887"
             ],
             [
              0.1111111111111111,
              "#46039f"
             ],
             [
              0.2222222222222222,
              "#7201a8"
             ],
             [
              0.3333333333333333,
              "#9c179e"
             ],
             [
              0.4444444444444444,
              "#bd3786"
             ],
             [
              0.5555555555555556,
              "#d8576b"
             ],
             [
              0.6666666666666666,
              "#ed7953"
             ],
             [
              0.7777777777777778,
              "#fb9f3a"
             ],
             [
              0.8888888888888888,
              "#fdca26"
             ],
             [
              1,
              "#f0f921"
             ]
            ],
            "type": "histogram2d"
           }
          ],
          "histogram2dcontour": [
           {
            "colorbar": {
             "outlinewidth": 0,
             "ticks": ""
            },
            "colorscale": [
             [
              0,
              "#0d0887"
             ],
             [
              0.1111111111111111,
              "#46039f"
             ],
             [
              0.2222222222222222,
              "#7201a8"
             ],
             [
              0.3333333333333333,
              "#9c179e"
             ],
             [
              0.4444444444444444,
              "#bd3786"
             ],
             [
              0.5555555555555556,
              "#d8576b"
             ],
             [
              0.6666666666666666,
              "#ed7953"
             ],
             [
              0.7777777777777778,
              "#fb9f3a"
             ],
             [
              0.8888888888888888,
              "#fdca26"
             ],
             [
              1,
              "#f0f921"
             ]
            ],
            "type": "histogram2dcontour"
           }
          ],
          "mesh3d": [
           {
            "colorbar": {
             "outlinewidth": 0,
             "ticks": ""
            },
            "type": "mesh3d"
           }
          ],
          "parcoords": [
           {
            "line": {
             "colorbar": {
              "outlinewidth": 0,
              "ticks": ""
             }
            },
            "type": "parcoords"
           }
          ],
          "pie": [
           {
            "automargin": true,
            "type": "pie"
           }
          ],
          "scatter": [
           {
            "marker": {
             "colorbar": {
              "outlinewidth": 0,
              "ticks": ""
             }
            },
            "type": "scatter"
           }
          ],
          "scatter3d": [
           {
            "line": {
             "colorbar": {
              "outlinewidth": 0,
              "ticks": ""
             }
            },
            "marker": {
             "colorbar": {
              "outlinewidth": 0,
              "ticks": ""
             }
            },
            "type": "scatter3d"
           }
          ],
          "scattercarpet": [
           {
            "marker": {
             "colorbar": {
              "outlinewidth": 0,
              "ticks": ""
             }
            },
            "type": "scattercarpet"
           }
          ],
          "scattergeo": [
           {
            "marker": {
             "colorbar": {
              "outlinewidth": 0,
              "ticks": ""
             }
            },
            "type": "scattergeo"
           }
          ],
          "scattergl": [
           {
            "marker": {
             "colorbar": {
              "outlinewidth": 0,
              "ticks": ""
             }
            },
            "type": "scattergl"
           }
          ],
          "scattermapbox": [
           {
            "marker": {
             "colorbar": {
              "outlinewidth": 0,
              "ticks": ""
             }
            },
            "type": "scattermapbox"
           }
          ],
          "scatterpolar": [
           {
            "marker": {
             "colorbar": {
              "outlinewidth": 0,
              "ticks": ""
             }
            },
            "type": "scatterpolar"
           }
          ],
          "scatterpolargl": [
           {
            "marker": {
             "colorbar": {
              "outlinewidth": 0,
              "ticks": ""
             }
            },
            "type": "scatterpolargl"
           }
          ],
          "scatterternary": [
           {
            "marker": {
             "colorbar": {
              "outlinewidth": 0,
              "ticks": ""
             }
            },
            "type": "scatterternary"
           }
          ],
          "surface": [
           {
            "colorbar": {
             "outlinewidth": 0,
             "ticks": ""
            },
            "colorscale": [
             [
              0,
              "#0d0887"
             ],
             [
              0.1111111111111111,
              "#46039f"
             ],
             [
              0.2222222222222222,
              "#7201a8"
             ],
             [
              0.3333333333333333,
              "#9c179e"
             ],
             [
              0.4444444444444444,
              "#bd3786"
             ],
             [
              0.5555555555555556,
              "#d8576b"
             ],
             [
              0.6666666666666666,
              "#ed7953"
             ],
             [
              0.7777777777777778,
              "#fb9f3a"
             ],
             [
              0.8888888888888888,
              "#fdca26"
             ],
             [
              1,
              "#f0f921"
             ]
            ],
            "type": "surface"
           }
          ],
          "table": [
           {
            "cells": {
             "fill": {
              "color": "#EBF0F8"
             },
             "line": {
              "color": "white"
             }
            },
            "header": {
             "fill": {
              "color": "#C8D4E3"
             },
             "line": {
              "color": "white"
             }
            },
            "type": "table"
           }
          ]
         },
         "layout": {
          "annotationdefaults": {
           "arrowcolor": "#2a3f5f",
           "arrowhead": 0,
           "arrowwidth": 1
          },
          "autotypenumbers": "strict",
          "coloraxis": {
           "colorbar": {
            "outlinewidth": 0,
            "ticks": ""
           }
          },
          "colorscale": {
           "diverging": [
            [
             0,
             "#8e0152"
            ],
            [
             0.1,
             "#c51b7d"
            ],
            [
             0.2,
             "#de77ae"
            ],
            [
             0.3,
             "#f1b6da"
            ],
            [
             0.4,
             "#fde0ef"
            ],
            [
             0.5,
             "#f7f7f7"
            ],
            [
             0.6,
             "#e6f5d0"
            ],
            [
             0.7,
             "#b8e186"
            ],
            [
             0.8,
             "#7fbc41"
            ],
            [
             0.9,
             "#4d9221"
            ],
            [
             1,
             "#276419"
            ]
           ],
           "sequential": [
            [
             0,
             "#0d0887"
            ],
            [
             0.1111111111111111,
             "#46039f"
            ],
            [
             0.2222222222222222,
             "#7201a8"
            ],
            [
             0.3333333333333333,
             "#9c179e"
            ],
            [
             0.4444444444444444,
             "#bd3786"
            ],
            [
             0.5555555555555556,
             "#d8576b"
            ],
            [
             0.6666666666666666,
             "#ed7953"
            ],
            [
             0.7777777777777778,
             "#fb9f3a"
            ],
            [
             0.8888888888888888,
             "#fdca26"
            ],
            [
             1,
             "#f0f921"
            ]
           ],
           "sequentialminus": [
            [
             0,
             "#0d0887"
            ],
            [
             0.1111111111111111,
             "#46039f"
            ],
            [
             0.2222222222222222,
             "#7201a8"
            ],
            [
             0.3333333333333333,
             "#9c179e"
            ],
            [
             0.4444444444444444,
             "#bd3786"
            ],
            [
             0.5555555555555556,
             "#d8576b"
            ],
            [
             0.6666666666666666,
             "#ed7953"
            ],
            [
             0.7777777777777778,
             "#fb9f3a"
            ],
            [
             0.8888888888888888,
             "#fdca26"
            ],
            [
             1,
             "#f0f921"
            ]
           ]
          },
          "colorway": [
           "#636efa",
           "#EF553B",
           "#00cc96",
           "#ab63fa",
           "#FFA15A",
           "#19d3f3",
           "#FF6692",
           "#B6E880",
           "#FF97FF",
           "#FECB52"
          ],
          "font": {
           "color": "#2a3f5f"
          },
          "geo": {
           "bgcolor": "white",
           "lakecolor": "white",
           "landcolor": "#E5ECF6",
           "showlakes": true,
           "showland": true,
           "subunitcolor": "white"
          },
          "hoverlabel": {
           "align": "left"
          },
          "hovermode": "closest",
          "mapbox": {
           "style": "light"
          },
          "paper_bgcolor": "white",
          "plot_bgcolor": "#E5ECF6",
          "polar": {
           "angularaxis": {
            "gridcolor": "white",
            "linecolor": "white",
            "ticks": ""
           },
           "bgcolor": "#E5ECF6",
           "radialaxis": {
            "gridcolor": "white",
            "linecolor": "white",
            "ticks": ""
           }
          },
          "scene": {
           "xaxis": {
            "backgroundcolor": "#E5ECF6",
            "gridcolor": "white",
            "gridwidth": 2,
            "linecolor": "white",
            "showbackground": true,
            "ticks": "",
            "zerolinecolor": "white"
           },
           "yaxis": {
            "backgroundcolor": "#E5ECF6",
            "gridcolor": "white",
            "gridwidth": 2,
            "linecolor": "white",
            "showbackground": true,
            "ticks": "",
            "zerolinecolor": "white"
           },
           "zaxis": {
            "backgroundcolor": "#E5ECF6",
            "gridcolor": "white",
            "gridwidth": 2,
            "linecolor": "white",
            "showbackground": true,
            "ticks": "",
            "zerolinecolor": "white"
           }
          },
          "shapedefaults": {
           "line": {
            "color": "#2a3f5f"
           }
          },
          "ternary": {
           "aaxis": {
            "gridcolor": "white",
            "linecolor": "white",
            "ticks": ""
           },
           "baxis": {
            "gridcolor": "white",
            "linecolor": "white",
            "ticks": ""
           },
           "bgcolor": "#E5ECF6",
           "caxis": {
            "gridcolor": "white",
            "linecolor": "white",
            "ticks": ""
           }
          },
          "title": {
           "x": 0.05
          },
          "xaxis": {
           "automargin": true,
           "gridcolor": "white",
           "linecolor": "white",
           "ticks": "",
           "title": {
            "standoff": 15
           },
           "zerolinecolor": "white",
           "zerolinewidth": 2
          },
          "yaxis": {
           "automargin": true,
           "gridcolor": "white",
           "linecolor": "white",
           "ticks": "",
           "title": {
            "standoff": 15
           },
           "zerolinecolor": "white",
           "zerolinewidth": 2
          }
         }
        },
        "xaxis": {
         "anchor": "y",
         "domain": [
          0,
          1
         ],
         "title": {
          "text": "variable"
         }
        },
        "yaxis": {
         "anchor": "x",
         "domain": [
          0,
          1
         ],
         "title": {
          "text": "value"
         }
        }
       }
      },
      "text/html": [
       "<div>                            <div id=\"a2894e4c-51e1-407a-bc8c-45b336fb862d\" class=\"plotly-graph-div\" style=\"height:525px; width:100%;\"></div>            <script type=\"text/javascript\">                require([\"plotly\"], function(Plotly) {                    window.PLOTLYENV=window.PLOTLYENV || {};                                    if (document.getElementById(\"a2894e4c-51e1-407a-bc8c-45b336fb862d\")) {                    Plotly.newPlot(                        \"a2894e4c-51e1-407a-bc8c-45b336fb862d\",                        [{\"alignmentgroup\":\"True\",\"hovertemplate\":\"variable=%{x}<br>value=%{y}<extra></extra>\",\"legendgroup\":\"\",\"marker\":{\"color\":\"#636efa\"},\"name\":\"\",\"notched\":false,\"offsetgroup\":\"\",\"orientation\":\"v\",\"showlegend\":false,\"type\":\"box\",\"x\":[\"TMUs\",\"TMUs\",\"TMUs\",\"TMUs\",\"TMUs\",\"TMUs\",\"TMUs\",\"TMUs\",\"TMUs\",\"TMUs\",\"TMUs\",\"TMUs\",\"TMUs\",\"TMUs\",\"TMUs\",\"TMUs\",\"TMUs\",\"TMUs\",\"TMUs\",\"TMUs\",\"TMUs\",\"TMUs\",\"TMUs\",\"TMUs\",\"TMUs\",\"TMUs\",\"TMUs\",\"TMUs\",\"TMUs\",\"TMUs\",\"TMUs\",\"TMUs\",\"TMUs\",\"TMUs\",\"TMUs\",\"TMUs\",\"TMUs\",\"TMUs\",\"TMUs\",\"TMUs\",\"TMUs\",\"TMUs\",\"TMUs\",\"TMUs\",\"TMUs\",\"TMUs\",\"TMUs\",\"TMUs\",\"TMUs\",\"ROPs\",\"ROPs\",\"ROPs\",\"ROPs\",\"ROPs\",\"ROPs\",\"ROPs\",\"ROPs\",\"ROPs\",\"ROPs\",\"ROPs\",\"ROPs\",\"ROPs\",\"ROPs\",\"ROPs\",\"ROPs\",\"ROPs\",\"ROPs\",\"ROPs\",\"ROPs\",\"ROPs\",\"ROPs\",\"ROPs\",\"ROPs\",\"ROPs\",\"ROPs\",\"ROPs\",\"ROPs\",\"ROPs\",\"ROPs\",\"ROPs\",\"ROPs\",\"ROPs\",\"ROPs\",\"ROPs\",\"ROPs\",\"ROPs\",\"ROPs\",\"ROPs\",\"ROPs\",\"ROPs\",\"ROPs\",\"ROPs\",\"ROPs\",\"ROPs\",\"ROPs\",\"ROPs\",\"ROPs\",\"ROPs\"],\"x0\":\" \",\"xaxis\":\"x\",\"y\":[112.0,328.0,152.0,272.0,48.0,184.0,128.0,104.0,320.0,64.0,120.0,56.0,40.0,120.0,80.0,112.0,24.0,192.0,144.0,224.0,320.0,128.0,160.0,88.0,160.0,32.0,8.0,96.0,40.0,272.0,72.0,32.0,96.0,80.0,176.0,64.0,32.0,192.0,80.0,184.0,88.0,16.0,160.0,160.0,48.0,32.0,144.0,32.0,288.0,48.0,112.0,80.0,96.0,32.0,96.0,64.0,56.0,112.0,32.0,48.0,32.0,16.0,64.0,48.0,64.0,16.0,96.0,32.0,88.0,128.0,32.0,64.0,48.0,64.0,24.0,4.0,48.0,32.0,88.0,40.0,8.0,32.0,32.0,96.0,16.0,16.0,96.0,24.0,64.0,48.0,8.0,64.0,64.0,32.0,16.0,64.0,16.0,128.0],\"y0\":\" \",\"yaxis\":\"y\"}],                        {\"boxmode\":\"group\",\"legend\":{\"tracegroupgap\":0},\"margin\":{\"t\":60},\"template\":{\"data\":{\"bar\":[{\"error_x\":{\"color\":\"#2a3f5f\"},\"error_y\":{\"color\":\"#2a3f5f\"},\"marker\":{\"line\":{\"color\":\"#E5ECF6\",\"width\":0.5},\"pattern\":{\"fillmode\":\"overlay\",\"size\":10,\"solidity\":0.2}},\"type\":\"bar\"}],\"barpolar\":[{\"marker\":{\"line\":{\"color\":\"#E5ECF6\",\"width\":0.5},\"pattern\":{\"fillmode\":\"overlay\",\"size\":10,\"solidity\":0.2}},\"type\":\"barpolar\"}],\"carpet\":[{\"aaxis\":{\"endlinecolor\":\"#2a3f5f\",\"gridcolor\":\"white\",\"linecolor\":\"white\",\"minorgridcolor\":\"white\",\"startlinecolor\":\"#2a3f5f\"},\"baxis\":{\"endlinecolor\":\"#2a3f5f\",\"gridcolor\":\"white\",\"linecolor\":\"white\",\"minorgridcolor\":\"white\",\"startlinecolor\":\"#2a3f5f\"},\"type\":\"carpet\"}],\"choropleth\":[{\"colorbar\":{\"outlinewidth\":0,\"ticks\":\"\"},\"type\":\"choropleth\"}],\"contour\":[{\"colorbar\":{\"outlinewidth\":0,\"ticks\":\"\"},\"colorscale\":[[0.0,\"#0d0887\"],[0.1111111111111111,\"#46039f\"],[0.2222222222222222,\"#7201a8\"],[0.3333333333333333,\"#9c179e\"],[0.4444444444444444,\"#bd3786\"],[0.5555555555555556,\"#d8576b\"],[0.6666666666666666,\"#ed7953\"],[0.7777777777777778,\"#fb9f3a\"],[0.8888888888888888,\"#fdca26\"],[1.0,\"#f0f921\"]],\"type\":\"contour\"}],\"contourcarpet\":[{\"colorbar\":{\"outlinewidth\":0,\"ticks\":\"\"},\"type\":\"contourcarpet\"}],\"heatmap\":[{\"colorbar\":{\"outlinewidth\":0,\"ticks\":\"\"},\"colorscale\":[[0.0,\"#0d0887\"],[0.1111111111111111,\"#46039f\"],[0.2222222222222222,\"#7201a8\"],[0.3333333333333333,\"#9c179e\"],[0.4444444444444444,\"#bd3786\"],[0.5555555555555556,\"#d8576b\"],[0.6666666666666666,\"#ed7953\"],[0.7777777777777778,\"#fb9f3a\"],[0.8888888888888888,\"#fdca26\"],[1.0,\"#f0f921\"]],\"type\":\"heatmap\"}],\"heatmapgl\":[{\"colorbar\":{\"outlinewidth\":0,\"ticks\":\"\"},\"colorscale\":[[0.0,\"#0d0887\"],[0.1111111111111111,\"#46039f\"],[0.2222222222222222,\"#7201a8\"],[0.3333333333333333,\"#9c179e\"],[0.4444444444444444,\"#bd3786\"],[0.5555555555555556,\"#d8576b\"],[0.6666666666666666,\"#ed7953\"],[0.7777777777777778,\"#fb9f3a\"],[0.8888888888888888,\"#fdca26\"],[1.0,\"#f0f921\"]],\"type\":\"heatmapgl\"}],\"histogram\":[{\"marker\":{\"pattern\":{\"fillmode\":\"overlay\",\"size\":10,\"solidity\":0.2}},\"type\":\"histogram\"}],\"histogram2d\":[{\"colorbar\":{\"outlinewidth\":0,\"ticks\":\"\"},\"colorscale\":[[0.0,\"#0d0887\"],[0.1111111111111111,\"#46039f\"],[0.2222222222222222,\"#7201a8\"],[0.3333333333333333,\"#9c179e\"],[0.4444444444444444,\"#bd3786\"],[0.5555555555555556,\"#d8576b\"],[0.6666666666666666,\"#ed7953\"],[0.7777777777777778,\"#fb9f3a\"],[0.8888888888888888,\"#fdca26\"],[1.0,\"#f0f921\"]],\"type\":\"histogram2d\"}],\"histogram2dcontour\":[{\"colorbar\":{\"outlinewidth\":0,\"ticks\":\"\"},\"colorscale\":[[0.0,\"#0d0887\"],[0.1111111111111111,\"#46039f\"],[0.2222222222222222,\"#7201a8\"],[0.3333333333333333,\"#9c179e\"],[0.4444444444444444,\"#bd3786\"],[0.5555555555555556,\"#d8576b\"],[0.6666666666666666,\"#ed7953\"],[0.7777777777777778,\"#fb9f3a\"],[0.8888888888888888,\"#fdca26\"],[1.0,\"#f0f921\"]],\"type\":\"histogram2dcontour\"}],\"mesh3d\":[{\"colorbar\":{\"outlinewidth\":0,\"ticks\":\"\"},\"type\":\"mesh3d\"}],\"parcoords\":[{\"line\":{\"colorbar\":{\"outlinewidth\":0,\"ticks\":\"\"}},\"type\":\"parcoords\"}],\"pie\":[{\"automargin\":true,\"type\":\"pie\"}],\"scatter\":[{\"marker\":{\"colorbar\":{\"outlinewidth\":0,\"ticks\":\"\"}},\"type\":\"scatter\"}],\"scatter3d\":[{\"line\":{\"colorbar\":{\"outlinewidth\":0,\"ticks\":\"\"}},\"marker\":{\"colorbar\":{\"outlinewidth\":0,\"ticks\":\"\"}},\"type\":\"scatter3d\"}],\"scattercarpet\":[{\"marker\":{\"colorbar\":{\"outlinewidth\":0,\"ticks\":\"\"}},\"type\":\"scattercarpet\"}],\"scattergeo\":[{\"marker\":{\"colorbar\":{\"outlinewidth\":0,\"ticks\":\"\"}},\"type\":\"scattergeo\"}],\"scattergl\":[{\"marker\":{\"colorbar\":{\"outlinewidth\":0,\"ticks\":\"\"}},\"type\":\"scattergl\"}],\"scattermapbox\":[{\"marker\":{\"colorbar\":{\"outlinewidth\":0,\"ticks\":\"\"}},\"type\":\"scattermapbox\"}],\"scatterpolar\":[{\"marker\":{\"colorbar\":{\"outlinewidth\":0,\"ticks\":\"\"}},\"type\":\"scatterpolar\"}],\"scatterpolargl\":[{\"marker\":{\"colorbar\":{\"outlinewidth\":0,\"ticks\":\"\"}},\"type\":\"scatterpolargl\"}],\"scatterternary\":[{\"marker\":{\"colorbar\":{\"outlinewidth\":0,\"ticks\":\"\"}},\"type\":\"scatterternary\"}],\"surface\":[{\"colorbar\":{\"outlinewidth\":0,\"ticks\":\"\"},\"colorscale\":[[0.0,\"#0d0887\"],[0.1111111111111111,\"#46039f\"],[0.2222222222222222,\"#7201a8\"],[0.3333333333333333,\"#9c179e\"],[0.4444444444444444,\"#bd3786\"],[0.5555555555555556,\"#d8576b\"],[0.6666666666666666,\"#ed7953\"],[0.7777777777777778,\"#fb9f3a\"],[0.8888888888888888,\"#fdca26\"],[1.0,\"#f0f921\"]],\"type\":\"surface\"}],\"table\":[{\"cells\":{\"fill\":{\"color\":\"#EBF0F8\"},\"line\":{\"color\":\"white\"}},\"header\":{\"fill\":{\"color\":\"#C8D4E3\"},\"line\":{\"color\":\"white\"}},\"type\":\"table\"}]},\"layout\":{\"annotationdefaults\":{\"arrowcolor\":\"#2a3f5f\",\"arrowhead\":0,\"arrowwidth\":1},\"autotypenumbers\":\"strict\",\"coloraxis\":{\"colorbar\":{\"outlinewidth\":0,\"ticks\":\"\"}},\"colorscale\":{\"diverging\":[[0,\"#8e0152\"],[0.1,\"#c51b7d\"],[0.2,\"#de77ae\"],[0.3,\"#f1b6da\"],[0.4,\"#fde0ef\"],[0.5,\"#f7f7f7\"],[0.6,\"#e6f5d0\"],[0.7,\"#b8e186\"],[0.8,\"#7fbc41\"],[0.9,\"#4d9221\"],[1,\"#276419\"]],\"sequential\":[[0.0,\"#0d0887\"],[0.1111111111111111,\"#46039f\"],[0.2222222222222222,\"#7201a8\"],[0.3333333333333333,\"#9c179e\"],[0.4444444444444444,\"#bd3786\"],[0.5555555555555556,\"#d8576b\"],[0.6666666666666666,\"#ed7953\"],[0.7777777777777778,\"#fb9f3a\"],[0.8888888888888888,\"#fdca26\"],[1.0,\"#f0f921\"]],\"sequentialminus\":[[0.0,\"#0d0887\"],[0.1111111111111111,\"#46039f\"],[0.2222222222222222,\"#7201a8\"],[0.3333333333333333,\"#9c179e\"],[0.4444444444444444,\"#bd3786\"],[0.5555555555555556,\"#d8576b\"],[0.6666666666666666,\"#ed7953\"],[0.7777777777777778,\"#fb9f3a\"],[0.8888888888888888,\"#fdca26\"],[1.0,\"#f0f921\"]]},\"colorway\":[\"#636efa\",\"#EF553B\",\"#00cc96\",\"#ab63fa\",\"#FFA15A\",\"#19d3f3\",\"#FF6692\",\"#B6E880\",\"#FF97FF\",\"#FECB52\"],\"font\":{\"color\":\"#2a3f5f\"},\"geo\":{\"bgcolor\":\"white\",\"lakecolor\":\"white\",\"landcolor\":\"#E5ECF6\",\"showlakes\":true,\"showland\":true,\"subunitcolor\":\"white\"},\"hoverlabel\":{\"align\":\"left\"},\"hovermode\":\"closest\",\"mapbox\":{\"style\":\"light\"},\"paper_bgcolor\":\"white\",\"plot_bgcolor\":\"#E5ECF6\",\"polar\":{\"angularaxis\":{\"gridcolor\":\"white\",\"linecolor\":\"white\",\"ticks\":\"\"},\"bgcolor\":\"#E5ECF6\",\"radialaxis\":{\"gridcolor\":\"white\",\"linecolor\":\"white\",\"ticks\":\"\"}},\"scene\":{\"xaxis\":{\"backgroundcolor\":\"#E5ECF6\",\"gridcolor\":\"white\",\"gridwidth\":2,\"linecolor\":\"white\",\"showbackground\":true,\"ticks\":\"\",\"zerolinecolor\":\"white\"},\"yaxis\":{\"backgroundcolor\":\"#E5ECF6\",\"gridcolor\":\"white\",\"gridwidth\":2,\"linecolor\":\"white\",\"showbackground\":true,\"ticks\":\"\",\"zerolinecolor\":\"white\"},\"zaxis\":{\"backgroundcolor\":\"#E5ECF6\",\"gridcolor\":\"white\",\"gridwidth\":2,\"linecolor\":\"white\",\"showbackground\":true,\"ticks\":\"\",\"zerolinecolor\":\"white\"}},\"shapedefaults\":{\"line\":{\"color\":\"#2a3f5f\"}},\"ternary\":{\"aaxis\":{\"gridcolor\":\"white\",\"linecolor\":\"white\",\"ticks\":\"\"},\"baxis\":{\"gridcolor\":\"white\",\"linecolor\":\"white\",\"ticks\":\"\"},\"bgcolor\":\"#E5ECF6\",\"caxis\":{\"gridcolor\":\"white\",\"linecolor\":\"white\",\"ticks\":\"\"}},\"title\":{\"x\":0.05},\"xaxis\":{\"automargin\":true,\"gridcolor\":\"white\",\"linecolor\":\"white\",\"ticks\":\"\",\"title\":{\"standoff\":15},\"zerolinecolor\":\"white\",\"zerolinewidth\":2},\"yaxis\":{\"automargin\":true,\"gridcolor\":\"white\",\"linecolor\":\"white\",\"ticks\":\"\",\"title\":{\"standoff\":15},\"zerolinecolor\":\"white\",\"zerolinewidth\":2}}},\"xaxis\":{\"anchor\":\"y\",\"domain\":[0.0,1.0],\"title\":{\"text\":\"variable\"}},\"yaxis\":{\"anchor\":\"x\",\"domain\":[0.0,1.0],\"title\":{\"text\":\"value\"}}},                        {\"responsive\": true}                    ).then(function(){\n",
       "                            \n",
       "var gd = document.getElementById('a2894e4c-51e1-407a-bc8c-45b336fb862d');\n",
       "var x = new MutationObserver(function (mutations, observer) {{\n",
       "        var display = window.getComputedStyle(gd).display;\n",
       "        if (!display || display === 'none') {{\n",
       "            console.log([gd, 'removed!']);\n",
       "            Plotly.purge(gd);\n",
       "            observer.disconnect();\n",
       "        }}\n",
       "}});\n",
       "\n",
       "// Listen for the removal of the full notebook cells\n",
       "var notebookContainer = gd.closest('#notebook-container');\n",
       "if (notebookContainer) {{\n",
       "    x.observe(notebookContainer, {childList: true});\n",
       "}}\n",
       "\n",
       "// Listen for the clearing of the current output cell\n",
       "var outputEl = gd.closest('.output');\n",
       "if (outputEl) {{\n",
       "    x.observe(outputEl, {childList: true});\n",
       "}}\n",
       "\n",
       "                        })                };                });            </script>        </div>"
      ]
     },
     "metadata": {},
     "output_type": "display_data"
    }
   ],
   "source": [
    "# Shaders has too much variance, and it makes the box plot look really can't see TMU or ROPs\n",
    "#fig2 = px.box(df, y =[\"Shaders\", \"TMUs\", \"ROPs\"])\n",
    "fig2 = px.box(df, y =[\"TMUs\", \"ROPs\"])\n",
    "fig2.show()"
   ]
  },
  {
   "cell_type": "code",
   "execution_count": 36,
   "id": "fatal-globe",
   "metadata": {},
   "outputs": [
    {
     "data": {
      "text/plain": [
       "Shaders              1.728294\n",
       "TMUs                 0.866194\n",
       "ROPs                 0.561571\n",
       "GPU clock(MHz)       0.219664\n",
       "Memory clock(MHz)   -1.212406\n",
       "dtype: float64"
      ]
     },
     "execution_count": 36,
     "metadata": {},
     "output_type": "execute_result"
    }
   ],
   "source": [
    "df.skew()"
   ]
  },
  {
   "cell_type": "code",
   "execution_count": 42,
   "id": "forced-monster",
   "metadata": {},
   "outputs": [
    {
     "data": {
      "text/plain": [
       "array([[<matplotlib.axes._subplots.AxesSubplot object at 0x279BA5E0>,\n",
       "        <matplotlib.axes._subplots.AxesSubplot object at 0x27B36868>],\n",
       "       [<matplotlib.axes._subplots.AxesSubplot object at 0x27B56178>,\n",
       "        <matplotlib.axes._subplots.AxesSubplot object at 0x27B68B50>],\n",
       "       [<matplotlib.axes._subplots.AxesSubplot object at 0x27B88550>,\n",
       "        <matplotlib.axes._subplots.AxesSubplot object at 0x27B9CF58>]],\n",
       "      dtype=object)"
      ]
     },
     "execution_count": 42,
     "metadata": {},
     "output_type": "execute_result"
    },
    {
     "data": {
      "image/png": "[encoded data removed]",
      "text/plain": [
       "<Figure size 1440x1440 with 6 Axes>"
      ]
     },
     "metadata": {
      "needs_background": "light"
     },
     "output_type": "display_data"
    }
   ],
   "source": [
    "df.hist(figsize=(20,20))"
   ]
  },
  {
   "cell_type": "code",
   "execution_count": 46,
   "id": "complete-upset",
   "metadata": {},
   "outputs": [
    {
     "data": {
      "text/plain": [
       "<seaborn.axisgrid.FacetGrid at 0x279f0e20>"
      ]
     },
     "execution_count": 46,
     "metadata": {},
     "output_type": "execute_result"
    },
    {
     "data": {
      "image/png": "[encoded data removed]",
      "text/plain": [
       "<Figure size 360x360 with 1 Axes>"
      ]
     },
     "metadata": {
      "needs_background": "light"
     },
     "output_type": "display_data"
    }
   ],
   "source": [
    "sns.displot(df['GPU clock(MHz)'])"
   ]
  },
  {
   "cell_type": "code",
   "execution_count": null,
   "id": "veterinary-maintenance",
   "metadata": {},
   "outputs": [],
   "source": [
    "fig = px.pie(df, values=df['Bus'], names=df['Bus'].index, title='Population of European continent')\n",
    "fig.show()"
   ]
  },
  {
   "cell_type": "code",
   "execution_count": null,
   "id": "attached-learning",
   "metadata": {},
   "outputs": [],
   "source": []
  },
  {
   "cell_type": "code",
   "execution_count": 17,
   "id": "empty-channel",
   "metadata": {
    "scrolled": true
   },
   "outputs": [
    {
     "data": {
      "text/html": [
       "<div>\n",
       "<style scoped>\n",
       "    .dataframe tbody tr th:only-of-type {\n",
       "        vertical-align: middle;\n",
       "    }\n",
       "\n",
       "    .dataframe tbody tr th {\n",
       "        vertical-align: top;\n",
       "    }\n",
       "\n",
       "    .dataframe thead th {\n",
       "        text-align: right;\n",
       "    }\n",
       "</style>\n",
       "<table border=\"1\" class=\"dataframe\">\n",
       "  <thead>\n",
       "    <tr style=\"text-align: right;\">\n",
       "      <th></th>\n",
       "      <th>0</th>\n",
       "      <th>1</th>\n",
       "      <th>2</th>\n",
       "    </tr>\n",
       "  </thead>\n",
       "  <tbody>\n",
       "    <tr>\n",
       "      <th>0</th>\n",
       "      <td>Jan</td>\n",
       "      <td>12th,</td>\n",
       "      <td>2021</td>\n",
       "    </tr>\n",
       "    <tr>\n",
       "      <th>1</th>\n",
       "      <td>Sep</td>\n",
       "      <td>1st,</td>\n",
       "      <td>2020</td>\n",
       "    </tr>\n",
       "    <tr>\n",
       "      <th>2</th>\n",
       "      <td>Dec</td>\n",
       "      <td>1st,</td>\n",
       "      <td>2020</td>\n",
       "    </tr>\n",
       "    <tr>\n",
       "      <th>3</th>\n",
       "      <td>Sep</td>\n",
       "      <td>1st,</td>\n",
       "      <td>2020</td>\n",
       "    </tr>\n",
       "    <tr>\n",
       "      <th>4</th>\n",
       "      <td>Oct</td>\n",
       "      <td>25th,</td>\n",
       "      <td>2016</td>\n",
       "    </tr>\n",
       "    <tr>\n",
       "      <th>5</th>\n",
       "      <td>Sep</td>\n",
       "      <td>1st,</td>\n",
       "      <td>2020</td>\n",
       "    </tr>\n",
       "    <tr>\n",
       "      <th>6</th>\n",
       "      <td>Jul</td>\n",
       "      <td>30th,</td>\n",
       "      <td>2021</td>\n",
       "    </tr>\n",
       "    <tr>\n",
       "      <th>7</th>\n",
       "      <td>Sep</td>\n",
       "      <td>19th,</td>\n",
       "      <td>2014</td>\n",
       "    </tr>\n",
       "    <tr>\n",
       "      <th>8</th>\n",
       "      <td>May</td>\n",
       "      <td>31st,</td>\n",
       "      <td>2021</td>\n",
       "    </tr>\n",
       "    <tr>\n",
       "      <th>9</th>\n",
       "      <td>Jan</td>\n",
       "      <td>22nd,</td>\n",
       "      <td>2015</td>\n",
       "    </tr>\n",
       "    <tr>\n",
       "      <th>10</th>\n",
       "      <td>Jan</td>\n",
       "      <td>7th,</td>\n",
       "      <td>2019</td>\n",
       "    </tr>\n",
       "    <tr>\n",
       "      <th>11</th>\n",
       "      <td>Apr</td>\n",
       "      <td>23rd,</td>\n",
       "      <td>2019</td>\n",
       "    </tr>\n",
       "    <tr>\n",
       "      <th>12</th>\n",
       "      <td>Feb</td>\n",
       "      <td>18th,</td>\n",
       "      <td>2014</td>\n",
       "    </tr>\n",
       "    <tr>\n",
       "      <th>13</th>\n",
       "      <td>Jun</td>\n",
       "      <td>10th,</td>\n",
       "      <td>2016</td>\n",
       "    </tr>\n",
       "    <tr>\n",
       "      <th>14</th>\n",
       "      <td>Jul</td>\n",
       "      <td>19th,</td>\n",
       "      <td>2016</td>\n",
       "    </tr>\n",
       "    <tr>\n",
       "      <th>15</th>\n",
       "      <td>Oct</td>\n",
       "      <td>13th,</td>\n",
       "      <td>2021</td>\n",
       "    </tr>\n",
       "    <tr>\n",
       "      <th>16</th>\n",
       "      <td>May</td>\n",
       "      <td>17th,</td>\n",
       "      <td>2017</td>\n",
       "    </tr>\n",
       "    <tr>\n",
       "      <th>17</th>\n",
       "      <td>May</td>\n",
       "      <td>31st,</td>\n",
       "      <td>2021</td>\n",
       "    </tr>\n",
       "    <tr>\n",
       "      <th>18</th>\n",
       "      <td>Apr</td>\n",
       "      <td>18th,</td>\n",
       "      <td>2017</td>\n",
       "    </tr>\n",
       "    <tr>\n",
       "      <th>19</th>\n",
       "      <td>Mar</td>\n",
       "      <td>10th,</td>\n",
       "      <td>2017</td>\n",
       "    </tr>\n",
       "    <tr>\n",
       "      <th>20</th>\n",
       "      <td>Oct</td>\n",
       "      <td>28th,</td>\n",
       "      <td>2020</td>\n",
       "    </tr>\n",
       "    <tr>\n",
       "      <th>21</th>\n",
       "      <td>Apr</td>\n",
       "      <td>18th,</td>\n",
       "      <td>2017</td>\n",
       "    </tr>\n",
       "    <tr>\n",
       "      <th>22</th>\n",
       "      <td>Mar</td>\n",
       "      <td>3rd,</td>\n",
       "      <td>2021</td>\n",
       "    </tr>\n",
       "    <tr>\n",
       "      <th>23</th>\n",
       "      <td>Oct</td>\n",
       "      <td>29th,</td>\n",
       "      <td>2019</td>\n",
       "    </tr>\n",
       "    <tr>\n",
       "      <th>24</th>\n",
       "      <td>May</td>\n",
       "      <td>27th,</td>\n",
       "      <td>2016</td>\n",
       "    </tr>\n",
       "    <tr>\n",
       "      <th>25</th>\n",
       "      <td>Mar</td>\n",
       "      <td>15th,</td>\n",
       "      <td>2011</td>\n",
       "    </tr>\n",
       "    <tr>\n",
       "      <th>26</th>\n",
       "      <td>Oct</td>\n",
       "      <td>12th,</td>\n",
       "      <td>2009</td>\n",
       "    </tr>\n",
       "    <tr>\n",
       "      <th>27</th>\n",
       "      <td>Feb</td>\n",
       "      <td>22nd,</td>\n",
       "      <td>2019</td>\n",
       "    </tr>\n",
       "    <tr>\n",
       "      <th>28</th>\n",
       "      <td>Oct</td>\n",
       "      <td>25th,</td>\n",
       "      <td>2016</td>\n",
       "    </tr>\n",
       "    <tr>\n",
       "      <th>29</th>\n",
       "      <td>Sep</td>\n",
       "      <td>20th,</td>\n",
       "      <td>2018</td>\n",
       "    </tr>\n",
       "    <tr>\n",
       "      <th>30</th>\n",
       "      <td>2022</td>\n",
       "      <td>None</td>\n",
       "      <td>None</td>\n",
       "    </tr>\n",
       "    <tr>\n",
       "      <th>31</th>\n",
       "      <td>Jun</td>\n",
       "      <td>18th,</td>\n",
       "      <td>2014</td>\n",
       "    </tr>\n",
       "    <tr>\n",
       "      <th>32</th>\n",
       "      <td>Jun</td>\n",
       "      <td>25th,</td>\n",
       "      <td>2013</td>\n",
       "    </tr>\n",
       "    <tr>\n",
       "      <th>33</th>\n",
       "      <td>Nov</td>\n",
       "      <td>22nd,</td>\n",
       "      <td>2019</td>\n",
       "    </tr>\n",
       "    <tr>\n",
       "      <th>34</th>\n",
       "      <td>Jun</td>\n",
       "      <td>2nd,</td>\n",
       "      <td>2015</td>\n",
       "    </tr>\n",
       "    <tr>\n",
       "      <th>35</th>\n",
       "      <td>Apr</td>\n",
       "      <td>18th,</td>\n",
       "      <td>2017</td>\n",
       "    </tr>\n",
       "    <tr>\n",
       "      <th>36</th>\n",
       "      <td>Apr</td>\n",
       "      <td>20th,</td>\n",
       "      <td>2017</td>\n",
       "    </tr>\n",
       "    <tr>\n",
       "      <th>37</th>\n",
       "      <td>Jan</td>\n",
       "      <td>12th,</td>\n",
       "      <td>2021</td>\n",
       "    </tr>\n",
       "    <tr>\n",
       "      <th>38</th>\n",
       "      <td>Sep</td>\n",
       "      <td>6th,</td>\n",
       "      <td>2012</td>\n",
       "    </tr>\n",
       "    <tr>\n",
       "      <th>39</th>\n",
       "      <td>Sep</td>\n",
       "      <td>20th,</td>\n",
       "      <td>2018</td>\n",
       "    </tr>\n",
       "    <tr>\n",
       "      <th>40</th>\n",
       "      <td>Mar</td>\n",
       "      <td>14th,</td>\n",
       "      <td>2019</td>\n",
       "    </tr>\n",
       "    <tr>\n",
       "      <th>41</th>\n",
       "      <td>Mar</td>\n",
       "      <td>27th,</td>\n",
       "      <td>2014</td>\n",
       "    </tr>\n",
       "    <tr>\n",
       "      <th>42</th>\n",
       "      <td>Jul</td>\n",
       "      <td>9th,</td>\n",
       "      <td>2019</td>\n",
       "    </tr>\n",
       "    <tr>\n",
       "      <th>43</th>\n",
       "      <td>Jul</td>\n",
       "      <td>7th,</td>\n",
       "      <td>2019</td>\n",
       "    </tr>\n",
       "    <tr>\n",
       "      <th>44</th>\n",
       "      <td>Aug</td>\n",
       "      <td>20th,</td>\n",
       "      <td>2015</td>\n",
       "    </tr>\n",
       "    <tr>\n",
       "      <th>46</th>\n",
       "      <td>Sep</td>\n",
       "      <td>13th,</td>\n",
       "      <td>2010</td>\n",
       "    </tr>\n",
       "    <tr>\n",
       "      <th>47</th>\n",
       "      <td>Oct</td>\n",
       "      <td>17th,</td>\n",
       "      <td>2018</td>\n",
       "    </tr>\n",
       "    <tr>\n",
       "      <th>48</th>\n",
       "      <td>Sep</td>\n",
       "      <td>6th,</td>\n",
       "      <td>2012</td>\n",
       "    </tr>\n",
       "    <tr>\n",
       "      <th>49</th>\n",
       "      <td>Oct</td>\n",
       "      <td>28th,</td>\n",
       "      <td>2020</td>\n",
       "    </tr>\n",
       "  </tbody>\n",
       "</table>\n",
       "</div>"
      ],
      "text/plain": [
       "       0      1     2\n",
       "0    Jan  12th,  2021\n",
       "1    Sep   1st,  2020\n",
       "2    Dec   1st,  2020\n",
       "3    Sep   1st,  2020\n",
       "4    Oct  25th,  2016\n",
       "5    Sep   1st,  2020\n",
       "6    Jul  30th,  2021\n",
       "7    Sep  19th,  2014\n",
       "8    May  31st,  2021\n",
       "9    Jan  22nd,  2015\n",
       "10   Jan   7th,  2019\n",
       "11   Apr  23rd,  2019\n",
       "12   Feb  18th,  2014\n",
       "13   Jun  10th,  2016\n",
       "14   Jul  19th,  2016\n",
       "15   Oct  13th,  2021\n",
       "16   May  17th,  2017\n",
       "17   May  31st,  2021\n",
       "18   Apr  18th,  2017\n",
       "19   Mar  10th,  2017\n",
       "20   Oct  28th,  2020\n",
       "21   Apr  18th,  2017\n",
       "22   Mar   3rd,  2021\n",
       "23   Oct  29th,  2019\n",
       "24   May  27th,  2016\n",
       "25   Mar  15th,  2011\n",
       "26   Oct  12th,  2009\n",
       "27   Feb  22nd,  2019\n",
       "28   Oct  25th,  2016\n",
       "29   Sep  20th,  2018\n",
       "30  2022   None  None\n",
       "31   Jun  18th,  2014\n",
       "32   Jun  25th,  2013\n",
       "33   Nov  22nd,  2019\n",
       "34   Jun   2nd,  2015\n",
       "35   Apr  18th,  2017\n",
       "36   Apr  20th,  2017\n",
       "37   Jan  12th,  2021\n",
       "38   Sep   6th,  2012\n",
       "39   Sep  20th,  2018\n",
       "40   Mar  14th,  2019\n",
       "41   Mar  27th,  2014\n",
       "42   Jul   9th,  2019\n",
       "43   Jul   7th,  2019\n",
       "44   Aug  20th,  2015\n",
       "46   Sep  13th,  2010\n",
       "47   Oct  17th,  2018\n",
       "48   Sep   6th,  2012\n",
       "49   Oct  28th,  2020"
      ]
     },
     "execution_count": 17,
     "metadata": {},
     "output_type": "execute_result"
    }
   ],
   "source": [
    "df[\"Released\"].str.split(' ', expand=True)"
   ]
  },
  {
   "cell_type": "code",
   "execution_count": 18,
   "id": "documentary-mayor",
   "metadata": {
    "scrolled": true
   },
   "outputs": [
    {
     "name": "stdout",
     "output_type": "stream",
     "text": [
      "2021\n",
      "2020\n",
      "2020\n",
      "2020\n",
      "2016\n",
      "2020\n",
      "2021\n",
      "2014\n",
      "2021\n",
      "2015\n",
      "2019\n",
      "2019\n",
      "2014\n",
      "2016\n",
      "2016\n",
      "2021\n",
      "2017\n",
      "2021\n",
      "2017\n",
      "2017\n",
      "2020\n",
      "2017\n",
      "2021\n",
      "2019\n",
      "2016\n",
      "2011\n",
      "2009\n",
      "2019\n",
      "2016\n",
      "2018\n",
      "2014\n",
      "2013\n",
      "2019\n",
      "2015\n",
      "2017\n",
      "2017\n",
      "2021\n",
      "2012\n",
      "2018\n",
      "2019\n",
      "2014\n",
      "2019\n",
      "2019\n",
      "2015\n",
      "2010\n",
      "2018\n",
      "2012\n",
      "2020\n"
     ]
    }
   ],
   "source": [
    "for i in df[\"Released\"].str.split(' ', expand=True)[2]:\n",
    "    if i == None:\n",
    "        continue\n",
    "    else:\n",
    "        print(i)"
   ]
  },
  {
   "cell_type": "code",
   "execution_count": 22,
   "id": "killing-morrison",
   "metadata": {},
   "outputs": [
    {
     "data": {
      "text/html": [
       "<div>\n",
       "<style scoped>\n",
       "    .dataframe tbody tr th:only-of-type {\n",
       "        vertical-align: middle;\n",
       "    }\n",
       "\n",
       "    .dataframe tbody tr th {\n",
       "        vertical-align: top;\n",
       "    }\n",
       "\n",
       "    .dataframe thead th {\n",
       "        text-align: right;\n",
       "    }\n",
       "</style>\n",
       "<table border=\"1\" class=\"dataframe\">\n",
       "  <thead>\n",
       "    <tr style=\"text-align: right;\">\n",
       "      <th></th>\n",
       "      <th>0</th>\n",
       "      <th>1</th>\n",
       "      <th>2</th>\n",
       "    </tr>\n",
       "  </thead>\n",
       "  <tbody>\n",
       "    <tr>\n",
       "      <th>0</th>\n",
       "      <td>Jan</td>\n",
       "      <td>12th,</td>\n",
       "      <td>2021</td>\n",
       "    </tr>\n",
       "    <tr>\n",
       "      <th>1</th>\n",
       "      <td>Sep</td>\n",
       "      <td>1st,</td>\n",
       "      <td>2020</td>\n",
       "    </tr>\n",
       "    <tr>\n",
       "      <th>2</th>\n",
       "      <td>Dec</td>\n",
       "      <td>1st,</td>\n",
       "      <td>2020</td>\n",
       "    </tr>\n",
       "    <tr>\n",
       "      <th>3</th>\n",
       "      <td>Sep</td>\n",
       "      <td>1st,</td>\n",
       "      <td>2020</td>\n",
       "    </tr>\n",
       "    <tr>\n",
       "      <th>4</th>\n",
       "      <td>Oct</td>\n",
       "      <td>25th,</td>\n",
       "      <td>2016</td>\n",
       "    </tr>\n",
       "  </tbody>\n",
       "</table>\n",
       "</div>"
      ],
      "text/plain": [
       "     0      1     2\n",
       "0  Jan  12th,  2021\n",
       "1  Sep   1st,  2020\n",
       "2  Dec   1st,  2020\n",
       "3  Sep   1st,  2020\n",
       "4  Oct  25th,  2016"
      ]
     },
     "execution_count": 22,
     "metadata": {},
     "output_type": "execute_result"
    }
   ],
   "source": [
    "df[\"Released\"].str.split(' ', expand=True).head()"
   ]
  },
  {
   "cell_type": "code",
   "execution_count": null,
   "id": "derived-brick",
   "metadata": {},
   "outputs": [],
   "source": []
  },
  {
   "cell_type": "code",
   "execution_count": 20,
   "id": "coated-kruger",
   "metadata": {},
   "outputs": [],
   "source": [
    "# If bus is PCIe = 4.0 x 16, then we know its a relatively modern and competible GPU"
   ]
  },
  {
   "cell_type": "code",
   "execution_count": 21,
   "id": "private-feedback",
   "metadata": {},
   "outputs": [],
   "source": [
    "# logistic, KNN or clustering for determing which gpu is modern/relevant \n",
    "# Maybe implement a "
   ]
  },
  {
   "cell_type": "code",
   "execution_count": null,
   "id": "brown-shareware",
   "metadata": {},
   "outputs": [],
   "source": []
  },
  {
   "cell_type": "code",
   "execution_count": null,
   "id": "convenient-fourth",
   "metadata": {},
   "outputs": [],
   "source": []
  },
  {
   "cell_type": "code",
   "execution_count": null,
   "id": "dress-annex",
   "metadata": {},
   "outputs": [],
   "source": []
  },
  {
   "cell_type": "code",
   "execution_count": null,
   "id": "official-details",
   "metadata": {},
   "outputs": [],
   "source": []
  },
  {
   "cell_type": "code",
   "execution_count": 11,
   "id": "proud-shelter",
   "metadata": {},
   "outputs": [],
   "source": [
    "model = LogisticRegression(solver='liblinear', random_state=0)"
   ]
  },
  {
   "cell_type": "code",
   "execution_count": null,
   "id": "royal-registration",
   "metadata": {},
   "outputs": [],
   "source": []
  },
  {
   "cell_type": "code",
   "execution_count": null,
   "id": "formed-february",
   "metadata": {},
   "outputs": [],
   "source": []
  }
 ],
 "metadata": {
  "kernelspec": {
   "display_name": "Python 3",
   "language": "python",
   "name": "python3"
  },
  "language_info": {
   "codemirror_mode": {
    "name": "ipython",
    "version": 3
   },
   "file_extension": ".py",
   "mimetype": "text/x-python",
   "name": "python",
   "nbconvert_exporter": "python",
   "pygments_lexer": "ipython3",
   "version": "3.8.2"
  }
 },
 "nbformat": 4,
 "nbformat_minor": 5
}
